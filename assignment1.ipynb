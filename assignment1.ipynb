{
 "cells": [
  {
   "attachments": {},
   "cell_type": "markdown",
   "metadata": {},
   "source": [
    "## Data Manipulation module\n",
    "### Homework assignment 1\n",
    "\n",
    "Welcome to the first homework assignment of the data manipulation module. In this assignment you will be working with NumPy and Pandas Series. The goal of this assignment is to get you familiar with these libraries and data types.\n",
    "\n",
    "### Instructions\n",
    "Read the exercises carefully and implement the requested functionality. Add your code in the cells provided with `YOUR CODE HERE` or `YOUR ANSWER HERE`. You can add cells if you need to. **Make sure to use NumPy methods** to find your answers. In some cases you might be able to read the answer, but we want to see you using the NumPy methods.\n",
    "\n",
    "### Hand-in\n",
    "To hand in your assignment, fork this notebook and commit your changes, then make a pull request to the original repository. The deadline for handing in the assignment is **Wednesday 10-05 23:59**."
   ]
  },
  {
   "cell_type": "code",
   "execution_count": 1,
   "metadata": {},
   "outputs": [],
   "source": [
    "# imports, no need to edit\n",
    "\n",
    "import numpy as np\n",
    "import pandas as pd\n",
    "\n",
    "np.random.seed(42)"
   ]
  },
  {
   "attachments": {},
   "cell_type": "markdown",
   "metadata": {},
   "source": [
    "1. Explain the difference between a vector and matrix in NumPy in one sentence."
   ]
  },
  {
   "attachments": {},
   "cell_type": "markdown",
   "metadata": {},
   "source": [
    "YOUR ANSWER HERE\n",
    "A vector is an array with a single dimension (there's no difference between row and column vectors), while a matrix refers to an array with two dimensions"
   ]
  },
  {
   "attachments": {},
   "cell_type": "markdown",
   "metadata": {},
   "source": [
    "2. Construct a NumPy Array from a list of 10 elements."
   ]
  },
  {
   "cell_type": "code",
   "execution_count": 3,
   "metadata": {},
   "outputs": [
    {
     "name": "stdout",
     "output_type": "stream",
     "text": [
      "range(0, 10)\n"
     ]
    }
   ],
   "source": [
    "# YOUR CODE HERE\n",
    "list1 = range(10)\n",
    "matrix = np.array(list1)\n",
    "print(list1)"
   ]
  },
  {
   "attachments": {},
   "cell_type": "markdown",
   "metadata": {},
   "source": [
    "3. Construct a 10x10 matrix filled with '0's of the integer data type."
   ]
  },
  {
   "cell_type": "code",
   "execution_count": 10,
   "metadata": {},
   "outputs": [
    {
     "name": "stdout",
     "output_type": "stream",
     "text": [
      "int32\n"
     ]
    },
    {
     "data": {
      "text/plain": [
       "array([[0, 0, 0, 0, 0, 0, 0, 0, 0, 0],\n",
       "       [0, 0, 0, 0, 0, 0, 0, 0, 0, 0],\n",
       "       [0, 0, 0, 0, 0, 0, 0, 0, 0, 0],\n",
       "       [0, 0, 0, 0, 0, 0, 0, 0, 0, 0],\n",
       "       [0, 0, 0, 0, 0, 0, 0, 0, 0, 0],\n",
       "       [0, 0, 0, 0, 0, 0, 0, 0, 0, 0],\n",
       "       [0, 0, 0, 0, 0, 0, 0, 0, 0, 0],\n",
       "       [0, 0, 0, 0, 0, 0, 0, 0, 0, 0],\n",
       "       [0, 0, 0, 0, 0, 0, 0, 0, 0, 0],\n",
       "       [0, 0, 0, 0, 0, 0, 0, 0, 0, 0]])"
      ]
     },
     "execution_count": 10,
     "metadata": {},
     "output_type": "execute_result"
    }
   ],
   "source": [
    "# YOUR CODE HERE\n",
    "matrix = np.zeros((10,10))\n",
    "matrix = matrix.astype(int)\n",
    "print(matrix.dtype)\n",
    "matrix"
   ]
  },
  {
   "attachments": {},
   "cell_type": "markdown",
   "metadata": {},
   "source": [
    "4. Construct a 10x10 matrix filled with '1's, data type float."
   ]
  },
  {
   "cell_type": "code",
   "execution_count": 11,
   "metadata": {},
   "outputs": [
    {
     "name": "stdout",
     "output_type": "stream",
     "text": [
      "float64\n"
     ]
    },
    {
     "data": {
      "text/plain": [
       "array([[1., 1., 1., 1., 1., 1., 1., 1., 1., 1.],\n",
       "       [1., 1., 1., 1., 1., 1., 1., 1., 1., 1.],\n",
       "       [1., 1., 1., 1., 1., 1., 1., 1., 1., 1.],\n",
       "       [1., 1., 1., 1., 1., 1., 1., 1., 1., 1.],\n",
       "       [1., 1., 1., 1., 1., 1., 1., 1., 1., 1.],\n",
       "       [1., 1., 1., 1., 1., 1., 1., 1., 1., 1.],\n",
       "       [1., 1., 1., 1., 1., 1., 1., 1., 1., 1.],\n",
       "       [1., 1., 1., 1., 1., 1., 1., 1., 1., 1.],\n",
       "       [1., 1., 1., 1., 1., 1., 1., 1., 1., 1.],\n",
       "       [1., 1., 1., 1., 1., 1., 1., 1., 1., 1.]])"
      ]
     },
     "execution_count": 11,
     "metadata": {},
     "output_type": "execute_result"
    }
   ],
   "source": [
    "# YOUR CODE HERE\n",
    "matrix = np.ones((10,10))\n",
    "print(matrix.dtype)\n",
    "matrix"
   ]
  },
  {
   "attachments": {},
   "cell_type": "markdown",
   "metadata": {},
   "source": [
    "5. Construct a 10x10 matrix filled with '9's of the integer data type."
   ]
  },
  {
   "cell_type": "code",
   "execution_count": 13,
   "metadata": {},
   "outputs": [
    {
     "name": "stdout",
     "output_type": "stream",
     "text": [
      "int32\n"
     ]
    },
    {
     "data": {
      "text/plain": [
       "array([[9, 9, 9, 9, 9, 9, 9, 9, 9, 9],\n",
       "       [9, 9, 9, 9, 9, 9, 9, 9, 9, 9],\n",
       "       [9, 9, 9, 9, 9, 9, 9, 9, 9, 9],\n",
       "       [9, 9, 9, 9, 9, 9, 9, 9, 9, 9],\n",
       "       [9, 9, 9, 9, 9, 9, 9, 9, 9, 9],\n",
       "       [9, 9, 9, 9, 9, 9, 9, 9, 9, 9],\n",
       "       [9, 9, 9, 9, 9, 9, 9, 9, 9, 9],\n",
       "       [9, 9, 9, 9, 9, 9, 9, 9, 9, 9],\n",
       "       [9, 9, 9, 9, 9, 9, 9, 9, 9, 9],\n",
       "       [9, 9, 9, 9, 9, 9, 9, 9, 9, 9]])"
      ]
     },
     "execution_count": 13,
     "metadata": {},
     "output_type": "execute_result"
    }
   ],
   "source": [
    "# YOUR CODE HERE\n",
    "matrix = np.ones((10,10))\n",
    "matrix = matrix * 9 \n",
    "matrix = matrix.astype(int)\n",
    "print(matrix.dtype)\n",
    "matrix"
   ]
  },
  {
   "attachments": {},
   "cell_type": "markdown",
   "metadata": {},
   "source": [
    "6. Construct a one-dimensional array with values between 5 and 25 that jumps with steps of 3 (`[5, 8, ...]`)"
   ]
  },
  {
   "cell_type": "code",
   "execution_count": 15,
   "metadata": {},
   "outputs": [
    {
     "data": {
      "text/plain": [
       "array([ 5,  8, 11, 14, 17, 20, 23])"
      ]
     },
     "execution_count": 15,
     "metadata": {},
     "output_type": "execute_result"
    }
   ],
   "source": [
    "# YOUR CODE HERE\n",
    "array = range(5,25,3)\n",
    "array = np.array(array)\n",
    "array"
   ]
  },
  {
   "attachments": {},
   "cell_type": "markdown",
   "metadata": {},
   "source": [
    "7. Create an array of size 30 with evenly spaced values between -1 and 1."
   ]
  },
  {
   "cell_type": "code",
   "execution_count": 44,
   "metadata": {},
   "outputs": [
    {
     "name": "stdout",
     "output_type": "stream",
     "text": [
      "[[ 0.          0.         -1.          0.          1.          0.        ]\n",
      " [ 0.33333333  1.33333333  0.33333333 -0.66666667 -0.66666667 -0.66666667]\n",
      " [ 0.66666667 -0.33333333 -1.33333333  0.66666667 -0.33333333  0.66666667]\n",
      " [-0.66666667 -0.66666667 -0.66666667  1.33333333  1.33333333 -0.66666667]\n",
      " [ 1.16666667 -0.83333333 -0.83333333  0.16666667  1.16666667 -0.83333333]]\n"
     ]
    }
   ],
   "source": [
    "\n",
    "x=np.random.randint(3, size=(5,6))\n",
    "x1 = x.mean(axis=1)\n",
    "x2 = x - x1.reshape(-1,1)\n",
    "print(x2)"
   ]
  },
  {
   "attachments": {},
   "cell_type": "markdown",
   "metadata": {},
   "source": [
    "8. Construct a 5x6 matrix with integers from 0 to 30."
   ]
  },
  {
   "cell_type": "code",
   "execution_count": 51,
   "metadata": {},
   "outputs": [
    {
     "data": {
      "text/plain": [
       "array([[ 0,  1,  2,  3,  4,  5],\n",
       "       [ 6,  7,  8,  9, 10, 11],\n",
       "       [12, 13, 14, 15, 16, 17],\n",
       "       [18, 19, 20, 21, 22, 23],\n",
       "       [24, 25, 26, 27, 28, 29]])"
      ]
     },
     "execution_count": 51,
     "metadata": {},
     "output_type": "execute_result"
    }
   ],
   "source": [
    "# YOUR CODE HERE\n",
    "# array = np.random.randint(0,30 ,size=(5 , 6))\n",
    "# array\n",
    "array = np.arange(30)\n",
    "array = array.reshape(5,6)\n",
    "array"
   ]
  },
  {
   "attachments": {},
   "cell_type": "markdown",
   "metadata": {},
   "source": [
    "9. Create an array of 30 random integers and sort it in ascending order."
   ]
  },
  {
   "cell_type": "code",
   "execution_count": 52,
   "metadata": {},
   "outputs": [
    {
     "name": "stdout",
     "output_type": "stream",
     "text": [
      "[12 11 94 45  1 34 86 80 89  7 92 25 73 89 33  6 67 57 74 28 35 88 20 35\n",
      "  9 72 23 63 98 48]\n",
      "[ 1  6  7  9 11 12 20 23 25 28 33 34 35 35 45 48 57 63 67 72 73 74 80 86\n",
      " 88 89 89 92 94 98]\n"
     ]
    }
   ],
   "source": [
    "# YOUR CODE HERE\n",
    "array = np.random.randint(100, size=(30))\n",
    "print(array)\n",
    "print(np.sort(array))"
   ]
  },
  {
   "attachments": {},
   "cell_type": "markdown",
   "metadata": {},
   "source": [
    "10. Construct a 5x10 matrix filled with the value 1 at each location. Print the following details about this matrix:\n",
    "- number of elements\n",
    "- shape of the matrix\n",
    "- the data type (using numpy methods)\n"
   ]
  },
  {
   "cell_type": "code",
   "execution_count": 59,
   "metadata": {},
   "outputs": [
    {
     "name": "stdout",
     "output_type": "stream",
     "text": [
      "[[1. 1. 1. 1. 1. 1. 1. 1. 1. 1.]\n",
      " [1. 1. 1. 1. 1. 1. 1. 1. 1. 1.]\n",
      " [1. 1. 1. 1. 1. 1. 1. 1. 1. 1.]\n",
      " [1. 1. 1. 1. 1. 1. 1. 1. 1. 1.]\n",
      " [1. 1. 1. 1. 1. 1. 1. 1. 1. 1.]]\n",
      "50\n",
      "(5, 10)\n",
      "float64\n"
     ]
    }
   ],
   "source": [
    "# YOUR CODE HERE\n",
    "array = np.ones((5,10))\n",
    "print(array)\n",
    "print(array.size)\n",
    "print(array.shape)\n",
    "print(array.dtype)"
   ]
  },
  {
   "attachments": {},
   "cell_type": "markdown",
   "metadata": {},
   "source": [
    "11. Construct a 3x4x7 matrix with random integer values between 0 and 10 (a 3D matrix will be created).\n"
   ]
  },
  {
   "cell_type": "code",
   "execution_count": 67,
   "metadata": {},
   "outputs": [
    {
     "name": "stdout",
     "output_type": "stream",
     "text": [
      "int32\n",
      "(3, 4, 7)\n"
     ]
    },
    {
     "data": {
      "text/plain": [
       "array([[[5, 3, 9, 1, 7, 5, 4],\n",
       "        [8, 0, 4, 5, 4, 5, 5],\n",
       "        [6, 3, 7, 6, 8, 6, 2],\n",
       "        [2, 7, 4, 3, 7, 5, 1]],\n",
       "\n",
       "       [[3, 3, 5, 5, 0, 7, 5],\n",
       "        [2, 8, 1, 7, 9, 2, 4],\n",
       "        [5, 9, 5, 3, 2, 3, 0],\n",
       "        [3, 0, 0, 9, 5, 4, 3]],\n",
       "\n",
       "       [[2, 0, 5, 1, 7, 9, 4],\n",
       "        [6, 9, 1, 7, 1, 3, 0],\n",
       "        [4, 8, 0, 8, 7, 5, 6],\n",
       "        [2, 0, 4, 1, 4, 7, 8]]])"
      ]
     },
     "execution_count": 67,
     "metadata": {},
     "output_type": "execute_result"
    }
   ],
   "source": [
    "# YOUR CODE HERE\n",
    "matrix = np.random.randint(10,size=(3,4,7))\n",
    "print(matrix.dtype)\n",
    "print(matrix.shape)\n",
    "matrix"
   ]
  },
  {
   "attachments": {},
   "cell_type": "markdown",
   "metadata": {},
   "source": [
    "12. Create an array of 20 random integers and reshape it into a 4x5 matrix."
   ]
  },
  {
   "cell_type": "code",
   "execution_count": 73,
   "metadata": {},
   "outputs": [
    {
     "name": "stdout",
     "output_type": "stream",
     "text": [
      "(4, 5)\n"
     ]
    },
    {
     "data": {
      "text/plain": [
       "array([[ 9,  0,  5, 12, 14],\n",
       "       [ 3, 12, 19, 14,  7],\n",
       "       [ 4, 14,  3, 11, 12],\n",
       "       [ 1, 18, 18,  3,  3]])"
      ]
     },
     "execution_count": 73,
     "metadata": {},
     "output_type": "execute_result"
    }
   ],
   "source": [
    "# YOUR CODE HERE\n",
    "\n",
    "random_array = np.random.randint(0,20,20)\n",
    "random_array = random_array.reshape(4,5)\n",
    "print(random_array.shape)\n",
    "random_array\n"
   ]
  },
  {
   "attachments": {},
   "cell_type": "markdown",
   "metadata": {},
   "source": [
    "13. Construct a one-dimensional array by concetanating 4 separate one-dimensional arrays."
   ]
  },
  {
   "cell_type": "code",
   "execution_count": 89,
   "metadata": {},
   "outputs": [
    {
     "name": "stdout",
     "output_type": "stream",
     "text": [
      "(4,)\n",
      "[0 1 2 3] [0 1 2 3] [0 1 2 3] [0 1 2 3]\n",
      "[0 1 2 3 0 1 2 3 0 1 2 3 0 1 2 3]\n"
     ]
    }
   ],
   "source": [
    "# YOUR CODE HERE\n",
    "\n",
    "list1 = range(4)\n",
    "array1 = np.array((list1))\n",
    "array2 = np.array((list1))\n",
    "array3 = np.array((list1))\n",
    "array4 = np.array((list1))\n",
    "print(array1.shape)\n",
    "print(array1, array2,array3,array4)\n",
    "print(np.concatenate((array1,array2,array3,array4),axis=0))"
   ]
  },
  {
   "attachments": {},
   "cell_type": "markdown",
   "metadata": {},
   "source": []
  },
  {
   "attachments": {},
   "cell_type": "markdown",
   "metadata": {},
   "source": [
    "14. Create a vector of length 3 (3x1) and a matrix of size 3x3. Combine these two arrays on a\n",
    "    column-by-column basis using numpy methods.\n"
   ]
  },
  {
   "cell_type": "code",
   "execution_count": 98,
   "metadata": {},
   "outputs": [
    {
     "name": "stdout",
     "output_type": "stream",
     "text": [
      "[[1 4 7 0]\n",
      " [2 0 5 9]\n",
      " [3 1 4 0]]\n",
      "(3, 4)\n"
     ]
    }
   ],
   "source": [
    "a = np.array([1, 2, 3]).reshape(-1, 1)\n",
    "b = np.random.randint(0, 10, (3, 3))\n",
    "c = np.concatenate((a,b),axis=1)\n",
    "print(c)"
   ]
  },
  {
   "cell_type": "code",
   "execution_count": 11,
   "metadata": {},
   "outputs": [
    {
     "data": {
      "text/plain": [
       "5"
      ]
     },
     "execution_count": 11,
     "metadata": {},
     "output_type": "execute_result"
    }
   ],
   "source": [
    "np.argmax(b)"
   ]
  },
  {
   "attachments": {},
   "cell_type": "markdown",
   "metadata": {},
   "source": [
    "15. What is the difference between \"axis=1\" and \"axis=0\" in Numpy functions? "
   ]
  },
  {
   "attachments": {},
   "cell_type": "markdown",
   "metadata": {},
   "source": [
    "YOUR ANSWER HERE\n",
    "\n",
    "the first running vertically downwards across rows (axis 0), and the second running horizontally across columns (axis 1)."
   ]
  },
  {
   "attachments": {},
   "cell_type": "markdown",
   "metadata": {},
   "source": [
    "16. Create a random 1D vector with 20 elements. Find the 3rd, 5th and 7th elements of this vector.\n"
   ]
  },
  {
   "cell_type": "code",
   "execution_count": 132,
   "metadata": {},
   "outputs": [
    {
     "name": "stdout",
     "output_type": "stream",
     "text": [
      "12 5 15\n"
     ]
    },
    {
     "data": {
      "text/plain": [
       "array([ 1,  7, 12, 12,  0,  5, 18, 15,  7,  0, 15,  8, 12, 10, 12,  9,  3,\n",
       "        5,  6,  4])"
      ]
     },
     "execution_count": 132,
     "metadata": {},
     "output_type": "execute_result"
    }
   ],
   "source": [
    "# YOUR CODE HERE\n",
    "vector = np.random.randint(20,size=(20))\n",
    "vector\n",
    "print(vector[2],vector[5],vector[7])\n"
   ]
  },
  {
   "attachments": {},
   "cell_type": "markdown",
   "metadata": {},
   "source": [
    "17. Create a random vector with 10 elements and replace the 4th element of this array with a different number."
   ]
  },
  {
   "cell_type": "code",
   "execution_count": 149,
   "metadata": {},
   "outputs": [
    {
     "name": "stdout",
     "output_type": "stream",
     "text": [
      "[2 5 8 5 8 6 8 1 7 7]\n",
      "[2 5 8 8 8 6 8 1 7 7]\n"
     ]
    }
   ],
   "source": [
    "# YOUR CODE HERE\n",
    "vector = np.random.randint(10,size=(10))\n",
    "print(vector)\n",
    "vector[3] = 8\n",
    "print(vector)"
   ]
  },
  {
   "attachments": {},
   "cell_type": "markdown",
   "metadata": {},
   "source": [
    "18. Look up the concepts of *diagonal matrix* and *trace matrix* online and write a small explanation about what they are.\n"
   ]
  },
  {
   "attachments": {},
   "cell_type": "markdown",
   "metadata": {},
   "source": [
    "YOUR ANSWER HERE\n",
    "\n",
    "A diagonal matrix is a matrix (usually a square matrix of order n) filled with values on the main diagonal and zeros everywhere else.\n",
    "\n",
    "Trace of Matrix is the sum of main diagonal elements of the matrix.\n",
    "\n"
   ]
  },
  {
   "attachments": {},
   "cell_type": "markdown",
   "metadata": {},
   "source": [
    "19. Create a 5x5 diagonal matrix with elements of your choosing. What are the indexes of the diagonal?\n"
   ]
  },
  {
   "cell_type": "code",
   "execution_count": 160,
   "metadata": {},
   "outputs": [
    {
     "name": "stdout",
     "output_type": "stream",
     "text": [
      "[1 2 3 4 5]\n",
      "[[1 0 0 0 0]\n",
      " [0 2 0 0 0]\n",
      " [0 0 3 0 0]\n",
      " [0 0 0 4 0]\n",
      " [0 0 0 0 5]]\n",
      "(array([0, 1, 2, 3, 4]), array([0, 1, 2, 3, 4]))\n"
     ]
    }
   ],
   "source": [
    "# YOUR CODE HERE\n",
    "x = np.diag([1, 2, 3, 4, 5])\n",
    "print(x.diagonal())\n",
    "di = np.diag_indices(5)\n",
    "print(x)\n",
    "print(di)"
   ]
  },
  {
   "attachments": {},
   "cell_type": "markdown",
   "metadata": {},
   "source": [
    "20. Create a vector that ranges from 10 to 20. Print the values from the 3rd index to the last index.\n"
   ]
  },
  {
   "cell_type": "code",
   "execution_count": 165,
   "metadata": {},
   "outputs": [
    {
     "name": "stdout",
     "output_type": "stream",
     "text": [
      "[10 11 12 13 14 15 16 17 18 19]\n"
     ]
    },
    {
     "data": {
      "text/plain": [
       "array([12, 13, 14, 15, 16, 17, 18, 19])"
      ]
     },
     "execution_count": 165,
     "metadata": {},
     "output_type": "execute_result"
    }
   ],
   "source": [
    "# YOUR CODE HERE\n",
    "list1 = range(10 , 20)\n",
    "vector = np.array(list1)\n",
    "print(vector)\n",
    "vector[2:]"
   ]
  },
  {
   "attachments": {},
   "cell_type": "markdown",
   "metadata": {},
   "source": [
    "21. Construct a 10x10 matrix with random elements and perform the following indexing tasks on it. Each task should be a single indexing operation.\n",
    " - Retrieve column 5 of row 3. Moreover;\n",
    " - Retrieve all elements of column 5.\n",
    " - Retrieve the 2nd row of all columns.\n",
    " - Retrieve row 2 through 7 of all columns.\n",
    " - Retrieve values with row index 2 to 5 and column index 3 to 7.\n",
    " - Retrieve the values from row index 5 to the end and column index from the top to 4.\n",
    " - Replace the value corresponding to the 5th row and the 5th column with your year of birth."
   ]
  },
  {
   "cell_type": "code",
   "execution_count": 199,
   "metadata": {},
   "outputs": [
    {
     "name": "stdout",
     "output_type": "stream",
     "text": [
      "[[ 3 95 22 69 87 83 83 75 32 27]\n",
      " [ 7  0 36 62 21 69 20 95 34 78]\n",
      " [ 4 59 45 49 47  5 88 55 58 28]\n",
      " [70 76 17  1  7 74 96 53 37 47]\n",
      " [26 19 11 42 60 30 90 95 60 73]\n",
      " [66 90 34 94 14 15 12 34 74 58]\n",
      " [20 53 74 29 47 34 85 37 30 77]\n",
      " [23 48 95 99 31 54 78 57 98  2]\n",
      " [79 68 84  9 82 24 67 60 28 18]\n",
      " [42 65 73 60 42 24 19 47 82 86]]\n",
      "11\n",
      "[87 21 47  7 60 14 47 31 82 42]\n",
      "[ 7  0 36 62 21 69 20 95 34 78]\n",
      "[[ 7  0 36 62 21 69 20 95 34 78]\n",
      " [ 4 59 45 49 47  5 88 55 58 28]\n",
      " [70 76 17  1  7 74 96 53 37 47]\n",
      " [26 19 11 42 60 30 90 95 60 73]\n",
      " [66 90 34 94 14 15 12 34 74 58]\n",
      " [20 53 74 29 47 34 85 37 30 77]]\n",
      "[[49 47  5 88]\n",
      " [ 1  7 74 96]\n",
      " [42 60 30 90]]\n",
      "[[66 90 34 94 14 15 12 34 74 58]\n",
      " [20 53 74 29 47 34 85 37 30 77]\n",
      " [23 48 95 99 31 54 78 57 98  2]\n",
      " [79 68 84  9 82 24 67 60 28 18]\n",
      " [42 65 73 60 42 24 19 47 82 86]]\n",
      "[[ 3 95 22 69]\n",
      " [ 7  0 36 62]\n",
      " [ 4 59 45 49]\n",
      " [70 76 17  1]\n",
      " [26 19 11 42]\n",
      " [66 90 34 94]\n",
      " [20 53 74 29]\n",
      " [23 48 95 99]\n",
      " [79 68 84  9]\n",
      " [42 65 73 60]]\n",
      "[4, 1, 2, 3, 4, 5, 6, 7, 8, 9]\n",
      "[1, 9, 9, 8, 0, 5, 0, 1, 0, 0]\n"
     ]
    }
   ],
   "source": [
    "# YOUR CODE HERE\n",
    "matrix = np.random.randint(100 , size=(10,10))\n",
    "print(matrix)\n",
    "print(matrix[4,2])\n",
    "print(matrix[:,4])\n",
    "print(matrix[1,:])\n",
    "print(matrix[1:7,:])\n",
    "print(matrix[2:5,3:7])\n",
    "print(matrix[5:,:])\n",
    "print(matrix[:,:4])\n",
    "x = matrix[5,:] = [4,1,2,3,4,5,6,7,8,9]\n",
    "print(x)\n",
    "y = matrix[:,5] = [1,9,9,8,0,5,0,1,0,0]\n",
    "print(y)"
   ]
  },
  {
   "attachments": {},
   "cell_type": "markdown",
   "metadata": {},
   "source": [
    "22. Construct a one-dimensional array from 0 to 50 jumping with steps of 5 (`[5, 10, ...]`). Use the numpy methods to perform the following tasks;\n",
    "- Print all values greater than 20.\n",
    "- Print all values less than 30.\n",
    "- How many values are 33 in it?\n",
    "- Multiply all the elements of the created array by 5."
   ]
  },
  {
   "cell_type": "code",
   "execution_count": 207,
   "metadata": {},
   "outputs": [
    {
     "name": "stdout",
     "output_type": "stream",
     "text": [
      "[ 0  5 10 15 20 25 30 35 40 45]\n",
      "[25 30 35 40 45]\n",
      "[ 0  5 10 15 20 25]\n",
      "[  0  25  50  75 100 125 150 175 200 225]\n"
     ]
    }
   ],
   "source": [
    "# YOUR CODE HERE\n",
    "array = range(0,50,5)\n",
    "array = np.array(array)\n",
    "print(array)\n",
    "great_than_20 = array[array > 20 ]\n",
    "print(great_than_20)\n",
    "less_than_30 = array[array < 30 ]\n",
    "print(less_than_30)\n",
    "##############\n",
    "\n",
    "#############\n",
    "multiply = array * 5 \n",
    "print(multiply)"
   ]
  },
  {
   "attachments": {},
   "cell_type": "markdown",
   "metadata": {},
   "source": [
    "23. Construct an array of 50 random floats between 0 and 1 and take the average. Moreover;\n",
    "- Get the standard deviation.\n",
    "- Get the variance.\n",
    "- Take the median.\n",
    "- Find the smallest value.\n",
    "- Find the largest value."
   ]
  },
  {
   "cell_type": "code",
   "execution_count": 216,
   "metadata": {},
   "outputs": [
    {
     "name": "stdout",
     "output_type": "stream",
     "text": [
      "0.28712942932383084\n",
      "0.08244330918382876\n",
      "0.5169997199265538\n",
      "0.032659060784495875\n",
      "0.9711509073682858\n"
     ]
    }
   ],
   "source": [
    "# YOUR CODE HERE\n",
    "array = np.random.uniform(low=0, high=1, size=(50,))\n",
    "standard_deviation = np.std(array,axis=0)\n",
    "print(standard_deviation)\n",
    "variance = np.var(array)\n",
    "print(variance)\n",
    "median = np.median(array)\n",
    "print(median)\n",
    "main = np.amin(array)\n",
    "print(main)\n",
    "max = np.amax(array)\n",
    "print(max)"
   ]
  },
  {
   "attachments": {},
   "cell_type": "markdown",
   "metadata": {},
   "source": [
    "24. What are the differences between Pandas Series and NumPy arrays?"
   ]
  },
  {
   "attachments": {},
   "cell_type": "markdown",
   "metadata": {},
   "source": [
    "YOUR ANSWER HERE\n",
    "\n",
    "the Numpy Array has an implicitly defined integer index used to access the values, the Pandas Series has an explicitly defined index associated with the values."
   ]
  },
  {
   "attachments": {},
   "cell_type": "markdown",
   "metadata": {},
   "source": [
    "25. Create a 5-element series with different data types, with an index of capital letters."
   ]
  },
  {
   "cell_type": "code",
   "execution_count": 220,
   "metadata": {},
   "outputs": [
    {
     "name": "stdout",
     "output_type": "stream",
     "text": [
      "A       1\n",
      "B     1.5\n",
      "C    True\n",
      "D       A\n",
      "E     [1]\n",
      "F    (5,)\n",
      "dtype: object\n"
     ]
    }
   ],
   "source": [
    "# YOUR CODE HERE\n",
    "import pandas as pd\n",
    "list1 = [1,1.5,True,\"A\",[1,],(5,)]\n",
    "index = [\"A\",\"B\",\"C\",\"D\",\"E\",\"F\"]\n",
    "series = pd.Series(list1,index=index)\n",
    "print(series)"
   ]
  },
  {
   "attachments": {},
   "cell_type": "markdown",
   "metadata": {},
   "source": [
    "26. Create a 5-element dictionary with keys as country names and values as capitals and turn it into a series. An example: ` \"france\" : \"paris\"`)."
   ]
  },
  {
   "cell_type": "code",
   "execution_count": 221,
   "metadata": {},
   "outputs": [
    {
     "name": "stdout",
     "output_type": "stream",
     "text": [
      "Armenia       Yerevan\n",
      "Australia    Canberra\n",
      "Austria        Vienna\n",
      "China         Beijing\n",
      "Colombia       Bogota\n",
      "dtype: object\n"
     ]
    }
   ],
   "source": [
    "# YOUR CODE HERE\n",
    "element = { \n",
    "    \"Armenia\":\"Yerevan\",\n",
    "    \"Australia\":\"Canberra\",\n",
    "    \"Austria\":\"Vienna\",\n",
    "    \"China\":\"Beijing\",\n",
    "    \"Colombia\":\"Bogota\",\n",
    "}\n",
    "series = pd.Series(element)\n",
    "print(series)"
   ]
  },
  {
   "attachments": {},
   "cell_type": "markdown",
   "metadata": {},
   "source": [
    "27. Create a random vector with 10 elements.\n",
    "- Convert the vector to series and with strings as indeces. For example, a,b,c,d,e,f,g..\n",
    "- Retrieve the 3rd element of the series using the index name (for example: c).\n",
    "- Retrieve the 1st element of the series using the index number.\n",
    "- Access the 2nd and 7th elements of the series at the same time, using the index name. (Example: values corresponding to index b and g)"
   ]
  },
  {
   "cell_type": "code",
   "execution_count": 237,
   "metadata": {},
   "outputs": [
    {
     "name": "stdout",
     "output_type": "stream",
     "text": [
      "[0.65942296 0.57780705 0.86610155 0.28943952 0.46768121 0.61938997\n",
      " 0.41119048 0.42748645 0.33028467 0.56423182]\n",
      "a    0.659423\n",
      "b    0.577807\n",
      "c    0.866102\n",
      "d    0.289440\n",
      "e    0.467681\n",
      "f    0.619390\n",
      "g    0.411190\n",
      "h    0.427486\n",
      "i    0.330285\n",
      "j    0.564232\n",
      "dtype: float64\n",
      "0.5778070502510847\n",
      "0.6594229620819976\n"
     ]
    },
    {
     "data": {
      "text/plain": [
       "b    0.577807\n",
       "g    0.411190\n",
       "dtype: float64"
      ]
     },
     "execution_count": 237,
     "metadata": {},
     "output_type": "execute_result"
    }
   ],
   "source": [
    "# YOUR CODE HERE\n",
    "x = np.random.random(10)\n",
    "print(x)\n",
    "index = ['a','b','c','d','e','f','g','h','i','j']\n",
    "series = pd.Series(x , index=index)\n",
    "print(series)\n",
    "print(series['b'])\n",
    "print(series[0])\n",
    "series[['b','g']]"
   ]
  },
  {
   "attachments": {},
   "cell_type": "markdown",
   "metadata": {},
   "source": [
    "28. Create two 5-element series with elements of your choice with default index.\n",
    "- Combine the series you have created.\n",
    "- Arrange the index of the resulting concatenated 10-element series from 1 to 10."
   ]
  },
  {
   "cell_type": "code",
   "execution_count": 257,
   "metadata": {},
   "outputs": [
    {
     "name": "stdout",
     "output_type": "stream",
     "text": [
      "0    g\n",
      "1    e\n",
      "2    e\n",
      "3    k\n",
      "4    s\n",
      "0    1\n",
      "1    2\n",
      "2    3\n",
      "3    4\n",
      "4    5\n",
      "dtype: object\n"
     ]
    }
   ],
   "source": [
    "# YOUR CODE HERE\n",
    "data1 = np.array(['g', 'e', 'e', 'k', 's'])\n",
    "data2 = np.array([1,2,3,4,5])\n",
    "ser1 = pd.Series(data1)\n",
    "ser2 = pd.Series(data2)\n",
    "sorted1 = np.sort(ser1)\n",
    "sorted2 = np.sort(ser2)\n",
    "combine = pd.concat([ser1,ser2], axis=0)\n",
    "# sorted = np.sort(combine)\n",
    "# sorted = combine.sort_values(ascending=True, inplace=True)\n",
    "print(combine)\n"
   ]
  },
  {
   "attachments": {},
   "cell_type": "markdown",
   "metadata": {},
   "source": [
    "**Bonus homework**:\n",
    "\n",
    "\n",
    "Generate two 20x20 matrices with values between 0 and 1 randomly in a loop and take the difference of these\n",
    "matrices. Repeat this process until all elements on the diagonal of the difference matrix\n",
    "is between -0.1 and 0.1. When the desired matrix is found, let the program stop\n",
    "and print the total number of cycles, how long it took, and the desired matrix\n",
    "with print.\n",
    "\n",
    "\n",
    "Tip: Finding the 20 x 20 matrix can take hours. Therefore, to test the accuracy\n",
    "of your algorithm, you can first try it on small matrices such as 4x4, 5x5. And\n",
    "you can try the latest 20x20 by increasing the number of matrix. (You can do\n",
    "the matrix generation with the np.random.random((a,b)) function. It generates\n",
    "an array of desired sizes between 0-1.)\n"
   ]
  },
  {
   "cell_type": "code",
   "execution_count": 291,
   "metadata": {},
   "outputs": [
    {
     "name": "stdout",
     "output_type": "stream",
     "text": [
      "[[0.0756283  0.28644266 0.06993472 0.36858383 0.1694415  0.95814137\n",
      "  0.25222779 0.49690116 0.18466206 0.19264768 0.03007757 0.01044325\n",
      "  0.20547912 0.07606125 0.51257545 0.37337117 0.20552681 0.79968499\n",
      "  0.49684901 0.03306688]\n",
      " [0.20648461 0.41079031 0.03134514 0.14939753 0.28209003 0.21976592\n",
      "  0.54071614 0.48636027 0.04285391 0.381675   0.20249044 0.08770304\n",
      "  0.68386927 0.16065693 0.47342746 0.14173766 0.01386907 0.64581514\n",
      "  0.18594909 0.15696524]\n",
      " [0.44874312 0.30440533 0.09672673 0.20292446 0.42428177 0.31780437\n",
      "  0.01111909 0.34217658 0.13361692 0.12431878 0.12469072 0.32729389\n",
      "  0.72820791 0.16414813 0.21202915 0.05336546 0.48015389 0.34141566\n",
      "  0.35614117 0.34550524]\n",
      " [0.08972943 0.18240685 0.10770822 0.58552976 0.23024587 0.44004248\n",
      "  0.36764452 0.05710406 0.14814699 0.82779107 0.43223992 0.56640222\n",
      "  0.07608416 0.18786412 0.2957664  0.18287589 0.54465448 0.72697366\n",
      "  0.70908873 0.19653573]\n",
      " [0.46589932 0.09493405 0.22668747 0.39981207 0.2525164  0.63740928\n",
      "  0.12849939 0.01891483 0.18098127 0.07358579 0.15499465 0.28573958\n",
      "  0.8276635  0.05708071 0.27781364 0.05761424 0.4812163  0.06259487\n",
      "  0.17126604 0.23256247]\n",
      " [0.29746881 0.33995505 0.47168042 0.45174083 0.36230777 0.26329821\n",
      "  0.22602521 0.16327532 0.73052291 0.4009112  0.01835519 0.53925359\n",
      "  0.2222705  0.09560226 0.2236418  0.22446367 0.49092556 0.04491555\n",
      "  0.20648404 0.51944011]\n",
      " [0.55075019 0.29591779 0.26098635 0.60331481 0.27133266 0.0496697\n",
      "  0.07730948 0.48293391 0.4153983  0.52392848 0.31352189 0.31890775\n",
      "  0.48403886 0.20939506 0.24772248 0.00342013 0.18468547 0.42702075\n",
      "  0.23906624 0.88915058]\n",
      " [0.35839288 0.07217516 0.698119   0.08225115 0.0063995  0.01435789\n",
      "  0.73181745 0.26335635 0.70936863 0.18226096 0.29250168 0.4117297\n",
      "  0.06867861 0.59731624 0.67452359 0.14160585 0.19896173 0.18066246\n",
      "  0.0905897  0.45385744]\n",
      " [0.55955921 0.2855691  0.0536263  0.2786317  0.13715547 0.03119282\n",
      "  0.35546676 0.07427321 0.10784834 0.11204235 0.34848764 0.52498523\n",
      "  0.10873933 0.13965699 0.22711759 0.29242453 0.78771346 0.11308882\n",
      "  0.48130841 0.14299026]\n",
      " [0.80602445 0.14152551 0.05190791 0.17957083 0.32569675 0.1760199\n",
      "  0.32118827 0.73468871 0.06417389 0.38554393 0.34027831 0.63146581\n",
      "  0.74131305 0.08958195 0.19869691 0.02690411 0.13396625 0.43644113\n",
      "  0.2765554  0.79447052]\n",
      " [0.11682842 0.59178736 0.12057049 0.42121945 0.11209867 0.72850412\n",
      "  0.16382719 0.53502902 0.83455897 0.12628184 0.59281016 0.44922813\n",
      "  0.66043001 0.30140626 0.55249719 0.29555066 0.1597252  0.2912002\n",
      "  0.44442163 0.08336853]\n",
      " [0.82236986 0.03552723 0.4891577  0.0374698  0.65726231 0.29622329\n",
      "  0.69102354 0.32670288 0.19370748 0.11465929 0.17622568 0.40307782\n",
      "  0.34218335 0.6948148  0.93877325 0.79379748 0.04444514 0.28927577\n",
      "  0.74780969 0.49424757]\n",
      " [0.06891379 0.05404548 0.59776717 0.27542663 0.381686   0.14679134\n",
      "  0.34616421 0.60144421 0.5879819  0.50461218 0.86364979 0.1682886\n",
      "  0.02316995 0.125669   0.44321382 0.378061   0.59599124 0.47718814\n",
      "  0.1304042  0.37338927]\n",
      " [0.11427183 0.6788935  0.47593351 0.2044124  0.35305138 0.13095145\n",
      "  0.16357642 0.17921338 0.40172035 0.3313163  0.07517921 0.62360122\n",
      "  0.02278176 0.16535692 0.67122684 0.34229753 0.19722132 0.45428855\n",
      "  0.19534329 0.53986146]\n",
      " [0.24882776 0.86398722 0.13924903 0.12257983 0.91068788 0.36747496\n",
      "  0.1116691  0.25881639 0.27012575 0.20265457 0.20506207 0.53153245\n",
      "  0.66025145 0.05357898 0.4554587  0.91979691 0.11307099 0.21748333\n",
      "  0.8441532  0.38156387]\n",
      " [0.1866048  0.32961367 0.54272711 0.18203501 0.49391325 0.18977162\n",
      "  0.42512596 0.07008497 0.0287238  0.08139876 0.00552867 0.47917445\n",
      "  0.708013   0.37781337 0.54517092 0.08343673 0.08526502 0.2323134\n",
      "  0.55293623 0.38532048]\n",
      " [0.38583049 0.64590211 0.74218894 0.50965811 0.38347493 0.29920338\n",
      "  0.67869182 0.18817081 0.65429024 0.00522814 0.4402295  0.5273109\n",
      "  0.46644215 0.13420278 0.26520054 0.40695898 0.31909686 0.11779369\n",
      "  0.25339102 0.0154153 ]\n",
      " [0.02871281 0.39299097 0.02715308 0.29612304 0.69106166 0.17497599\n",
      "  0.53213606 0.15840699 0.1188777  0.81839465 0.09634365 0.41249019\n",
      "  0.48219778 0.04466945 0.131009   0.52762697 0.28769844 0.21386191\n",
      "  0.26011098 0.05319005]\n",
      " [0.02318865 0.34761255 0.20363379 0.07317898 0.15324852 0.53290215\n",
      "  0.38586443 0.20066445 0.04920935 0.54880898 0.17196781 0.33469157\n",
      "  0.29765332 0.37479636 0.26038846 0.0295095  0.74769938 0.06858364\n",
      "  0.63886453 0.21250208]\n",
      " [0.11006965 0.22035002 0.72508267 0.69594473 0.08428235 0.14023963\n",
      "  0.85009487 0.29019686 0.30927013 0.14316698 0.45957769 0.14599169\n",
      "  0.15430154 0.22563684 0.18594952 0.25468605 0.01168257 0.30675343\n",
      "  0.30788041 0.12714097]]\n",
      "Matrix1 : \n",
      "********************* [[0.55934024 0.54333369 0.85729412 0.49872918 0.23132501 0.029528\n",
      "  0.62188979 0.76486845 0.70213256 0.52854099 0.34960913 0.52583972\n",
      "  0.11136561 0.20577262 0.32716109 0.18425042 0.39676675 0.08745666\n",
      "  0.7857075  0.56846326]\n",
      " [0.65788509 0.40660661 0.93440874 0.29783619 0.18882541 0.01343603\n",
      "  0.02621261 0.63410923 0.30643467 0.99454003 0.68041059 0.2304531\n",
      "  0.84704155 0.06636027 0.1557274  0.72440452 0.46206084 0.14426717\n",
      "  0.50520523 0.64949427]\n",
      " [0.24714702 0.35681037 0.35190994 0.328236   0.74148362 0.36925798\n",
      "  0.89402348 0.27410593 0.53235748 0.56741635 0.76156603 0.41741207\n",
      "  0.23036734 0.57907353 0.6238631  0.03631931 0.7542671  0.67079192\n",
      "  0.00538494 0.82739579]\n",
      " [0.09744449 0.60078573 0.21585343 0.87110065 0.14798212 0.71757608\n",
      "  0.38032786 0.28516629 0.15678469 0.83583137 0.50701269 0.74200386\n",
      "  0.6913238  0.47469583 0.23273921 0.49573972 0.36597634 0.86168247\n",
      "  0.18738966 0.30428343]\n",
      " [0.14177566 0.31637121 0.04922704 0.99515945 0.00336985 0.14991581\n",
      "  0.7457689  0.71647988 0.77537029 0.38613926 0.34427892 0.39927291\n",
      "  0.04522344 0.8067932  0.56007913 0.34261227 0.93749561 0.49270197\n",
      "  0.61948623 0.73988173]\n",
      " [0.27477648 0.71932573 0.00409567 0.1403747  0.41465488 0.47133627\n",
      "  0.68755768 0.41094046 0.13401292 0.53279191 0.52191731 0.35838643\n",
      "  0.44798854 0.53128644 0.4902648  0.62731883 0.4201578  0.38442885\n",
      "  0.22691858 0.33481318]\n",
      " [0.80288178 0.85958222 0.7361998  0.24931242 0.42064397 0.78239924\n",
      "  0.70909635 0.49205172 0.89870918 0.84547129 0.36792731 0.42906019\n",
      "  0.49238503 0.85157552 0.89218478 0.59891081 0.06851545 0.52502824\n",
      "  0.81528533 0.01352682]\n",
      " [0.52065027 0.95895992 0.13479778 0.17023303 0.90303895 0.93122226\n",
      "  0.23771496 0.48801968 0.78658372 0.18931943 0.31039767 0.38418039\n",
      "  0.50306753 0.95895393 0.00870669 0.62140177 0.58744961 0.81897609\n",
      "  0.55469925 0.25909624]\n",
      " [0.38546994 0.25510658 0.27365028 0.23800938 0.24358161 0.77944508\n",
      "  0.86006312 0.55146416 0.7022725  0.66953593 0.46788336 0.1248577\n",
      "  0.53550561 0.79090564 0.73619117 0.94941228 0.88132803 0.11779797\n",
      "  0.40312211 0.93911802]\n",
      " [0.17706068 0.39164605 0.46861901 0.28292796 0.97999543 0.59176549\n",
      "  0.87274823 0.75176697 0.24611138 0.04624621 0.23717529 0.99885794\n",
      "  0.15491033 0.97607473 0.33583685 0.85616929 0.27673296 0.03011156\n",
      "  0.68998874 0.99617012]\n",
      " [0.11177968 0.59309388 0.1587515  0.52508728 0.19394573 0.85580603\n",
      "  0.16524749 0.72459436 0.98241304 0.24584489 0.22456474 0.46265547\n",
      "  0.76951828 0.20244512 0.28719645 0.35744785 0.37061712 0.05528479\n",
      "  0.29425124 0.677022  ]\n",
      " [0.03584953 0.10811937 0.06298815 0.27056262 0.19538641 0.63543097\n",
      "  0.78415422 0.55541248 0.51433718 0.75385097 0.38128461 0.07135656\n",
      "  0.4589435  0.90311633 0.01519722 0.16355035 0.34992864 0.14745762\n",
      "  0.23005454 0.0636551 ]\n",
      " [0.85163537 0.80096044 0.1225609  0.06152187 0.83355233 0.54905799\n",
      "  0.76019606 0.71644377 0.89015012 0.12713011 0.11292582 0.0758569\n",
      "  0.21138195 0.17372072 0.56031808 0.69134325 0.60081201 0.047503\n",
      "  0.21446208 0.93389313]\n",
      " [0.98491309 0.80532763 0.16445434 0.39104445 0.50739    0.0465001\n",
      "  0.77041243 0.6325042  0.29063783 0.43908803 0.81641251 0.79030848\n",
      "  0.53946819 0.50637685 0.32577494 0.51633544 0.54959859 0.24353744\n",
      "  0.93621096 0.82482194]\n",
      " [0.55305415 0.90747512 0.01757479 0.54866476 0.94790151 0.62464392\n",
      "  0.59019713 0.24619516 0.70763119 0.61273725 0.60962679 0.37087565\n",
      "  0.30183849 0.0883243  0.38695677 0.0728878  0.60923375 0.49456375\n",
      "  0.00166043 0.34121442]\n",
      " [0.13227293 0.66924349 0.8294121  0.47467415 0.15678657 0.88538608\n",
      "  0.56153793 0.44186521 0.44235622 0.32625483 0.64574032 0.39519001\n",
      "  0.28542069 0.01988141 0.70461055 0.47923332 0.89976703 0.40020675\n",
      "  0.35156625 0.72163209]\n",
      " [0.74497703 0.85099051 0.98080985 0.10589116 0.86127311 0.74631742\n",
      "  0.93367339 0.8791012  0.15840514 0.75363659 0.8455616  0.99771725\n",
      "  0.59395941 0.11291669 0.39762788 0.36824373 0.35810412 0.35105177\n",
      "  0.92918117 0.25853223]\n",
      " [0.42838078 0.44436195 0.3659637  0.33284004 0.88754763 0.36799265\n",
      "  0.56089927 0.27339257 0.46604054 0.91288142 0.64494078 0.16662375\n",
      "  0.40570159 0.28587731 0.86120423 0.41611775 0.7765907  0.76784525\n",
      "  0.46095023 0.59153885]\n",
      " [0.54051526 0.59913811 0.5528481  0.69183466 0.52334104 0.4303856\n",
      "  0.91949207 0.70275755 0.71341909 0.25857895 0.09396874 0.79631811\n",
      "  0.05635357 0.06271398 0.365208   0.54184866 0.21372488 0.96290931\n",
      "  0.15766497 0.32499866]\n",
      " [0.79756896 0.57467881 0.21499656 0.83369607 0.45606539 0.33767417\n",
      "  0.95073435 0.38936918 0.63979794 0.47002297 0.67590695 0.19801633\n",
      "  0.38318352 0.28977068 0.69940239 0.23068308 0.51918747 0.06075211\n",
      "  0.5180443  0.62600657]] *************************\n",
      "Matrix : \n",
      "********************* [[0.63496854 0.25689104 0.7873594  0.13014535 0.40076651 0.98766937\n",
      "  0.87411758 0.26796729 0.5174705  0.33589331 0.3796867  0.51539647\n",
      "  0.31684473 0.12971137 0.83973653 0.55762159 0.19123994 0.88714165\n",
      "  0.28885849 0.60153014]\n",
      " [0.8643697  0.81739693 0.96575388 0.14843866 0.47091544 0.23320195\n",
      "  0.56692875 0.14774897 0.34928859 0.61286503 0.88290103 0.31815614\n",
      "  0.16317228 0.2270172  0.62915485 0.86614217 0.47592991 0.7900823\n",
      "  0.31925614 0.80645952]\n",
      " [0.69589014 0.05240505 0.44863667 0.53116046 0.31720185 0.68706235\n",
      "  0.88290439 0.61628251 0.6659744  0.69173513 0.88625675 0.74470596\n",
      "  0.95857525 0.4149254  0.41183395 0.08968477 0.2741132  0.32937625\n",
      "  0.36152611 0.48189055]\n",
      " [0.00771506 0.41837888 0.32356165 0.28557089 0.37822799 0.2775336\n",
      "  0.01268334 0.34227035 0.30493168 0.0080403  0.93925261 0.17560164\n",
      "  0.61523964 0.66255995 0.52850561 0.31286383 0.91063082 0.13470881\n",
      "  0.89647839 0.50081916]\n",
      " [0.60767498 0.41130526 0.2759145  0.59534737 0.25588625 0.78732509\n",
      "  0.87426829 0.73539471 0.59438901 0.45972505 0.49927357 0.11353334\n",
      "  0.87288694 0.86387392 0.83789277 0.40022651 0.4562793  0.55529684\n",
      "  0.79075226 0.50731926]\n",
      " [0.5722453  0.37937068 0.47577608 0.59211554 0.77696265 0.73463449\n",
      "  0.9135829  0.57421578 0.86453583 0.13188071 0.5402725  0.89764002\n",
      "  0.22571804 0.6268887  0.7139066  0.40285516 0.91108336 0.3395133\n",
      "  0.02043453 0.85425329]\n",
      " [0.25213159 0.56366443 0.47521345 0.85262723 0.14931132 0.83206894\n",
      "  0.63178688 0.97498563 0.48331088 0.32154281 0.05440542 0.11015244\n",
      "  0.97642389 0.64218046 0.64446231 0.59549068 0.25320092 0.95204899\n",
      "  0.57621909 0.9026774 ]\n",
      " [0.16225739 0.88678475 0.83291678 0.25248418 0.90943845 0.91686437\n",
      "  0.96953241 0.75137603 0.07721509 0.00705847 0.01789599 0.79591009\n",
      "  0.43438891 0.36163769 0.68323028 0.47979592 0.38848788 0.63831363\n",
      "  0.46410955 0.71295367]\n",
      " [0.94502915 0.54067568 0.32727658 0.51664108 0.38073708 0.74825227\n",
      "  0.50459636 0.62573737 0.59442415 0.55749358 0.816371   0.64984293\n",
      "  0.42676628 0.93056262 0.96330876 0.65698775 0.09361457 0.23088679\n",
      "  0.88443053 0.79612776]\n",
      " [0.98308513 0.25012054 0.4167111  0.46249879 0.65429868 0.7677854\n",
      "  0.55155996 0.01707826 0.18193749 0.43179014 0.5774536  0.36739213\n",
      "  0.89622338 0.88649278 0.53453377 0.8830734  0.41069921 0.46655269\n",
      "  0.96654413 0.2016996 ]\n",
      " [0.2286081  0.00130652 0.27932199 0.10386783 0.3060444  0.12730191\n",
      "  0.0014203  0.18956534 0.14785406 0.11956305 0.8173749  0.01342734\n",
      "  0.10908826 0.50385139 0.83969364 0.6529985  0.53034233 0.34648499\n",
      "  0.73867288 0.59365347]\n",
      " [0.85821939 0.1436466  0.55214586 0.30803242 0.85264873 0.33920768\n",
      "  0.09313067 0.2287096  0.70804467 0.86851026 0.20505893 0.47443438\n",
      "  0.80112685 0.20830153 0.95397047 0.95734783 0.3054835  0.43673339\n",
      "  0.97786423 0.55790267]\n",
      " [0.92054916 0.85500592 0.72032807 0.3369485  0.45186633 0.40226665\n",
      "  0.41403185 0.11499957 0.30216822 0.6317423  0.97657562 0.2441455\n",
      "  0.2345519  0.04805172 0.11710426 0.31328225 0.00482077 0.52469114\n",
      "  0.08405788 0.56050386]\n",
      " [0.87064127 0.12643413 0.64038785 0.18663205 0.86044139 0.17745156\n",
      "  0.93398886 0.81171758 0.69235817 0.10777173 0.89159172 0.16670726\n",
      "  0.56224995 0.34101994 0.99700177 0.85863297 0.7468199  0.69782598\n",
      "  0.74086767 0.28496048]\n",
      " [0.80188191 0.0434879  0.15682382 0.6712446  0.03721363 0.99211888\n",
      "  0.70186623 0.50501155 0.97775694 0.41008268 0.81468887 0.9024081\n",
      "  0.96208994 0.14190327 0.84241547 0.99268471 0.72230474 0.71204708\n",
      "  0.84581362 0.72277829]\n",
      " [0.31887774 0.33962981 0.28668499 0.29263913 0.65069982 0.69561446\n",
      "  0.9866639  0.51195018 0.47108002 0.24485607 0.64021165 0.87436446\n",
      "  0.99343369 0.39769478 0.15943964 0.39579659 0.98503205 0.63252015\n",
      "  0.90450248 0.33631162]\n",
      " [0.35914654 0.2050884  0.23862091 0.61554927 0.47779818 0.44711404\n",
      "  0.25498157 0.6909304  0.81269537 0.75886473 0.4053321  0.47040635\n",
      "  0.12751726 0.24711946 0.66282842 0.7752027  0.03900726 0.23325807\n",
      "  0.67579014 0.24311693]\n",
      " [0.45709359 0.83735293 0.39311678 0.62896308 0.19648596 0.19301666\n",
      "  0.02876321 0.43179956 0.34716284 0.09448677 0.54859713 0.57911394\n",
      "  0.88789937 0.33054676 0.73019522 0.94374472 0.48889226 0.98170716\n",
      "  0.20083925 0.6447289 ]\n",
      " [0.5637039  0.94675066 0.75648189 0.76501364 0.67658956 0.96328774\n",
      "  0.53362764 0.5020931  0.66420974 0.80738794 0.26593655 0.46162654\n",
      "  0.35400689 0.43751034 0.10481954 0.51233916 0.96142426 0.89432567\n",
      "  0.7965295  0.53750074]\n",
      " [0.68749931 0.79502882 0.94007923 0.13775134 0.54034774 0.19743454\n",
      "  0.10063949 0.09917232 0.33052782 0.61318995 0.21632925 0.05202465\n",
      "  0.53748506 0.51540752 0.51345287 0.48536912 0.53087004 0.36750554\n",
      "  0.21016389 0.49886561]] *************************\n",
      "[0.08031268 0.07599146 0.00643316 0.06140893 0.01041298 0.05513918\n",
      " 0.0403441  0.02097263 0.076329   0.04148948]\n",
      "Time taken:  0.02599477767944336\n",
      "(20, 20)\n"
     ]
    }
   ],
   "source": [
    "import time\n",
    "\n",
    "start = time.time()\n",
    "\n",
    "while True : \n",
    "    array1 = np.random.uniform(low=0, high=1, size=(20,20))\n",
    "    array2 = np.random.uniform(low=0, high=1, size=(20,20))\n",
    "    # array = array1 - array2 \n",
    "    # print(array)\n",
    "    array = np.abs(array1 - array2)\n",
    "    print(array)\n",
    "    if np.all(np.diag(diff) <= 0.1):\n",
    "        print(\"Matrix1 : \")\n",
    "        print(\"*********************\",array1,\"*************************\")\n",
    "        print(\"Matrix : \")\n",
    "        print(\"*********************\",array2,\"*************************\")\n",
    "\n",
    "        print(np.diagonal(diff))\n",
    "        break\n",
    "\n",
    "end = time.time()\n",
    "print(\"Time taken: \", end - start)\n",
    "print(array1.shape)\n",
    "\n",
    "\n"
   ]
  }
 ],
 "metadata": {
  "kernelspec": {
   "display_name": "Python 3",
   "language": "python",
   "name": "python3"
  },
  "language_info": {
   "codemirror_mode": {
    "name": "ipython",
    "version": 3
   },
   "file_extension": ".py",
   "mimetype": "text/x-python",
   "name": "python",
   "nbconvert_exporter": "python",
   "pygments_lexer": "ipython3",
   "version": "3.11.0"
  },
  "orig_nbformat": 4,
  "vscode": {
   "interpreter": {
    "hash": "8a94588eda9d64d9e9a351ab8144e55b1fabf5113b54e67dd26a8c27df0381b3"
   }
  }
 },
 "nbformat": 4,
 "nbformat_minor": 2
}
