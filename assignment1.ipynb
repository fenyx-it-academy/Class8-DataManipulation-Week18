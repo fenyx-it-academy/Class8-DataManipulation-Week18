{
 "cells": [
  {
   "attachments": {},
   "cell_type": "markdown",
   "metadata": {},
   "source": [
    "## Data Manipulation module\n",
    "### Homework assignment 1\n",
    "\n",
    "Welcome to the first homework assignment of the data manipulation module. In this assignment you will be working with NumPy and Pandas Series. The goal of this assignment is to get you familiar with these libraries and data types.\n",
    "\n",
    "### Instructions\n",
    "Read the exercises carefully and implement the requested functionality. Add your code in the cells provided with `YOUR CODE HERE` or `YOUR ANSWER HERE`. You can add cells if you need to. **Make sure to use NumPy methods** to find your answers. In some cases you might be able to read the answer, but we want to see you using the NumPy methods.\n",
    "\n",
    "### Hand-in\n",
    "To hand in your assignment, fork this notebook and commit your changes, then make a pull request to the original repository. The deadline for handing in the assignment is **Wednesday 10-05 23:59**."
   ]
  },
  {
   "cell_type": "code",
   "execution_count": 3,
   "metadata": {},
   "outputs": [],
   "source": [
    "# imports, no need to edit\n",
    "\n",
    "import numpy as np\n",
    "import pandas as pd\n",
    "\n",
    "np.random.seed(42)"
   ]
  },
  {
   "attachments": {},
   "cell_type": "markdown",
   "metadata": {},
   "source": [
    "1. Explain the difference between a vector and matrix in NumPy in one sentence."
   ]
  },
  {
   "attachments": {},
   "cell_type": "markdown",
   "metadata": {},
   "source": [
    " vector is an array (or list) with one dimension and a matrix is a vector with two dimensions or more."
   ]
  },
  {
   "attachments": {},
   "cell_type": "markdown",
   "metadata": {},
   "source": [
    "2. Construct a NumPy Array from a list of 10 elements."
   ]
  },
  {
   "cell_type": "code",
   "execution_count": 6,
   "metadata": {},
   "outputs": [
    {
     "name": "stdout",
     "output_type": "stream",
     "text": [
      "[0.95071431 0.73199394 0.59865848 0.15601864 0.15599452 0.05808361\n",
      " 0.86617615 0.60111501 0.70807258 0.02058449]\n"
     ]
    }
   ],
   "source": [
    "array = np.random.rand(10)\n",
    "\n",
    "\n",
    "print(array)\n"
   ]
  },
  {
   "attachments": {},
   "cell_type": "markdown",
   "metadata": {},
   "source": [
    "3. Construct a 10x10 matrix filled with '0's of the integer data type."
   ]
  },
  {
   "cell_type": "code",
   "execution_count": 10,
   "metadata": {},
   "outputs": [
    {
     "name": "stdout",
     "output_type": "stream",
     "text": [
      "[[0 0 0 0 0 0 0 0 0 0]\n",
      " [0 0 0 0 0 0 0 0 0 0]\n",
      " [0 0 0 0 0 0 0 0 0 0]\n",
      " [0 0 0 0 0 0 0 0 0 0]\n",
      " [0 0 0 0 0 0 0 0 0 0]\n",
      " [0 0 0 0 0 0 0 0 0 0]\n",
      " [0 0 0 0 0 0 0 0 0 0]\n",
      " [0 0 0 0 0 0 0 0 0 0]\n",
      " [0 0 0 0 0 0 0 0 0 0]\n",
      " [0 0 0 0 0 0 0 0 0 0]]\n"
     ]
    }
   ],
   "source": [
    "matrix = np.zeros( (10, 10), dtype=int)\n",
    "\n",
    "print (matrix)"
   ]
  },
  {
   "attachments": {},
   "cell_type": "markdown",
   "metadata": {},
   "source": [
    "4. Construct a 10x10 matrix filled with '1's, data type float."
   ]
  },
  {
   "cell_type": "code",
   "execution_count": 13,
   "metadata": {},
   "outputs": [
    {
     "name": "stdout",
     "output_type": "stream",
     "text": [
      "[[1. 1. 1. 1. 1. 1. 1. 1. 1. 1.]\n",
      " [1. 1. 1. 1. 1. 1. 1. 1. 1. 1.]\n",
      " [1. 1. 1. 1. 1. 1. 1. 1. 1. 1.]\n",
      " [1. 1. 1. 1. 1. 1. 1. 1. 1. 1.]\n",
      " [1. 1. 1. 1. 1. 1. 1. 1. 1. 1.]\n",
      " [1. 1. 1. 1. 1. 1. 1. 1. 1. 1.]\n",
      " [1. 1. 1. 1. 1. 1. 1. 1. 1. 1.]\n",
      " [1. 1. 1. 1. 1. 1. 1. 1. 1. 1.]\n",
      " [1. 1. 1. 1. 1. 1. 1. 1. 1. 1.]\n",
      " [1. 1. 1. 1. 1. 1. 1. 1. 1. 1.]]\n"
     ]
    }
   ],
   "source": [
    "matrix = np.ones((10, 10))\n",
    "\n",
    "print (matrix)"
   ]
  },
  {
   "attachments": {},
   "cell_type": "markdown",
   "metadata": {},
   "source": [
    "5. Construct a 10x10 matrix filled with '9's of the integer data type."
   ]
  },
  {
   "cell_type": "code",
   "execution_count": 15,
   "metadata": {},
   "outputs": [
    {
     "name": "stdout",
     "output_type": "stream",
     "text": [
      "[[9 9 9 9 9 9 9 9 9 9]\n",
      " [9 9 9 9 9 9 9 9 9 9]\n",
      " [9 9 9 9 9 9 9 9 9 9]\n",
      " [9 9 9 9 9 9 9 9 9 9]\n",
      " [9 9 9 9 9 9 9 9 9 9]\n",
      " [9 9 9 9 9 9 9 9 9 9]\n",
      " [9 9 9 9 9 9 9 9 9 9]\n",
      " [9 9 9 9 9 9 9 9 9 9]\n",
      " [9 9 9 9 9 9 9 9 9 9]\n",
      " [9 9 9 9 9 9 9 9 9 9]]\n"
     ]
    }
   ],
   "source": [
    "matrix = np.full( (10, 10), 9, dtype=int)\n",
    "\n",
    "print (matrix)"
   ]
  },
  {
   "attachments": {},
   "cell_type": "markdown",
   "metadata": {},
   "source": [
    "6. Construct a one-dimensional array with values between 5 and 25 that jumps with steps of 3 (`[5, 8, ...]`)"
   ]
  },
  {
   "cell_type": "code",
   "execution_count": 17,
   "metadata": {},
   "outputs": [
    {
     "name": "stdout",
     "output_type": "stream",
     "text": [
      "[ 5  8 11 14 17 20 23]\n"
     ]
    }
   ],
   "source": [
    "array = np.arange(5, 25, 3)\n",
    "\n",
    "print (array)\n"
   ]
  },
  {
   "attachments": {},
   "cell_type": "markdown",
   "metadata": {},
   "source": [
    "7. Create an array of size 30 with evenly spaced values between -1 and 1."
   ]
  },
  {
   "cell_type": "code",
   "execution_count": 19,
   "metadata": {},
   "outputs": [
    {
     "name": "stdout",
     "output_type": "stream",
     "text": [
      "[-1.         -0.93103448 -0.86206897 -0.79310345 -0.72413793 -0.65517241\n",
      " -0.5862069  -0.51724138 -0.44827586 -0.37931034 -0.31034483 -0.24137931\n",
      " -0.17241379 -0.10344828 -0.03448276  0.03448276  0.10344828  0.17241379\n",
      "  0.24137931  0.31034483  0.37931034  0.44827586  0.51724138  0.5862069\n",
      "  0.65517241  0.72413793  0.79310345  0.86206897  0.93103448  1.        ]\n"
     ]
    }
   ],
   "source": [
    "# YOUR CODE HERE\n",
    "\n",
    "\n"
   ]
  },
  {
   "attachments": {},
   "cell_type": "markdown",
   "metadata": {},
   "source": [
    "8. Construct a 5x6 matrix with integers from 0 to 30."
   ]
  },
  {
   "cell_type": "code",
   "execution_count": 24,
   "metadata": {},
   "outputs": [
    {
     "name": "stdout",
     "output_type": "stream",
     "text": [
      "[ 0  1  2  3  4  5  6  7  8  9 10 11 12 13 14 15 16 17 18 19 20 21 22 23\n",
      " 24 25 26 27 28 29]\n",
      "\n",
      "[[ 0  1  2  3  4  5]\n",
      " [ 6  7  8  9 10 11]\n",
      " [12 13 14 15 16 17]\n",
      " [18 19 20 21 22 23]\n",
      " [24 25 26 27 28 29]]\n"
     ]
    }
   ],
   "source": [
    "matrix = np.arange(0, 30)\n",
    "print (matrix)\n",
    "print ()\n",
    "\n",
    "final_matrix = matrix.reshape(5, 6)\n",
    "print (final_matrix)"
   ]
  },
  {
   "attachments": {},
   "cell_type": "markdown",
   "metadata": {},
   "source": [
    "9. Create an array of 30 random integers and sort it in ascending order."
   ]
  },
  {
   "cell_type": "code",
   "execution_count": 27,
   "metadata": {},
   "outputs": [
    {
     "name": "stdout",
     "output_type": "stream",
     "text": [
      "[53 92 62 17 89 43 33 73 61 99 13 94 47 14 71 77 86 61 39 84 79 81 52 23\n",
      " 25 88 59 40 28 14]\n",
      "\n",
      "[13 14 14 17 23 25 28 33 39 40 43 47 52 53 59 61 61 62 71 73 77 79 81 84\n",
      " 86 88 89 92 94 99]\n"
     ]
    }
   ],
   "source": [
    "array = np.random.randint(0, 100, 30)\n",
    "print (array)\n",
    "print ()\n",
    "\n",
    "sortedArray = np.sort(array)\n",
    "\n",
    "print(sortedArray)\n"
   ]
  },
  {
   "attachments": {},
   "cell_type": "markdown",
   "metadata": {},
   "source": [
    "10. Construct a 5x10 matrix filled with the value 1 at each location. Print the following details about this matrix:\n",
    "- number of elements\n",
    "- shape of the matrix\n",
    "- the data type (using numpy methods)\n"
   ]
  },
  {
   "cell_type": "code",
   "execution_count": 28,
   "metadata": {},
   "outputs": [
    {
     "name": "stdout",
     "output_type": "stream",
     "text": [
      "[[1. 1. 1. 1. 1. 1. 1. 1. 1. 1.]\n",
      " [1. 1. 1. 1. 1. 1. 1. 1. 1. 1.]\n",
      " [1. 1. 1. 1. 1. 1. 1. 1. 1. 1.]\n",
      " [1. 1. 1. 1. 1. 1. 1. 1. 1. 1.]\n",
      " [1. 1. 1. 1. 1. 1. 1. 1. 1. 1.]]\n",
      "\n",
      "50\n",
      "\n",
      "(5, 10)\n",
      "\n",
      "float64\n"
     ]
    }
   ],
   "source": [
    "\n",
    "matrix = np.ones((5, 10))\n",
    "\n",
    "print (matrix)\n",
    "\n",
    "print ()\n",
    "\n",
    "print (matrix.size)\n",
    "\n",
    "print ()\n",
    "\n",
    "print (matrix.shape)\n",
    "\n",
    "print ()\n",
    "\n",
    "print (matrix.dtype)\n"
   ]
  },
  {
   "attachments": {},
   "cell_type": "markdown",
   "metadata": {},
   "source": [
    "11. Construct a 3x4x7 matrix with random integer values between 0 and 10 (a 3D matrix will be created).\n"
   ]
  },
  {
   "cell_type": "code",
   "execution_count": 30,
   "metadata": {},
   "outputs": [
    {
     "name": "stdout",
     "output_type": "stream",
     "text": [
      "[[[8 4 0 2 9 7 5]\n",
      "  [7 8 3 0 0 9 3]\n",
      "  [6 1 2 0 4 0 7]\n",
      "  [0 0 1 1 5 6 4]]\n",
      "\n",
      " [[0 0 2 1 4 9 5]\n",
      "  [6 3 6 7 0 5 7]\n",
      "  [4 3 1 5 5 0 8]\n",
      "  [5 2 3 3 2 9 2]]\n",
      "\n",
      " [[2 3 6 3 8 0 7]\n",
      "  [6 1 7 0 8 8 1]\n",
      "  [6 9 2 6 9 8 3]\n",
      "  [0 1 0 4 4 6 8]]]\n"
     ]
    }
   ],
   "source": [
    "matrix = np.random.randint(0, 10, size=(3, 4, 7))\n",
    "\n",
    "print (matrix)"
   ]
  },
  {
   "attachments": {},
   "cell_type": "markdown",
   "metadata": {},
   "source": [
    "12. Create an array of 20 random integers and reshape it into a 4x5 matrix."
   ]
  },
  {
   "cell_type": "code",
   "execution_count": 31,
   "metadata": {},
   "outputs": [
    {
     "name": "stdout",
     "output_type": "stream",
     "text": [
      "[98 18 47 79  2 19 23 53 32 23 74 71 35 37 83 98 88 98 24 92]\n",
      "\n",
      "[[98 18 47 79  2]\n",
      " [19 23 53 32 23]\n",
      " [74 71 35 37 83]\n",
      " [98 88 98 24 92]]\n"
     ]
    }
   ],
   "source": [
    "array = np.random.randint(0, 100, size=20)\n",
    "\n",
    "print (array)\n",
    "\n",
    "print ()\n",
    "\n",
    "reshaped = array.reshape((4, 5))\n",
    "\n",
    "print (reshaped)"
   ]
  },
  {
   "attachments": {},
   "cell_type": "markdown",
   "metadata": {},
   "source": [
    "13. Construct a one-dimensional array by concetanating 4 separate one-dimensional arrays."
   ]
  },
  {
   "cell_type": "code",
   "execution_count": 40,
   "metadata": {},
   "outputs": [
    {
     "name": "stdout",
     "output_type": "stream",
     "text": [
      "[52 94] [98 59] [96 62] [84 31]\n",
      "\n",
      "[52 94 98 59 96 62 84 31]\n"
     ]
    }
   ],
   "source": [
    "\n",
    "# Not sure if the size is correct????????????\n",
    "\n",
    "array1 = np.random.randint(0, 100, size=2)\n",
    "array2 = np.random.randint(0, 100, size=2)\n",
    "array3 = np.random.randint(0, 100, size=2)\n",
    "array4 = np.random.randint(0, 100, size=2)\n",
    "\n",
    "print (array1, array2, array3, array4)\n",
    "print ()\n",
    "\n",
    "concatArray = np.concatenate((array1, array2, array3, array4))\n",
    "\n",
    "print (concatArray)\n"
   ]
  },
  {
   "attachments": {},
   "cell_type": "markdown",
   "metadata": {},
   "source": [
    "14. Create a vector of length 3 (3x1) and a matrix of size 3x3. Combine these two arrays on a\n",
    "    column-by-column basis using numpy methods.\n"
   ]
  },
  {
   "cell_type": "code",
   "execution_count": 41,
   "metadata": {},
   "outputs": [],
   "source": [
    "a = np.array([1, 2, 3]).reshape(-1, 1)\n",
    "b = np.random.randint(0, 10, (3, 3))"
   ]
  },
  {
   "cell_type": "code",
   "execution_count": 44,
   "metadata": {},
   "outputs": [
    {
     "data": {
      "text/plain": [
       "5"
      ]
     },
     "execution_count": 44,
     "metadata": {},
     "output_type": "execute_result"
    }
   ],
   "source": [
    "np.argmax(b)"
   ]
  },
  {
   "attachments": {},
   "cell_type": "markdown",
   "metadata": {},
   "source": [
    "15. What is the difference between \"axis=1\" and \"axis=0\" in Numpy functions? "
   ]
  },
  {
   "attachments": {},
   "cell_type": "markdown",
   "metadata": {},
   "source": [
    "axis=1 is for rows and axis=0 is for columns."
   ]
  },
  {
   "attachments": {},
   "cell_type": "markdown",
   "metadata": {},
   "source": [
    "16. Create a random 1D vector with 20 elements. Find the 3rd, 5th and 7th elements of this vector.\n"
   ]
  },
  {
   "cell_type": "code",
   "execution_count": 47,
   "metadata": {},
   "outputs": [
    {
     "name": "stdout",
     "output_type": "stream",
     "text": [
      "[0.62289048 0.08534746 0.05168172 0.53135463 0.54063512 0.6374299\n",
      " 0.72609133 0.97585208 0.51630035 0.32295647 0.79518619 0.27083225\n",
      " 0.43897142 0.07845638 0.02535074 0.96264841 0.83598012 0.69597421\n",
      " 0.40895294 0.17329432]\n",
      "\n",
      "0.0516817211686077\n",
      "0.5406351216101065\n",
      "0.7260913337226615\n"
     ]
    }
   ],
   "source": [
    "vector = np.random.rand(20)\n",
    "\n",
    "print (vector)\n",
    "print ()\n",
    "print (vector[2]) #3rd element\n",
    "print (vector[4]) #5th element\n",
    "print (vector[6]) #7th element"
   ]
  },
  {
   "attachments": {},
   "cell_type": "markdown",
   "metadata": {},
   "source": [
    "17. Create a random vector with 10 elements and replace the 4th element of this array with a different number."
   ]
  },
  {
   "cell_type": "code",
   "execution_count": 50,
   "metadata": {},
   "outputs": [
    {
     "name": "stdout",
     "output_type": "stream",
     "text": [
      "[0.47417383 0.09783416 0.49161588 0.47347177 0.17320187 0.43385165\n",
      " 0.39850473 0.6158501  0.63509365 0.04530401]\n",
      "\n",
      "[4.74173829e-01 9.78341607e-02 4.91615875e-01 7.70000000e+01\n",
      " 1.73201870e-01 4.33851649e-01 3.98504734e-01 6.15850098e-01\n",
      " 6.35093651e-01 4.53040098e-02]\n"
     ]
    }
   ],
   "source": [
    "vector = np.random.rand(10)\n",
    "\n",
    "print (vector)\n",
    "vector[3] = 77\n",
    "\n",
    "print ()\n",
    "print (vector)\n"
   ]
  },
  {
   "attachments": {},
   "cell_type": "markdown",
   "metadata": {},
   "source": [
    "18. Look up the concepts of *diagonal matrix* and *trace matrix* online and write a small explanation about what they are.\n"
   ]
  },
  {
   "attachments": {},
   "cell_type": "markdown",
   "metadata": {},
   "source": [
    "diagonal matrix is a square matrix where all elements (outside the main diagonal) are zero, and the trace of a matrix is the sum of its diagonal elements.\n"
   ]
  },
  {
   "attachments": {},
   "cell_type": "markdown",
   "metadata": {},
   "source": [
    "19. Create a 5x5 diagonal matrix with elements of your choosing. What are the indexes of the diagonal?\n"
   ]
  },
  {
   "cell_type": "code",
   "execution_count": 57,
   "metadata": {},
   "outputs": [
    {
     "name": "stdout",
     "output_type": "stream",
     "text": [
      "[0 9 7 9 9]\n",
      "\n",
      "[[0 0 0 0 0]\n",
      " [0 9 0 0 0]\n",
      " [0 0 7 0 0]\n",
      " [0 0 0 9 0]\n",
      " [0 0 0 0 9]]\n"
     ]
    }
   ],
   "source": [
    "elements = np.random.randint(0, 10, size=5)\n",
    "\n",
    "print (elements)\n",
    "\n",
    "diagonal_matrix = np.diag(elements)\n",
    "\n",
    "print ()\n",
    "print (diagonal_matrix)"
   ]
  },
  {
   "attachments": {},
   "cell_type": "markdown",
   "metadata": {},
   "source": [
    "20. Create a vector that ranges from 10 to 20. Print the values from the 3rd index to the last index.\n"
   ]
  },
  {
   "cell_type": "code",
   "execution_count": 59,
   "metadata": {},
   "outputs": [
    {
     "name": "stdout",
     "output_type": "stream",
     "text": [
      "[10 11 12 13 14 15 16 17 18 19]\n",
      "\n",
      "[12 13 14 15 16 17 18 19]\n"
     ]
    }
   ],
   "source": [
    "vector = np.arange(10, 20)\n",
    "\n",
    "print (vector)\n",
    "print ()\n",
    "\n",
    "print(vector[2:])"
   ]
  },
  {
   "attachments": {},
   "cell_type": "markdown",
   "metadata": {},
   "source": [
    "21. Construct a 10x10 matrix with random elements and perform the following indexing tasks on it. Each task should be a single indexing operation.\n",
    " - Retrieve column 5 of row 3. Moreover;\n",
    " - Retrieve all elements of column 5.\n",
    " - Retrieve the 2nd row of all columns.\n",
    " - Retrieve row 2 through 7 of all columns.\n",
    " - Retrieve values with row index 2 to 5 and column index 3 to 7.\n",
    " - Retrieve the values from row index 5 to the end and column index from the top to 4.\n",
    " - Replace the value corresponding to the 5th row and the 5th column with your year of birth."
   ]
  },
  {
   "cell_type": "code",
   "execution_count": 70,
   "metadata": {},
   "outputs": [
    {
     "name": "stdout",
     "output_type": "stream",
     "text": [
      "[[0.51481735 0.35923337 0.59295085 0.16352387 0.39108154 0.96941232\n",
      "  0.25813343 0.65673666 0.32519006 0.77347313]\n",
      " [0.13087366 0.96982105 0.45378954 0.23605046 0.07349675 0.16975791\n",
      "  0.51977395 0.33700318 0.82888337 0.43088752]\n",
      " [0.24871427 0.61714499 0.70677722 0.16704191 0.16761922 0.03667143\n",
      "  0.73640202 0.66380453 0.47463088 0.84417045]\n",
      " [0.80567015 0.58535436 0.86827128 0.20584121 0.11191962 0.26974961\n",
      "  0.05708686 0.53116953 0.93660569 0.03934354]\n",
      " [0.12210991 0.45219903 0.93387502 0.3161561  0.50723481 0.04157286\n",
      "  0.1483432  0.98663012 0.9651187  0.00493998]\n",
      " [0.95181179 0.63911994 0.86791829 0.45473986 0.51559603 0.48884658\n",
      "  0.66686426 0.13965125 0.02997359 0.30792994]\n",
      " [0.70468076 0.20185345 0.67343243 0.96991205 0.09390072 0.67260212\n",
      "  0.44375022 0.86814225 0.17714979 0.69262595]\n",
      " [0.83811529 0.94461422 0.68324803 0.49717476 0.61784724 0.86890498\n",
      "  0.57060975 0.03038706 0.9309487  0.68952675]\n",
      " [0.67651339 0.21567515 0.65888547 0.39386441 0.65123298 0.10659303\n",
      "  0.6578453  0.99941373 0.04821204 0.97717418]\n",
      " [0.40690796 0.87075345 0.78238548 0.56701626 0.73844921 0.87851556\n",
      "  0.40414032 0.32703316 0.66759339 0.80784594]]\n",
      "\n",
      "0.16761921628831766\n",
      "\n",
      "[0.39108154 0.07349675 0.16761922 0.11191962 0.50723481 0.51559603\n",
      " 0.09390072 0.61784724 0.65123298 0.73844921]\n",
      "\n",
      "[0.13087366 0.96982105 0.45378954 0.23605046 0.07349675 0.16975791\n",
      " 0.51977395 0.33700318 0.82888337 0.43088752]\n",
      "\n",
      "[[0.13087366 0.96982105 0.45378954 0.23605046 0.07349675 0.16975791\n",
      "  0.51977395 0.33700318 0.82888337 0.43088752]\n",
      " [0.24871427 0.61714499 0.70677722 0.16704191 0.16761922 0.03667143\n",
      "  0.73640202 0.66380453 0.47463088 0.84417045]\n",
      " [0.80567015 0.58535436 0.86827128 0.20584121 0.11191962 0.26974961\n",
      "  0.05708686 0.53116953 0.93660569 0.03934354]\n",
      " [0.12210991 0.45219903 0.93387502 0.3161561  0.50723481 0.04157286\n",
      "  0.1483432  0.98663012 0.9651187  0.00493998]\n",
      " [0.95181179 0.63911994 0.86791829 0.45473986 0.51559603 0.48884658\n",
      "  0.66686426 0.13965125 0.02997359 0.30792994]\n",
      " [0.70468076 0.20185345 0.67343243 0.96991205 0.09390072 0.67260212\n",
      "  0.44375022 0.86814225 0.17714979 0.69262595]]\n",
      "\n",
      "[[0.45378954 0.23605046 0.07349675 0.16975791 0.51977395]\n",
      " [0.70677722 0.16704191 0.16761922 0.03667143 0.73640202]\n",
      " [0.86827128 0.20584121 0.11191962 0.26974961 0.05708686]\n",
      " [0.93387502 0.3161561  0.50723481 0.04157286 0.1483432 ]]\n",
      "\n",
      "[[0.12210991 0.45219903 0.93387502 0.3161561 ]\n",
      " [0.95181179 0.63911994 0.86791829 0.45473986]\n",
      " [0.70468076 0.20185345 0.67343243 0.96991205]\n",
      " [0.83811529 0.94461422 0.68324803 0.49717476]\n",
      " [0.67651339 0.21567515 0.65888547 0.39386441]\n",
      " [0.40690796 0.87075345 0.78238548 0.56701626]]\n",
      "\n",
      "[[5.14817354e-01 3.59233369e-01 5.92950851e-01 1.63523873e-01\n",
      "  3.91081537e-01 9.69412322e-01 2.58133433e-01 6.56736665e-01\n",
      "  3.25190064e-01 7.73473126e-01]\n",
      " [1.30873661e-01 9.69821045e-01 4.53789541e-01 2.36050463e-01\n",
      "  7.34967473e-02 1.69757905e-01 5.19773949e-01 3.37003176e-01\n",
      "  8.28883366e-01 4.30887524e-01]\n",
      " [2.48714273e-01 6.17144987e-01 7.06777217e-01 1.67041908e-01\n",
      "  1.67619216e-01 3.66714269e-02 7.36402015e-01 6.63804528e-01\n",
      "  4.74630876e-01 8.44170449e-01]\n",
      " [8.05670153e-01 5.85354364e-01 8.68271281e-01 2.05841210e-01\n",
      "  1.11919619e-01 2.69749612e-01 5.70868561e-02 5.31169528e-01\n",
      "  9.36605692e-01 3.93435407e-02]\n",
      " [1.22109914e-01 4.52199028e-01 9.33875018e-01 3.16156105e-01\n",
      "  1.99400000e+03 4.15728591e-02 1.48343201e-01 9.86630123e-01\n",
      "  9.65118696e-01 4.93998093e-03]\n",
      " [9.51811785e-01 6.39119938e-01 8.67918295e-01 4.54739856e-01\n",
      "  5.15596029e-01 4.88846580e-01 6.66864258e-01 1.39651255e-01\n",
      "  2.99735899e-02 3.07929942e-01]\n",
      " [7.04680763e-01 2.01853452e-01 6.73432433e-01 9.69912046e-01\n",
      "  9.39007158e-02 6.72602118e-01 4.43750219e-01 8.68142254e-01\n",
      "  1.77149789e-01 6.92625952e-01]\n",
      " [8.38115290e-01 9.44614219e-01 6.83248028e-01 4.97174764e-01\n",
      "  6.17847240e-01 8.68904984e-01 5.70609747e-01 3.03870597e-02\n",
      "  9.30948696e-01 6.89526751e-01]\n",
      " [6.76513386e-01 2.15675152e-01 6.58885470e-01 3.93864406e-01\n",
      "  6.51232977e-01 1.06593030e-01 6.57845305e-01 9.99413726e-01\n",
      "  4.82120389e-02 9.77174184e-01]\n",
      " [4.06907961e-01 8.70753450e-01 7.82385484e-01 5.67016261e-01\n",
      "  7.38449209e-01 8.78515561e-01 4.04140322e-01 3.27033162e-01\n",
      "  6.67593386e-01 8.07845942e-01]]\n",
      "\n"
     ]
    }
   ],
   "source": [
    "\n",
    "# Create a 10x10 matrix with random elements\n",
    "matrix = np.random.rand(10, 10)\n",
    "\n",
    "print (matrix)\n",
    "print ()\n",
    "\n",
    "# Retrieve column 5 of row 3\n",
    "one = matrix[2, 4]\n",
    "\n",
    "print (one)\n",
    "print ()\n",
    "\n",
    "\n",
    "# Retrieve all elements of column 5\n",
    "two = matrix[:, 4]\n",
    "print (two)\n",
    "print ()\n",
    "\n",
    "# Retrieve the 2nd row of all columns\n",
    "three = matrix[1, :]\n",
    "print (three)\n",
    "print ()\n",
    "\n",
    "# Retrieve row 2 through 7 of all columns\n",
    "four = matrix[1:7, :]\n",
    "\n",
    "print (four)\n",
    "print ()\n",
    "\n",
    "\n",
    "# Retrieve values with row index 2 to 5 and column index 3 to 7\n",
    "five = matrix[1:5, 2:7]\n",
    "\n",
    "print (five)\n",
    "print ()\n",
    "\n",
    "\n",
    "# Retrieve the values from row index 5 to the end and column index from the top to 4\n",
    "six = matrix[4:, :4]\n",
    "\n",
    "print (six)\n",
    "print ()\n",
    "\n",
    "# Replace the value corresponding to the 5th row and the 5th column with your year of birth\n",
    "matrix[4, 4] = 1994\n",
    "print (matrix)\n",
    "print ()\n"
   ]
  },
  {
   "attachments": {},
   "cell_type": "markdown",
   "metadata": {},
   "source": [
    "22. Construct a one-dimensional array from 0 to 50 jumping with steps of 5 (`[5, 10, ...]`). Use the numpy methods to perform the following tasks;\n",
    "- Print all values greater than 20.\n",
    "- Print all values less than 30.\n",
    "- How many values are 33 in it?\n",
    "- Multiply all the elements of the created array by 5."
   ]
  },
  {
   "cell_type": "code",
   "execution_count": 71,
   "metadata": {},
   "outputs": [
    {
     "name": "stdout",
     "output_type": "stream",
     "text": [
      "[ 0  5 10 15 20 25 30 35 40 45]\n",
      "\n",
      "[25 30 35 40 45]\n",
      "\n",
      "[ 0  5 10 15 20 25]\n",
      "\n",
      "0\n",
      "\n",
      "[  0  25  50  75 100 125 150 175 200 225]\n"
     ]
    }
   ],
   "source": [
    "array = np.arange(0, 50, 5)\n",
    "\n",
    "print (array)\n",
    "print ()\n",
    "\n",
    "# Print all values greater than 20\n",
    "greater_than_20 = array[array > 20]\n",
    "\n",
    "print (greater_than_20)\n",
    "print ()\n",
    "\n",
    "\n",
    "# Print all values less than 30\n",
    "less_than_30 = array[array < 30]\n",
    "print (less_than_30)\n",
    "print ()\n",
    "\n",
    "\n",
    "# Count the number of values that are 33\n",
    "count_33 = np.count_nonzero(array == 33)\n",
    "print (count_33)\n",
    "print ()\n",
    "\n",
    "# Multiply all elements of the array by 5\n",
    "multiply = array * 5\n",
    "\n",
    "print (multiply)\n",
    "\n",
    "\n"
   ]
  },
  {
   "attachments": {},
   "cell_type": "markdown",
   "metadata": {},
   "source": [
    "23. Construct an array of 50 random floats between 0 and 1 and take the average. Moreover;\n",
    "- Get the standard deviation.\n",
    "- Get the variance.\n",
    "- Take the median.\n",
    "- Find the smallest value.\n",
    "- Find the largest value."
   ]
  },
  {
   "cell_type": "code",
   "execution_count": 72,
   "metadata": {},
   "outputs": [
    {
     "name": "stdout",
     "output_type": "stream",
     "text": [
      "[0.76228513 0.79781365 0.43558331 0.81783422 0.12020906 0.5444891\n",
      " 0.00575866 0.32458583 0.36646153 0.39617269 0.69546721 0.3885581\n",
      " 0.44869362 0.23754413 0.37325179 0.22726963 0.07319592 0.60344859\n",
      " 0.6682128  0.61949035 0.46349404 0.37978578 0.86333365 0.51908179\n",
      " 0.47918188 0.02564207 0.34124783 0.38019562 0.39882278 0.58017237\n",
      " 0.53360255 0.60790509 0.76488326 0.81298574 0.71812308 0.9555237\n",
      " 0.01823258 0.19577799 0.00756287 0.64747471 0.89803055 0.2434823\n",
      " 0.92703454 0.06026739 0.93443603 0.35162269 0.10142083 0.48587176\n",
      " 0.25677657 0.2848729 ]\n",
      "\n",
      "0.46286340493971756\n",
      "\n",
      "0.26912841286644046\n",
      "\n",
      "0.07243010261200923\n",
      "\n",
      "0.4421384687177318\n",
      "\n",
      "0.0057586604981215705\n",
      "\n",
      "0.9555236959549347\n"
     ]
    }
   ],
   "source": [
    "\n",
    "# Construct an array of 50 random floats between 0 and 1\n",
    "array = np.random.rand(50)\n",
    "print (array)\n",
    "print ()\n",
    "\n",
    "# Calculate the average\n",
    "average = np.average(array)\n",
    "print (average)\n",
    "print ()\n",
    "\n",
    "# Calculate the standard deviation\n",
    "std_deviation = np.std(array)\n",
    "print (std_deviation)\n",
    "print ()\n",
    "\n",
    "# Calculate the variance\n",
    "variance = np.var(array)\n",
    "print (variance)\n",
    "print ()\n",
    "\n",
    "# Calculate the median\n",
    "median = np.median(array)\n",
    "print (median)\n",
    "print ()\n",
    "\n",
    "# Find the smallest value\n",
    "smallest_value = np.min(array)\n",
    "print (smallest_value)\n",
    "print ()\n",
    "\n",
    "# Find the largest value\n",
    "largest_value = np.max(array)\n",
    "print (largest_value)\n"
   ]
  },
  {
   "attachments": {},
   "cell_type": "markdown",
   "metadata": {},
   "source": [
    "24. What are the differences between Pandas Series and NumPy arrays?"
   ]
  },
  {
   "attachments": {},
   "cell_type": "markdown",
   "metadata": {},
   "source": [
    "Numpy can only be used for elements that are numbers while Pandas can have elements of different data types."
   ]
  },
  {
   "attachments": {},
   "cell_type": "markdown",
   "metadata": {},
   "source": [
    "25. Create a 5-element series with different data types, with an index of capital letters."
   ]
  },
  {
   "cell_type": "code",
   "execution_count": 76,
   "metadata": {},
   "outputs": [
    {
     "name": "stdout",
     "output_type": "stream",
     "text": [
      "A           10\n",
      "B        Hello\n",
      "C         3.14\n",
      "D         True\n",
      "E    [1, 2, 3]\n",
      "dtype: object\n"
     ]
    }
   ],
   "source": [
    "\n",
    "indexs_to_use = ['A', 'B', 'C', 'D', 'E']\n",
    "\n",
    "\n",
    "data_to_use = [10, \"Hello\", 3.14, True, [1, 2, 3]]\n",
    "\n",
    "\n",
    "panda_elements = pd.Series(data=data_to_use, index=indexs_to_use)\n",
    "\n",
    "print(panda_elements)"
   ]
  },
  {
   "attachments": {},
   "cell_type": "markdown",
   "metadata": {},
   "source": [
    "26. Create a 5-element dictionary with keys as country names and values as capitals and turn it into a series. An example: ` \"france\" : \"paris\"`)."
   ]
  },
  {
   "cell_type": "code",
   "execution_count": 77,
   "metadata": {},
   "outputs": [
    {
     "name": "stdout",
     "output_type": "stream",
     "text": [
      "The Netherlands    Amsterdam\n",
      "Belgium             Brussels\n",
      "Germany               Berlin\n",
      "Jordan                 Amman\n",
      "Turkey                Ankara\n",
      "dtype: object\n"
     ]
    }
   ],
   "source": [
    "\n",
    "capitals = {'The Netherlands': 'Amsterdam',\n",
    "             'Belgium': 'Brussels',\n",
    "               'Germany': 'Berlin',\n",
    "               'Jordan': 'Amman',\n",
    "                 'Turkey': 'Ankara'}\n",
    "\n",
    "\n",
    "panda = pd.Series(capitals)\n",
    "\n",
    "print(panda)"
   ]
  },
  {
   "attachments": {},
   "cell_type": "markdown",
   "metadata": {},
   "source": [
    "27. Create a random vector with 10 elements.\n",
    "- Convert the vector to series and with strings as indeces. For example, a,b,c,d,e,f,g..\n",
    "- Retrieve the 3rd element of the series using the index name (for example: c).\n",
    "- Retrieve the 1st element of the series using the index number.\n",
    "- Access the 2nd and 7th elements of the series at the same time, using the index name. (Example: values corresponding to index b and g)"
   ]
  },
  {
   "cell_type": "code",
   "execution_count": 78,
   "metadata": {},
   "outputs": [
    {
     "name": "stdout",
     "output_type": "stream",
     "text": [
      "[0.30728996 0.8030259  0.53916128 0.3113077  0.61033378 0.71615067\n",
      " 0.272624   0.4135491  0.12188609 0.18114935]\n",
      "\n",
      "a    0.307290\n",
      "b    0.803026\n",
      "c    0.539161\n",
      "d    0.311308\n",
      "e    0.610334\n",
      "f    0.716151\n",
      "g    0.272624\n",
      "h    0.413549\n",
      "i    0.121886\n",
      "j    0.181149\n",
      "dtype: float64\n",
      "\n",
      "0.5391612766752545\n",
      "\n",
      "0.3072899649262866\n",
      "\n",
      "b    0.803026\n",
      "g    0.272624\n",
      "dtype: float64\n"
     ]
    }
   ],
   "source": [
    "\n",
    "# Create a random vector with 10 elements\n",
    "vector = np.random.rand(10)\n",
    "\n",
    "print (vector)\n",
    "print ()\n",
    "\n",
    "# Convert the vector to a Pandas Series with string indices\n",
    "to_panda = pd.Series(vector, index=['a', 'b', 'c', 'd', 'e', 'f', 'g', 'h', 'i', 'j'])\n",
    "\n",
    "print (to_panda)\n",
    "print ()\n",
    "\n",
    "# Retrieve the 3rd element of the series using the index name\n",
    "print(to_panda['c'])\n",
    "print ()\n",
    "\n",
    "# Retrieve the 1st element of the series using the index number\n",
    "print(to_panda[0])\n",
    "print ()\n",
    "\n",
    "# Access the 2nd and 7th elements of the series at the same time, using the index name\n",
    "print(to_panda[['b', 'g']])\n"
   ]
  },
  {
   "attachments": {},
   "cell_type": "markdown",
   "metadata": {},
   "source": [
    "28. Create two 5-element series with elements of your choice with default index.\n",
    "- Combine the series you have created.\n",
    "- Arrange the index of the resulting concatenated 10-element series from 1 to 10."
   ]
  },
  {
   "cell_type": "code",
   "execution_count": 5,
   "metadata": {},
   "outputs": [
    {
     "name": "stdout",
     "output_type": "stream",
     "text": [
      "0    10\n",
      "1    20\n",
      "2    30\n",
      "3    40\n",
      "4    50\n",
      "dtype: int64\n",
      "\n",
      "0    A\n",
      "1    B\n",
      "2    C\n",
      "3    D\n",
      "4    E\n",
      "dtype: object\n",
      "\n",
      "0    10\n",
      "1    20\n",
      "2    30\n",
      "3    40\n",
      "4    50\n",
      "0     A\n",
      "1     B\n",
      "2     C\n",
      "3     D\n",
      "4     E\n",
      "dtype: object\n",
      "\n",
      "1     10\n",
      "2     20\n",
      "3     30\n",
      "4     40\n",
      "5     50\n",
      "6      A\n",
      "7      B\n",
      "8      C\n",
      "9      D\n",
      "10     E\n",
      "dtype: object\n"
     ]
    }
   ],
   "source": [
    "\n",
    "# Create two series with elements of your choice\n",
    "series1 = pd.Series([10, 20, 30, 40, 50])\n",
    "print (series1)\n",
    "print ()\n",
    "\n",
    "series2 = pd.Series(['A', 'B', 'C', 'D', 'E'])\n",
    "print (series2)\n",
    "print ()\n",
    "\n",
    "# Combine the series\n",
    "combined = pd.concat([series1, series2])\n",
    "print (combined)\n",
    "print ()\n",
    "\n",
    "# Arrange the index of the resulting concatenated series from 1 to 10\n",
    "combined.index = range(1, 11)\n",
    "\n",
    "print(combined)"
   ]
  },
  {
   "attachments": {},
   "cell_type": "markdown",
   "metadata": {},
   "source": [
    "**Bonus homework**:\n",
    "\n",
    "\n",
    "Generate two 20x20 matrices with values between 0 and 1 randomly in a loop and take the difference of these\n",
    "matrices. Repeat this process until all elements on the diagonal of the difference matrix\n",
    "is between -0.1 and 0.1. When the desired matrix is found, let the program stop\n",
    "and print the total number of cycles, how long it took, and the desired matrix\n",
    "with print.\n",
    "\n",
    "\n",
    "Tip: Finding the 20 x 20 matrix can take hours. Therefore, to test the accuracy\n",
    "of your algorithm, you can first try it on small matrices such as 4x4, 5x5. And\n",
    "you can try the latest 20x20 by increasing the number of matrix. (You can do\n",
    "the matrix generation with the np.random.random((a,b)) function. It generates\n",
    "an array of desired sizes between 0-1.)\n"
   ]
  },
  {
   "cell_type": "code",
   "execution_count": 8,
   "metadata": {},
   "outputs": [
    {
     "name": "stdout",
     "output_type": "stream",
     "text": [
      "[[0.80203982 0.30776679 0.96514057 0.22254882 0.96082357 0.88386248\n",
      "  0.70451455 0.81831221 0.14548417 0.8959089 ]\n",
      " [0.98036683 0.14353201 0.28529909 0.69382485 0.60194746 0.475862\n",
      "  0.31297111 0.97058358 0.17919567 0.15907398]\n",
      " [0.41137242 0.48203334 0.46616916 0.76720021 0.29136543 0.0795811\n",
      "  0.78117109 0.12738464 0.68651872 0.39496577]\n",
      " [0.54496983 0.37466624 0.0617913  0.53042882 0.40448796 0.76969605\n",
      "  0.20853571 0.51940513 0.91002657 0.00812047]\n",
      " [0.51407471 0.65924698 0.27077373 0.26043534 0.87028382 0.48404125\n",
      "  0.11449501 0.35794764 0.08981719 0.08823397]\n",
      " [0.38782498 0.68402206 0.11227034 0.50878429 0.48766131 0.12199372\n",
      "  0.95849971 0.98251215 0.55170378 0.59825786]\n",
      " [0.41522148 0.70202938 0.21248676 0.22896877 0.15433878 0.25010281\n",
      "  0.46566852 0.06914628 0.39681494 0.55999141]\n",
      " [0.41197287 0.69454831 0.32287117 0.96678505 0.83378521 0.7331555\n",
      "  0.70858667 0.12600876 0.34546425 0.00619238]\n",
      " [0.52984152 0.37588775 0.56028108 0.05727417 0.24793042 0.68294765\n",
      "  0.52578849 0.66889901 0.21294442 0.05397293]\n",
      " [0.82445666 0.76913988 0.62643065 0.48334431 0.65385235 0.49251463\n",
      "  0.76416145 0.69881082 0.13019246 0.31224236]]\n",
      "[[0.72172713 0.29042274 0.64270024 0.38845608 0.3129209  0.65477374\n",
      "  0.71715283 0.2777364  0.2432717  0.53544144]\n",
      " [0.4241309  0.21952347 0.56259197 0.88888657 0.57858518 0.72735638\n",
      "  0.61142464 0.66673123 0.33966524 0.19494811]\n",
      " [0.55280306 0.89255497 0.47260232 0.27342196 0.0339077  0.96913436\n",
      "  0.93195147 0.37059954 0.2995923  0.59400496]\n",
      " [0.17203848 0.64198514 0.03786261 0.59183775 0.57453254 0.41388092\n",
      "  0.29310621 0.60934775 0.08744375 0.39002541]\n",
      " [0.51377704 0.53389463 0.40633852 0.72062933 0.88069679 0.7699717\n",
      "  0.58540794 0.84959961 0.09337854 0.64184151]\n",
      " [0.37776693 0.66785879 0.03977042 0.70634943 0.44832173 0.06685455\n",
      "  0.37565078 0.37979734 0.00338834 0.05422313]\n",
      " [0.1749701  0.84853587 0.7494622  0.17769094 0.18820354 0.43967561\n",
      "  0.50601262 0.765384   0.29873345 0.03724428]\n",
      " [0.67970462 0.4620484  0.15482759 0.52098347 0.84076659 0.78468796\n",
      "  0.32573173 0.14698139 0.50888749 0.6979796 ]\n",
      " [0.47917136 0.1064288  0.9428681  0.23238226 0.10254983 0.96916175\n",
      "  0.65787511 0.52870638 0.13661541 0.6500279 ]\n",
      " [0.73110796 0.15028509 0.88760282 0.2838273  0.83642589 0.65564531\n",
      "  0.21397019 0.81672623 0.03382522 0.35373184]]\n",
      "<built-in method diagonal of numpy.ndarray object at 0x7ffab5e4cc90>\n",
      "Time taken:  3.69028902053833\n"
     ]
    }
   ],
   "source": [
    "# YOUR CODE HERE\n",
    "import numpy as np\n",
    "np.random.seed(42)\n",
    "import time\n",
    "\n",
    "size = 10\n",
    "\n",
    "# record how long the while loop takes\n",
    "start = time.time()\n",
    "\n",
    "while True:\n",
    "    # generate two random matrices of size 3x3\n",
    "    a = np.random.random((size, size))\n",
    "    b = np.random.random((size, size))\n",
    "\n",
    "    diff = np.abs(a - b)\n",
    "    # get diagonal of diff\n",
    "    if np.all(np.diag(diff) <= 0.1):\n",
    "        print(\"Found a match!\")\n",
    "        print(\"matrix 1:\")\n",
    "        print(a)\n",
    "        print(\"matrix 2:\")\n",
    "        print(b)\n",
    "        print(\"diagonal of diff:\")\n",
    "        print(np.diagonal(diff))\n",
    "        break\n",
    "\n",
    "# stop time\n",
    "end = time.time()\n",
    "print(\"Time taken: \", end - start)\n"
   ]
  }
 ],
 "metadata": {
  "kernelspec": {
   "display_name": "Python 3",
   "language": "python",
   "name": "python3"
  },
  "language_info": {
   "codemirror_mode": {
    "name": "ipython",
    "version": 3
   },
   "file_extension": ".py",
   "mimetype": "text/x-python",
   "name": "python",
   "nbconvert_exporter": "python",
   "pygments_lexer": "ipython3",
   "version": "3.10.6"
  },
  "orig_nbformat": 4,
  "vscode": {
   "interpreter": {
    "hash": "8a94588eda9d64d9e9a351ab8144e55b1fabf5113b54e67dd26a8c27df0381b3"
   }
  }
 },
 "nbformat": 4,
 "nbformat_minor": 2
}
