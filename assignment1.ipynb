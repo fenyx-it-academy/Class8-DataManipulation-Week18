{
 "cells": [
  {
   "attachments": {},
   "cell_type": "markdown",
   "metadata": {},
   "source": [
    "## Data Manipulation module\n",
    "### Homework assignment 1\n",
    "\n",
    "Welcome to the first homework assignment of the data manipulation module. In this assignment you will be working with NumPy and Pandas Series. The goal of this assignment is to get you familiar with these libraries and data types.\n",
    "\n",
    "### Instructions\n",
    "Read the exercises carefully and implement the requested functionality. Add your code in the cells provided with `YOUR CODE HERE` or `YOUR ANSWER HERE`. You can add cells if you need to. **Make sure to use NumPy methods** to find your answers. In some cases you might be able to read the answer, but we want to see you using the NumPy methods.\n",
    "\n",
    "### Hand-in\n",
    "To hand in your assignment, fork this notebook and commit your changes, then make a pull request to the original repository. The deadline for handing in the assignment is **Wednesday 10-05 23:59**."
   ]
  },
  {
   "cell_type": "code",
   "execution_count": 3,
   "metadata": {},
   "outputs": [],
   "source": [
    "# imports, no need to edit\n",
    "\n",
    "import numpy as np\n",
    "import pandas as pd\n",
    "\n",
    "np.random.seed(42)"
   ]
  },
  {
   "attachments": {},
   "cell_type": "markdown",
   "metadata": {},
   "source": [
    "1. Explain the difference between a vector and matrix in NumPy in one sentence."
   ]
  },
  {
   "attachments": {},
   "cell_type": "markdown",
   "metadata": {},
   "source": [
    "A vector is an array with a single dimension while a matrix refers to an array with two dimensions."
   ]
  },
  {
   "attachments": {},
   "cell_type": "markdown",
   "metadata": {},
   "source": [
    "2. Construct a NumPy Array from a list of 10 elements."
   ]
  },
  {
   "cell_type": "code",
   "execution_count": 4,
   "metadata": {},
   "outputs": [
    {
     "name": "stdout",
     "output_type": "stream",
     "text": [
      "[ 3  5 12  3  9  7  0 23  4  8]\n"
     ]
    }
   ],
   "source": [
    "lst_a = [3,5,12,3,9,7,0,23,4,8]\n",
    "vect_a = np.array(lst_a)\n",
    "print(vect_a)"
   ]
  },
  {
   "attachments": {},
   "cell_type": "markdown",
   "metadata": {},
   "source": [
    "3. Construct a 10x10 matrix filled with '0's of the integer data type."
   ]
  },
  {
   "cell_type": "code",
   "execution_count": 5,
   "metadata": {},
   "outputs": [
    {
     "name": "stdout",
     "output_type": "stream",
     "text": [
      "[[0 0 0 0 0 0 0 0 0 0]\n",
      " [0 0 0 0 0 0 0 0 0 0]\n",
      " [0 0 0 0 0 0 0 0 0 0]\n",
      " [0 0 0 0 0 0 0 0 0 0]\n",
      " [0 0 0 0 0 0 0 0 0 0]\n",
      " [0 0 0 0 0 0 0 0 0 0]\n",
      " [0 0 0 0 0 0 0 0 0 0]\n",
      " [0 0 0 0 0 0 0 0 0 0]\n",
      " [0 0 0 0 0 0 0 0 0 0]\n",
      " [0 0 0 0 0 0 0 0 0 0]]\n"
     ]
    }
   ],
   "source": [
    "zeros = np.zeros((10,10), dtype=np.int64)\n",
    "print(zeros)"
   ]
  },
  {
   "attachments": {},
   "cell_type": "markdown",
   "metadata": {},
   "source": [
    "4. Construct a 10x10 matrix filled with '1's, data type float."
   ]
  },
  {
   "cell_type": "code",
   "execution_count": 6,
   "metadata": {},
   "outputs": [
    {
     "name": "stdout",
     "output_type": "stream",
     "text": [
      "[[1. 1. 1. 1. 1. 1. 1. 1. 1. 1.]\n",
      " [1. 1. 1. 1. 1. 1. 1. 1. 1. 1.]\n",
      " [1. 1. 1. 1. 1. 1. 1. 1. 1. 1.]\n",
      " [1. 1. 1. 1. 1. 1. 1. 1. 1. 1.]\n",
      " [1. 1. 1. 1. 1. 1. 1. 1. 1. 1.]\n",
      " [1. 1. 1. 1. 1. 1. 1. 1. 1. 1.]\n",
      " [1. 1. 1. 1. 1. 1. 1. 1. 1. 1.]\n",
      " [1. 1. 1. 1. 1. 1. 1. 1. 1. 1.]\n",
      " [1. 1. 1. 1. 1. 1. 1. 1. 1. 1.]\n",
      " [1. 1. 1. 1. 1. 1. 1. 1. 1. 1.]]\n"
     ]
    }
   ],
   "source": [
    "ones = np.ones((10,10))\n",
    "print(ones)"
   ]
  },
  {
   "attachments": {},
   "cell_type": "markdown",
   "metadata": {},
   "source": [
    "5. Construct a 10x10 matrix filled with '9's of the integer data type."
   ]
  },
  {
   "cell_type": "code",
   "execution_count": 7,
   "metadata": {},
   "outputs": [
    {
     "name": "stdout",
     "output_type": "stream",
     "text": [
      "[[9 9 9 9 9 9 9 9 9 9]\n",
      " [9 9 9 9 9 9 9 9 9 9]\n",
      " [9 9 9 9 9 9 9 9 9 9]\n",
      " [9 9 9 9 9 9 9 9 9 9]\n",
      " [9 9 9 9 9 9 9 9 9 9]\n",
      " [9 9 9 9 9 9 9 9 9 9]\n",
      " [9 9 9 9 9 9 9 9 9 9]\n",
      " [9 9 9 9 9 9 9 9 9 9]\n",
      " [9 9 9 9 9 9 9 9 9 9]\n",
      " [9 9 9 9 9 9 9 9 9 9]]\n"
     ]
    }
   ],
   "source": [
    "nines = np.full((10,10), 9, dtype=np.int64)\n",
    "print(nines)"
   ]
  },
  {
   "attachments": {},
   "cell_type": "markdown",
   "metadata": {},
   "source": [
    "6. Construct a one-dimensional array with values between 5 and 25 that jumps with steps of 3 (`[5, 8, ...]`)"
   ]
  },
  {
   "cell_type": "code",
   "execution_count": 8,
   "metadata": {},
   "outputs": [
    {
     "name": "stdout",
     "output_type": "stream",
     "text": [
      "[ 5  8 11 14 17 20 23]\n"
     ]
    }
   ],
   "source": [
    "step3 = np.arange(5,25,3)\n",
    "print(step3)"
   ]
  },
  {
   "attachments": {},
   "cell_type": "markdown",
   "metadata": {},
   "source": [
    "7. Create an array of size 30 with evenly spaced values between -1 and 1."
   ]
  },
  {
   "cell_type": "code",
   "execution_count": 9,
   "metadata": {},
   "outputs": [
    {
     "name": "stdout",
     "output_type": "stream",
     "text": [
      "[-1.         -0.93103448 -0.86206897 -0.79310345 -0.72413793 -0.65517241\n",
      " -0.5862069  -0.51724138 -0.44827586 -0.37931034 -0.31034483 -0.24137931\n",
      " -0.17241379 -0.10344828 -0.03448276  0.03448276  0.10344828  0.17241379\n",
      "  0.24137931  0.31034483  0.37931034  0.44827586  0.51724138  0.5862069\n",
      "  0.65517241  0.72413793  0.79310345  0.86206897  0.93103448  1.        ]\n"
     ]
    }
   ],
   "source": [
    "a =  np.linspace(-1,1, num = 30)\n",
    "print(a)"
   ]
  },
  {
   "attachments": {},
   "cell_type": "markdown",
   "metadata": {},
   "source": [
    "8. Construct a 5x6 matrix with integers from 0 to 30."
   ]
  },
  {
   "cell_type": "code",
   "execution_count": 10,
   "metadata": {},
   "outputs": [
    {
     "name": "stdout",
     "output_type": "stream",
     "text": [
      "[[ 0  1  2  3  4  5]\n",
      " [ 6  7  8  9 10 11]\n",
      " [12 13 14 15 16 17]\n",
      " [18 19 20 21 22 23]\n",
      " [24 25 26 27 28 29]]\n"
     ]
    }
   ],
   "source": [
    "matrix = np.arange(0,30,1).reshape(5,6)\n",
    "print(matrix)"
   ]
  },
  {
   "attachments": {},
   "cell_type": "markdown",
   "metadata": {},
   "source": [
    "9. Create an array of 30 random integers and sort it in ascending order."
   ]
  },
  {
   "cell_type": "code",
   "execution_count": 11,
   "metadata": {},
   "outputs": [
    {
     "name": "stdout",
     "output_type": "stream",
     "text": [
      "[ 1  1  2 14 20 20 21 21 23 29 32 37 48 51 52 57 59 60 63 71 74 74 75 82\n",
      " 86 87 87 88 92 99]\n"
     ]
    }
   ],
   "source": [
    "rn_arr= np.random.randint(100, size=30)\n",
    "sorted_arr= np.sort(rn_arr)\n",
    "print(sorted_arr)"
   ]
  },
  {
   "attachments": {},
   "cell_type": "markdown",
   "metadata": {},
   "source": [
    "10. Construct a 5x10 matrix filled with the value 1 at each location. Print the following details about this matrix:\n",
    "- number of elements\n",
    "- shape of the matrix\n",
    "- the data type (using numpy methods)\n"
   ]
  },
  {
   "cell_type": "code",
   "execution_count": 12,
   "metadata": {},
   "outputs": [
    {
     "name": "stdout",
     "output_type": "stream",
     "text": [
      "Element count =  50\n",
      "Shape of the matrix =  (5, 10)\n",
      "Data type of the matrix elements =  float64\n"
     ]
    }
   ],
   "source": [
    "ones = np.ones((5,10))\n",
    "print(\"Element count = \",np.size(ones))\n",
    "print(\"Shape of the matrix = \",np.shape(ones))\n",
    "print(\"Data type of the matrix elements = \",ones.dtype)"
   ]
  },
  {
   "attachments": {},
   "cell_type": "markdown",
   "metadata": {},
   "source": [
    "11. Construct a 3x4x7 matrix with random integer values between 0 and 10 (a 3D matrix will be created).\n"
   ]
  },
  {
   "cell_type": "code",
   "execution_count": 13,
   "metadata": {},
   "outputs": [
    {
     "name": "stdout",
     "output_type": "stream",
     "text": [
      "[[[9 2 6 3 8 2 4]\n",
      "  [2 6 4 8 6 1 3]\n",
      "  [8 1 9 8 9 4 1]\n",
      "  [3 6 7 2 0 3 1]]\n",
      "\n",
      " [[7 3 1 5 5 9 3]\n",
      "  [5 1 9 1 9 3 7]\n",
      "  [6 8 7 4 1 4 7]\n",
      "  [9 8 8 0 8 6 8]]\n",
      "\n",
      " [[7 0 7 7 2 0 7]\n",
      "  [2 2 0 4 9 6 9]\n",
      "  [8 6 8 7 1 0 6]\n",
      "  [6 7 4 2 7 5 2]]]\n"
     ]
    }
   ],
   "source": [
    "arr= np.random.randint(10,size=(3,4,7))\n",
    "print(arr)"
   ]
  },
  {
   "attachments": {},
   "cell_type": "markdown",
   "metadata": {},
   "source": [
    "12. Create an array of 20 random integers and reshape it into a 4x5 matrix."
   ]
  },
  {
   "cell_type": "code",
   "execution_count": 14,
   "metadata": {},
   "outputs": [
    {
     "name": "stdout",
     "output_type": "stream",
     "text": [
      "[[64 98 46 77  2]\n",
      " [ 0  4 89 13 26]\n",
      " [ 8 78 14 89 41]\n",
      " [76 50 62 95 51]]\n"
     ]
    }
   ],
   "source": [
    "rn_arr= np.random.randint(100,size=20)\n",
    "matrix45= rn_arr.reshape(4,5)\n",
    "print(matrix45)"
   ]
  },
  {
   "attachments": {},
   "cell_type": "markdown",
   "metadata": {},
   "source": [
    "13. Construct a one-dimensional array by concetanating 4 separate one-dimensional arrays."
   ]
  },
  {
   "cell_type": "code",
   "execution_count": 15,
   "metadata": {},
   "outputs": [
    {
     "name": "stdout",
     "output_type": "stream",
     "text": [
      "[95  3 93 22 14 42 28 35 12 31 70 58 85 27 65 41 44 61 56  5]\n"
     ]
    }
   ],
   "source": [
    "a= np.random.randint(100, size=5)\n",
    "b= np.random.randint(100, size=5)\n",
    "c= np.random.randint(100, size=5)\n",
    "d= np.random.randint(100, size=5)\n",
    "\n",
    "e = np.concatenate((a,b,c,d))\n",
    "\n",
    "print(e)"
   ]
  },
  {
   "attachments": {},
   "cell_type": "markdown",
   "metadata": {},
   "source": [
    "14. Create a vector of length 3 (3x1) and a matrix of size 3x3. Combine these two arrays on a\n",
    "    column-by-column basis using numpy methods.\n"
   ]
  },
  {
   "cell_type": "code",
   "execution_count": 16,
   "metadata": {},
   "outputs": [
    {
     "name": "stdout",
     "output_type": "stream",
     "text": [
      "[[1]\n",
      " [2]\n",
      " [3]]\n",
      "[[3 9 6]\n",
      " [8 6 0]\n",
      " [0 8 8]]\n",
      "[[3 9 6 1]\n",
      " [8 6 0 2]\n",
      " [0 8 8 3]]\n"
     ]
    }
   ],
   "source": [
    "a = np.array([1, 2, 3]).reshape(-1, 1)\n",
    "b = np.random.randint(0, 10, (3, 3))\n",
    "print(a)\n",
    "print(b)\n",
    "c = np.hstack((b,a))\n",
    "print(c)\n"
   ]
  },
  {
   "cell_type": "code",
   "execution_count": 17,
   "metadata": {},
   "outputs": [
    {
     "data": {
      "text/plain": [
       "1"
      ]
     },
     "execution_count": 17,
     "metadata": {},
     "output_type": "execute_result"
    }
   ],
   "source": [
    "np.argmax(b)"
   ]
  },
  {
   "attachments": {},
   "cell_type": "markdown",
   "metadata": {},
   "source": [
    "15. What is the difference between \"axis=1\" and \"axis=0\" in Numpy functions? "
   ]
  },
  {
   "attachments": {},
   "cell_type": "markdown",
   "metadata": {},
   "source": [
    "Specifies the axis on which the functions should be calculated. If axis=0, the function is calculated for each column and the column results are obtained as a vector. If axis=1, the function is calculated for each row"
   ]
  },
  {
   "attachments": {},
   "cell_type": "markdown",
   "metadata": {},
   "source": [
    "16. Create a random 1D vector with 20 elements. Find the 3rd, 5th and 7th elements of this vector.\n"
   ]
  },
  {
   "cell_type": "code",
   "execution_count": 18,
   "metadata": {},
   "outputs": [
    {
     "name": "stdout",
     "output_type": "stream",
     "text": [
      "[76  2 69 71 26  8 61 36 96 50 43 23 78 58 31 95 87 51 61 57]\n",
      "[69 26 61]\n"
     ]
    }
   ],
   "source": [
    "arr = np.random.randint(100, size=20)\n",
    "print(arr)\n",
    "print(arr[[2,4,6]])"
   ]
  },
  {
   "attachments": {},
   "cell_type": "markdown",
   "metadata": {},
   "source": [
    "17. Create a random vector with 10 elements and replace the 4th element of this array with a different number."
   ]
  },
  {
   "cell_type": "code",
   "execution_count": 19,
   "metadata": {},
   "outputs": [
    {
     "name": "stdout",
     "output_type": "stream",
     "text": [
      "[51 11 38  1  2 55 80 58  1  1]\n",
      "[51 11 38 35  2 55 80 58  1  1]\n"
     ]
    }
   ],
   "source": [
    "arr = np.random.randint(100, size=10)\n",
    "print(arr)\n",
    "arr[3]=35\n",
    "print(arr)"
   ]
  },
  {
   "attachments": {},
   "cell_type": "markdown",
   "metadata": {},
   "source": [
    "18. Look up the concepts of *diagonal matrix* and *trace matrix* online and write a small explanation about what they are.\n"
   ]
  },
  {
   "attachments": {},
   "cell_type": "markdown",
   "metadata": {},
   "source": [
    "Diagonal matrix is a matrix in which the entries outside the main diagonal are all zero; the term usually refers to square matrices. Elements of the main diagonal can either be zero or nonzero.\n",
    "\n",
    "The trace of a matrix is the sum of its main diagonal entries. For this operation, the matrix must be a square matrix."
   ]
  },
  {
   "attachments": {},
   "cell_type": "markdown",
   "metadata": {},
   "source": [
    "19. Create a 5x5 diagonal matrix with elements of your choosing. What are the indexes of the diagonal?\n"
   ]
  },
  {
   "cell_type": "code",
   "execution_count": 20,
   "metadata": {},
   "outputs": [
    {
     "name": "stdout",
     "output_type": "stream",
     "text": [
      "[[21  0  0  0  0]\n",
      " [ 0 22  0  0  0]\n",
      " [ 0  0  4  0  0]\n",
      " [ 0  0  0  0  0]\n",
      " [ 0  0  0  0  0]]\n",
      "\n",
      "(array([0, 1, 2, 3, 4]), array([0, 1, 2, 3, 4]))\n"
     ]
    }
   ],
   "source": [
    "size = 5\n",
    "diagonal = np.random.randint(25, size = size)\n",
    "matrix = np.diag(diagonal)\n",
    "print(matrix)\n",
    "print()\n",
    "index_diag = np.diag_indices_from(matrix)\n",
    "print(index_diag)\n"
   ]
  },
  {
   "attachments": {},
   "cell_type": "markdown",
   "metadata": {},
   "source": [
    "20. Create a vector that ranges from 10 to 20. Print the values from the 3rd index to the last index.\n"
   ]
  },
  {
   "cell_type": "code",
   "execution_count": 21,
   "metadata": {},
   "outputs": [
    {
     "name": "stdout",
     "output_type": "stream",
     "text": [
      "[12.39561891 11.44894872 14.8945276  19.85650454 12.42055272 16.72135547\n",
      " 17.61619615 12.37637544 17.28216349 13.67783133 16.32305831 16.33529711\n",
      " 15.35774684 10.9028977  18.35302496 13.20780065 11.8651851  10.40775142\n",
      " 15.90892943 16.77564362]\n",
      "[19.85650454 12.42055272 16.72135547 17.61619615 12.37637544 17.28216349\n",
      " 13.67783133 16.32305831 16.33529711 15.35774684 10.9028977  18.35302496\n",
      " 13.20780065 11.8651851  10.40775142 15.90892943 16.77564362]\n"
     ]
    }
   ],
   "source": [
    "min, max = 10, 20\n",
    "arr = (max - min)*np.random.random(size=20) + min\n",
    "print(arr)\n",
    "print(arr[3:])"
   ]
  },
  {
   "attachments": {},
   "cell_type": "markdown",
   "metadata": {},
   "source": [
    "21. Construct a 10x10 matrix with random elements and perform the following indexing tasks on it. Each task should be a single indexing operation.\n",
    " - Retrieve column 5 of row 3. Moreover;\n",
    " - Retrieve all elements of column 5.\n",
    " - Retrieve the 2nd row of all columns.\n",
    " - Retrieve row 2 through 7 of all columns.\n",
    " - Retrieve values with row index 2 to 5 and column index 3 to 7.\n",
    " - Retrieve the values from row index 5 to the end and column index from the top to 4.\n",
    " - Replace the value corresponding to the 5th row and the 5th column with your year of birth."
   ]
  },
  {
   "cell_type": "code",
   "execution_count": 22,
   "metadata": {},
   "outputs": [
    {
     "name": "stdout",
     "output_type": "stream",
     "text": [
      "[[18 89 66 18 19 95 70 51 32 39]\n",
      " [38 81  0 10 91 56 88 49 22 30]\n",
      " [93 41 98  6 15 89 59  1  0 47]\n",
      " [11 68 36 31  8 98 18 47 79  2]\n",
      " [19 23 53 32 23 74 71 35 37 83]\n",
      " [98 88 98 24 92 17 81 65 53 34]\n",
      " [79 60 40 99 32 67 32 13 20 47]\n",
      " [19  7  6 66 16 32 47 75 58 85]\n",
      " [21 29 37 50 53  7 26 26 97 20]\n",
      " [29 96 27 63 96 68 60 47 18  3]]\n",
      "\n",
      "98\n",
      "\n",
      "[95 56 89 98 74 17 67 32  7 68]\n",
      "\n",
      "[93 41 98  6 15 89 59  1  0 47]\n",
      "\n",
      "[[93 41 98  6 15 89 59  1  0 47]\n",
      " [11 68 36 31  8 98 18 47 79  2]\n",
      " [19 23 53 32 23 74 71 35 37 83]\n",
      " [98 88 98 24 92 17 81 65 53 34]\n",
      " [79 60 40 99 32 67 32 13 20 47]]\n",
      "\n",
      "[[ 6 15 89 59]\n",
      " [31  8 98 18]\n",
      " [32 23 74 71]]\n",
      "\n",
      "[[98 88 98 24]\n",
      " [79 60 40 99]\n",
      " [19  7  6 66]\n",
      " [21 29 37 50]\n",
      " [29 96 27 63]]\n",
      "\n",
      "[[  18   89   66   18   19   95   70   51   32   39]\n",
      " [  38   81    0   10   91   56   88   49   22   30]\n",
      " [  93   41   98    6   15   89   59    1    0   47]\n",
      " [  11   68   36   31    8   98   18   47   79    2]\n",
      " [  19   23   53   32   23   74   71   35   37   83]\n",
      " [  98   88   98   24   92 1976   81   65   53   34]\n",
      " [  79   60   40   99   32   67   32   13   20   47]\n",
      " [  19    7    6   66   16   32   47   75   58   85]\n",
      " [  21   29   37   50   53    7   26   26   97   20]\n",
      " [  29   96   27   63   96   68   60   47   18    3]]\n",
      "\n"
     ]
    }
   ],
   "source": [
    "matrix = np.random.randint(100,size=(10,10))\n",
    "print(matrix)\n",
    "print()\n",
    "print(matrix[3,5])\n",
    "print()\n",
    "print(matrix[:,5])\n",
    "print()\n",
    "print(matrix[2,:])\n",
    "print()\n",
    "print(matrix[2:7,:])\n",
    "print()\n",
    "print(matrix[2:5,3:7])\n",
    "print()\n",
    "print(matrix[5:,:4])\n",
    "print()\n",
    "matrix[5,5]=1976\n",
    "print(matrix)\n",
    "print()"
   ]
  },
  {
   "attachments": {},
   "cell_type": "markdown",
   "metadata": {},
   "source": [
    "22. Construct a one-dimensional array from 0 to 50 jumping with steps of 5 (`[5, 10, ...]`). Use the numpy methods to perform the following tasks;\n",
    "- Print all values greater than 20.\n",
    "- Print all values less than 30.\n",
    "- How many values are 33 in it?\n",
    "- Multiply all the elements of the created array by 5."
   ]
  },
  {
   "cell_type": "code",
   "execution_count": 23,
   "metadata": {},
   "outputs": [
    {
     "name": "stdout",
     "output_type": "stream",
     "text": [
      "[ 0  5 10 15 20 25 30 35 40 45]\n",
      "\n",
      "[25 30 35 40 45]\n",
      "\n",
      "[ 0  5 10 15 20 25]\n",
      "\n",
      "[35 40 45]\n",
      "\n",
      "[  0  25  50  75 100 125 150 175 200 225]\n",
      "\n"
     ]
    }
   ],
   "source": [
    "arr = np.arange(0,50,5)\n",
    "print(arr)\n",
    "print()\n",
    "print(arr[arr>20])\n",
    "print()\n",
    "print(arr[arr<30])\n",
    "print()\n",
    "print(arr[arr>33])\n",
    "print()\n",
    "arr *= 5 \n",
    "print(arr)\n",
    "print()"
   ]
  },
  {
   "attachments": {},
   "cell_type": "markdown",
   "metadata": {},
   "source": [
    "23. Construct an array of 50 random floats between 0 and 1 and take the average. Moreover;\n",
    "- Get the standard deviation.\n",
    "- Get the variance.\n",
    "- Take the median.\n",
    "- Find the smallest value.\n",
    "- Find the largest value."
   ]
  },
  {
   "cell_type": "code",
   "execution_count": 24,
   "metadata": {},
   "outputs": [
    {
     "name": "stdout",
     "output_type": "stream",
     "text": [
      "[0.02431597 0.6454723  0.17711068 0.94045858 0.95392858 0.91486439\n",
      " 0.3701587  0.01545662 0.92831856 0.42818415 0.96665482 0.96361998\n",
      " 0.85300946 0.29444889 0.38509773 0.85113667 0.31692201 0.16949275\n",
      " 0.55680126 0.93615477 0.6960298  0.57006117 0.09717649 0.61500723\n",
      " 0.99005385 0.14008402 0.51832965 0.87737307 0.74076862 0.69701574\n",
      " 0.70248408 0.35949115 0.29359184 0.80936116 0.81011339 0.86707232\n",
      " 0.91324055 0.5113424  0.50151629 0.79829518 0.64996393 0.70196688\n",
      " 0.79579267 0.89000534 0.33799516 0.37558295 0.09398194 0.57828014\n",
      " 0.03594227 0.46559802]\n",
      "0.2948247189494498\n",
      "0.08692161490362206\n",
      "0.6302397613031687\n",
      "0.015456616528867428\n",
      "0.9900538501042633\n"
     ]
    }
   ],
   "source": [
    "arr = np.random.random(50)\n",
    "std = np.std(arr)\n",
    "var = np.var(arr)\n",
    "median = np.median(arr)\n",
    "min = np.min(arr)\n",
    "max = np.max(arr)\n",
    "print(arr)\n",
    "print(std)\n",
    "print(var)\n",
    "print(median)\n",
    "print(min)\n",
    "print(max)"
   ]
  },
  {
   "attachments": {},
   "cell_type": "markdown",
   "metadata": {},
   "source": [
    "24. What are the differences between Pandas Series and NumPy arrays?"
   ]
  },
  {
   "attachments": {},
   "cell_type": "markdown",
   "metadata": {},
   "source": [
    "        Pandas                                                  Numpy\n",
    "Tabular data                                              Numerical data \n",
    "Data frame and Series                                     Arrays\n",
    "consumes more memory                                      memory efficient\n",
    "better performance over 500K rows\t                  better performance below 50K rows\n",
    "Indexing of the pandas series is very slow \t          Indexing of numpy Arrays is very fast.\n",
    "It has a higher industry application.\t                  It has a lower industry application."
   ]
  },
  {
   "attachments": {},
   "cell_type": "markdown",
   "metadata": {},
   "source": [
    "25. Create a 5-element series with different data types, with an index of capital letters."
   ]
  },
  {
   "cell_type": "code",
   "execution_count": 25,
   "metadata": {},
   "outputs": [
    {
     "name": "stdout",
     "output_type": "stream",
     "text": [
      "A         123\n",
      "B        name\n",
      "C    password\n",
      "D        True\n",
      "E        13.2\n",
      "dtype: object\n"
     ]
    }
   ],
   "source": [
    "series = pd.Series({'A':123, 'B':'name','C':'password', 'D':True,'E':13.2 })\n",
    "print(series)"
   ]
  },
  {
   "attachments": {},
   "cell_type": "markdown",
   "metadata": {},
   "source": [
    "26. Create a 5-element dictionary with keys as country names and values as capitals and turn it into a series. An example: ` \"france\" : \"paris\"`)."
   ]
  },
  {
   "cell_type": "code",
   "execution_count": 26,
   "metadata": {},
   "outputs": [
    {
     "name": "stdout",
     "output_type": "stream",
     "text": [
      "Germany          Berlin\n",
      "Netherland    Amsterdam\n",
      "Norway             OSlo\n",
      "Denmark        Kopenhag\n",
      "France            Paris\n",
      "dtype: object\n"
     ]
    }
   ],
   "source": [
    "series = pd.Series({'Germany':'Berlin', 'Netherland':'Amsterdam','Norway':'OSlo', 'Denmark':'Kopenhag', 'France':'Paris'})\n",
    "print(series)"
   ]
  },
  {
   "attachments": {},
   "cell_type": "markdown",
   "metadata": {},
   "source": [
    "27. Create a random vector with 10 elements.\n",
    "- Convert the vector to series and with strings as indeces. For example, a,b,c,d,e,f,g..\n",
    "- Retrieve the 3rd element of the series using the index name (for example: c).\n",
    "- Retrieve the 1st element of the series using the index number.\n",
    "- Access the 2nd and 7th elements of the series at the same time, using the index name. (Example: values corresponding to index b and g)"
   ]
  },
  {
   "cell_type": "code",
   "execution_count": 37,
   "metadata": {},
   "outputs": [
    {
     "name": "stdout",
     "output_type": "stream",
     "text": [
      "a    9\n",
      "b    1\n",
      "c    2\n",
      "d    1\n",
      "e    2\n",
      "f    6\n",
      "g    0\n",
      "h    9\n",
      "i    7\n",
      "j    9\n",
      "dtype: int32\n",
      "\n",
      "2\n",
      "\n",
      "9\n",
      "\n",
      "b    1\n",
      "g    0\n",
      "dtype: int32\n"
     ]
    }
   ],
   "source": [
    "arr = np.random.randint(10, size=10)\n",
    "index = ['a', 'b', 'c', 'd', 'e','f', 'g', 'h', 'i', 'j']\n",
    "series = pd.Series(arr, index)\n",
    "print(series)\n",
    "print()\n",
    "print(series['c'])\n",
    "print()\n",
    "print(series[0])\n",
    "print()\n",
    "print(series[['b', 'g']])"
   ]
  },
  {
   "attachments": {},
   "cell_type": "markdown",
   "metadata": {},
   "source": [
    "28. Create two 5-element series with elements of your choice with default index.\n",
    "- Combine the series you have created.\n",
    "- Arrange the index of the resulting concatenated 10-element series from 1 to 10."
   ]
  },
  {
   "cell_type": "code",
   "execution_count": 44,
   "metadata": {},
   "outputs": [
    {
     "name": "stdout",
     "output_type": "stream",
     "text": [
      "\n",
      "0    0.396652\n",
      "1    0.891897\n",
      "2    0.146605\n",
      "3    0.513326\n",
      "4    0.233228\n",
      "5    0.581305\n",
      "6    0.863139\n",
      "7    0.880360\n",
      "8    0.236685\n",
      "9    0.907694\n",
      "dtype: float64\n"
     ]
    }
   ],
   "source": [
    "ser1 = pd.Series(np.random.random(5))\n",
    "ser2 = pd.Series(np.random.random(5))\n",
    "ser3 = pd.concat([ser1, ser2])\n",
    "ser3.index=np.arange(0,10)\n",
    "print()\n",
    "print(ser3)\n"
   ]
  },
  {
   "attachments": {},
   "cell_type": "markdown",
   "metadata": {},
   "source": [
    "**Bonus homework**:\n",
    "\n",
    "\n",
    "Generate two 20x20 matrices with values between 0 and 1 randomly in a loop and take the difference of these\n",
    "matrices. Repeat this process until all elements on the diagonal of the difference matrix\n",
    "is between -0.1 and 0.1. When the desired matrix is found, let the program stop\n",
    "and print the total number of cycles, how long it took, and the desired matrix\n",
    "with print.\n",
    "\n",
    "\n",
    "Tip: Finding the 20 x 20 matrix can take hours. Therefore, to test the accuracy\n",
    "of your algorithm, you can first try it on small matrices such as 4x4, 5x5. And\n",
    "you can try the latest 20x20 by increasing the number of matrix. (You can do\n",
    "the matrix generation with the np.random.random((a,b)) function. It generates\n",
    "an array of desired sizes between 0-1.)\n"
   ]
  },
  {
   "cell_type": "code",
   "execution_count": 29,
   "metadata": {},
   "outputs": [
    {
     "name": "stdout",
     "output_type": "stream",
     "text": [
      "Found a match!\n",
      "matrix 1:\n",
      "[[0.80203982 0.30776679 0.96514057 0.22254882 0.96082357 0.88386248\n",
      "  0.70451455 0.81831221 0.14548417 0.8959089 ]\n",
      " [0.98036683 0.14353201 0.28529909 0.69382485 0.60194746 0.475862\n",
      "  0.31297111 0.97058358 0.17919567 0.15907398]\n",
      " [0.41137242 0.48203334 0.46616916 0.76720021 0.29136543 0.0795811\n",
      "  0.78117109 0.12738464 0.68651872 0.39496577]\n",
      " [0.54496983 0.37466624 0.0617913  0.53042882 0.40448796 0.76969605\n",
      "  0.20853571 0.51940513 0.91002657 0.00812047]\n",
      " [0.51407471 0.65924698 0.27077373 0.26043534 0.87028382 0.48404125\n",
      "  0.11449501 0.35794764 0.08981719 0.08823397]\n",
      " [0.38782498 0.68402206 0.11227034 0.50878429 0.48766131 0.12199372\n",
      "  0.95849971 0.98251215 0.55170378 0.59825786]\n",
      " [0.41522148 0.70202938 0.21248676 0.22896877 0.15433878 0.25010281\n",
      "  0.46566852 0.06914628 0.39681494 0.55999141]\n",
      " [0.41197287 0.69454831 0.32287117 0.96678505 0.83378521 0.7331555\n",
      "  0.70858667 0.12600876 0.34546425 0.00619238]\n",
      " [0.52984152 0.37588775 0.56028108 0.05727417 0.24793042 0.68294765\n",
      "  0.52578849 0.66889901 0.21294442 0.05397293]\n",
      " [0.82445666 0.76913988 0.62643065 0.48334431 0.65385235 0.49251463\n",
      "  0.76416145 0.69881082 0.13019246 0.31224236]]\n",
      "matrix 2:\n",
      "[[0.72172713 0.29042274 0.64270024 0.38845608 0.3129209  0.65477374\n",
      "  0.71715283 0.2777364  0.2432717  0.53544144]\n",
      " [0.4241309  0.21952347 0.56259197 0.88888657 0.57858518 0.72735638\n",
      "  0.61142464 0.66673123 0.33966524 0.19494811]\n",
      " [0.55280306 0.89255497 0.47260232 0.27342196 0.0339077  0.96913436\n",
      "  0.93195147 0.37059954 0.2995923  0.59400496]\n",
      " [0.17203848 0.64198514 0.03786261 0.59183775 0.57453254 0.41388092\n",
      "  0.29310621 0.60934775 0.08744375 0.39002541]\n",
      " [0.51377704 0.53389463 0.40633852 0.72062933 0.88069679 0.7699717\n",
      "  0.58540794 0.84959961 0.09337854 0.64184151]\n",
      " [0.37776693 0.66785879 0.03977042 0.70634943 0.44832173 0.06685455\n",
      "  0.37565078 0.37979734 0.00338834 0.05422313]\n",
      " [0.1749701  0.84853587 0.7494622  0.17769094 0.18820354 0.43967561\n",
      "  0.50601262 0.765384   0.29873345 0.03724428]\n",
      " [0.67970462 0.4620484  0.15482759 0.52098347 0.84076659 0.78468796\n",
      "  0.32573173 0.14698139 0.50888749 0.6979796 ]\n",
      " [0.47917136 0.1064288  0.9428681  0.23238226 0.10254983 0.96916175\n",
      "  0.65787511 0.52870638 0.13661541 0.6500279 ]\n",
      " [0.73110796 0.15028509 0.88760282 0.2838273  0.83642589 0.65564531\n",
      "  0.21397019 0.81672623 0.03382522 0.35373184]]\n",
      "diagonal of diff:\n",
      "[ 0.08031268 -0.07599146 -0.00643316 -0.06140893 -0.01041298  0.05513918\n",
      " -0.0403441  -0.02097263  0.076329   -0.04148948]\n",
      "Time taken: 5.800670146942139\n",
      "Match found at 312021. iteration\n"
     ]
    }
   ],
   "source": [
    "# YOUR CODE HERE\n",
    "import numpy as np\n",
    "np.random.seed(42)\n",
    "import time\n",
    "\n",
    "size= 10\n",
    "cycles= 0\n",
    "\n",
    "# record how long the while loop takes\n",
    "start = time.time()\n",
    "\n",
    "while True:\n",
    "    # generate two random matrices of size 3x3\n",
    "    a = np.random.random((size, size))\n",
    "    b = np.random.random((size, size))\n",
    "\n",
    "    cycles += 1\n",
    "    diff = np.abs(a - b)\n",
    "    # get diagonal of diff\n",
    "    if np.all(np.diag(diff) <= 0.1):\n",
    "        print(\"Found a match!\")\n",
    "        print(\"matrix 1:\")\n",
    "        print(a)\n",
    "        print(\"matrix 2:\")\n",
    "        print(b)\n",
    "        print(\"diagonal of diff:\")\n",
    "        print(np.diagonal(a-b))\n",
    "        break\n",
    "\n",
    "# stop time\n",
    "end = time.time()\n",
    "print(f\"Time taken: {end - start}\")\n",
    "print(f\"Match found at {cycles}. iteration\")\n"
   ]
  }
 ],
 "metadata": {
  "kernelspec": {
   "display_name": "Python 3",
   "language": "python",
   "name": "python3"
  },
  "language_info": {
   "codemirror_mode": {
    "name": "ipython",
    "version": 3
   },
   "file_extension": ".py",
   "mimetype": "text/x-python",
   "name": "python",
   "nbconvert_exporter": "python",
   "pygments_lexer": "ipython3",
   "version": "3.11.3"
  },
  "orig_nbformat": 4,
  "vscode": {
   "interpreter": {
    "hash": "8a94588eda9d64d9e9a351ab8144e55b1fabf5113b54e67dd26a8c27df0381b3"
   }
  }
 },
 "nbformat": 4,
 "nbformat_minor": 2
}
