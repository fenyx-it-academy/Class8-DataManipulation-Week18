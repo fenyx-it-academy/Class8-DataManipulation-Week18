{
 "cells": [
  {
   "attachments": {},
   "cell_type": "markdown",
   "metadata": {},
   "source": [
    "## Data Manipulation module\n",
    "### Homework assignment 1\n",
    "\n",
    "Welcome to the first homework assignment of the data manipulation module. In this assignment you will be working with NumPy and Pandas Series. The goal of this assignment is to get you familiar with these libraries and data types.\n",
    "\n",
    "### Instructions\n",
    "Read the exercises carefully and implement the requested functionality. Add your code in the cells provided with `YOUR CODE HERE` or `YOUR ANSWER HERE`. You can add cells if you need to. **Make sure to use NumPy methods** to find your answers. In some cases you might be able to read the answer, but we want to see you using the NumPy methods.\n",
    "\n",
    "### Hand-in\n",
    "To hand in your assignment, fork this notebook and commit your changes, then make a pull request to the original repository. The deadline for handing in the assignment is **Wednesday 10-05 23:59**."
   ]
  },
  {
   "cell_type": "code",
   "execution_count": 2,
   "metadata": {},
   "outputs": [],
   "source": [
    "# imports, no need to edit\n",
    "\n",
    "import numpy as np\n",
    "import pandas as pd\n",
    "\n",
    "np.random.seed(42)"
   ]
  },
  {
   "attachments": {},
   "cell_type": "markdown",
   "metadata": {},
   "source": [
    "1. Explain the difference between a vector and matrix in NumPy in one sentence."
   ]
  },
  {
   "attachments": {},
   "cell_type": "markdown",
   "metadata": {},
   "source": [
    "A vector is an array with only 1 dimension, and a matrix is 2 dimensional."
   ]
  },
  {
   "attachments": {},
   "cell_type": "markdown",
   "metadata": {},
   "source": [
    "2. Construct a NumPy Array from a list of 10 elements."
   ]
  },
  {
   "cell_type": "code",
   "execution_count": 16,
   "metadata": {},
   "outputs": [
    {
     "name": "stdout",
     "output_type": "stream",
     "text": [
      "[0 9 2 6 3 8 2 4 2 6]\n"
     ]
    }
   ],
   "source": [
    "array = np.random.randint(0, 10, size=10)\n",
    "print(array)"
   ]
  },
  {
   "attachments": {},
   "cell_type": "markdown",
   "metadata": {},
   "source": [
    "3. Construct a 10x10 matrix filled with '0's of the integer data type."
   ]
  },
  {
   "cell_type": "code",
   "execution_count": 22,
   "metadata": {},
   "outputs": [
    {
     "name": "stdout",
     "output_type": "stream",
     "text": [
      "[[0 0 0 0 0 0 0 0 0 0]\n",
      " [0 0 0 0 0 0 0 0 0 0]\n",
      " [0 0 0 0 0 0 0 0 0 0]\n",
      " [0 0 0 0 0 0 0 0 0 0]\n",
      " [0 0 0 0 0 0 0 0 0 0]\n",
      " [0 0 0 0 0 0 0 0 0 0]\n",
      " [0 0 0 0 0 0 0 0 0 0]\n",
      " [0 0 0 0 0 0 0 0 0 0]\n",
      " [0 0 0 0 0 0 0 0 0 0]\n",
      " [0 0 0 0 0 0 0 0 0 0]]\n"
     ]
    }
   ],
   "source": [
    "matrix = np.zeros(shape=(10, 10), dtype='int32')\n",
    "print(matrix)"
   ]
  },
  {
   "attachments": {},
   "cell_type": "markdown",
   "metadata": {},
   "source": [
    "4. Construct a 10x10 matrix filled with '1's, data type float."
   ]
  },
  {
   "cell_type": "code",
   "execution_count": 24,
   "metadata": {},
   "outputs": [
    {
     "name": "stdout",
     "output_type": "stream",
     "text": [
      "[[1. 1. 1. 1. 1. 1. 1. 1. 1. 1.]\n",
      " [1. 1. 1. 1. 1. 1. 1. 1. 1. 1.]\n",
      " [1. 1. 1. 1. 1. 1. 1. 1. 1. 1.]\n",
      " [1. 1. 1. 1. 1. 1. 1. 1. 1. 1.]\n",
      " [1. 1. 1. 1. 1. 1. 1. 1. 1. 1.]\n",
      " [1. 1. 1. 1. 1. 1. 1. 1. 1. 1.]\n",
      " [1. 1. 1. 1. 1. 1. 1. 1. 1. 1.]\n",
      " [1. 1. 1. 1. 1. 1. 1. 1. 1. 1.]\n",
      " [1. 1. 1. 1. 1. 1. 1. 1. 1. 1.]\n",
      " [1. 1. 1. 1. 1. 1. 1. 1. 1. 1.]]\n"
     ]
    }
   ],
   "source": [
    "matrix = np.ones(shape=(10, 10), dtype='float')\n",
    "print(matrix)"
   ]
  },
  {
   "attachments": {},
   "cell_type": "markdown",
   "metadata": {},
   "source": [
    "5. Construct a 10x10 matrix filled with '9's of the integer data type."
   ]
  },
  {
   "cell_type": "code",
   "execution_count": 28,
   "metadata": {},
   "outputs": [
    {
     "name": "stdout",
     "output_type": "stream",
     "text": [
      "[[9 9 9 9 9 9 9 9 9 9]\n",
      " [9 9 9 9 9 9 9 9 9 9]\n",
      " [9 9 9 9 9 9 9 9 9 9]\n",
      " [9 9 9 9 9 9 9 9 9 9]\n",
      " [9 9 9 9 9 9 9 9 9 9]\n",
      " [9 9 9 9 9 9 9 9 9 9]\n",
      " [9 9 9 9 9 9 9 9 9 9]\n",
      " [9 9 9 9 9 9 9 9 9 9]\n",
      " [9 9 9 9 9 9 9 9 9 9]\n",
      " [9 9 9 9 9 9 9 9 9 9]]\n"
     ]
    }
   ],
   "source": [
    "matrix = np.full((10, 10), 9, dtype='int')\n",
    "print(matrix)"
   ]
  },
  {
   "attachments": {},
   "cell_type": "markdown",
   "metadata": {},
   "source": [
    "6. Construct a one-dimensional array with values between 5 and 25 that jumps with steps of 3 (`[5, 8, ...]`)"
   ]
  },
  {
   "cell_type": "code",
   "execution_count": 29,
   "metadata": {},
   "outputs": [
    {
     "name": "stdout",
     "output_type": "stream",
     "text": [
      "[ 5  8 11 14 17 20 23]\n"
     ]
    }
   ],
   "source": [
    "array = np.arange(5, 25, 3)\n",
    "print(array)"
   ]
  },
  {
   "attachments": {},
   "cell_type": "markdown",
   "metadata": {},
   "source": [
    "7. Create an array of size 30 with evenly spaced values between -1 and 1."
   ]
  },
  {
   "cell_type": "code",
   "execution_count": 34,
   "metadata": {},
   "outputs": [
    {
     "name": "stdout",
     "output_type": "stream",
     "text": [
      "[-1.         -0.93103448 -0.86206897 -0.79310345 -0.72413793 -0.65517241\n",
      " -0.5862069  -0.51724138 -0.44827586 -0.37931034 -0.31034483 -0.24137931\n",
      " -0.17241379 -0.10344828 -0.03448276  0.03448276  0.10344828  0.17241379\n",
      "  0.24137931  0.31034483  0.37931034  0.44827586  0.51724138  0.5862069\n",
      "  0.65517241  0.72413793  0.79310345  0.86206897  0.93103448  1.        ]\n"
     ]
    }
   ],
   "source": [
    "array = np.linspace(-1, 1, 30)\n",
    "print(array)"
   ]
  },
  {
   "attachments": {},
   "cell_type": "markdown",
   "metadata": {},
   "source": [
    "8. Construct a 5x6 matrix with integers from 0 to 30."
   ]
  },
  {
   "cell_type": "code",
   "execution_count": 37,
   "metadata": {},
   "outputs": [
    {
     "name": "stdout",
     "output_type": "stream",
     "text": [
      "[[ 0  1  2  3  4  5]\n",
      " [ 6  7  8  9 10 11]\n",
      " [12 13 14 15 16 17]\n",
      " [18 19 20 21 22 23]\n",
      " [24 25 26 27 28 29]]\n"
     ]
    }
   ],
   "source": [
    "matrix = np.arange(0, 30).reshape(5, 6)\n",
    "print(matrix)"
   ]
  },
  {
   "attachments": {},
   "cell_type": "markdown",
   "metadata": {},
   "source": [
    "9. Create an array of 30 random integers and sort it in ascending order."
   ]
  },
  {
   "cell_type": "code",
   "execution_count": 44,
   "metadata": {},
   "outputs": [
    {
     "name": "stdout",
     "output_type": "stream",
     "text": [
      "[ 0  1 10 15 16 18 23 31 31 37 43 52 54 55 58 67 68 69 69 69 72 74 79 85\n",
      " 86 89 95 96 96 97]\n"
     ]
    }
   ],
   "source": [
    "array = np.random.randint(0, 100, size=30)\n",
    "array.sort()\n",
    "print(array)"
   ]
  },
  {
   "attachments": {},
   "cell_type": "markdown",
   "metadata": {},
   "source": [
    "10. Construct a 5x10 matrix filled with the value 1 at each location. Print the following details about this matrix:\n",
    "- number of elements\n",
    "- shape of the matrix\n",
    "- the data type (using numpy methods)\n"
   ]
  },
  {
   "cell_type": "code",
   "execution_count": 56,
   "metadata": {},
   "outputs": [
    {
     "name": "stdout",
     "output_type": "stream",
     "text": [
      "[[1 1 1 1 1 1 1 1 1 1]\n",
      " [1 1 1 1 1 1 1 1 1 1]\n",
      " [1 1 1 1 1 1 1 1 1 1]\n",
      " [1 1 1 1 1 1 1 1 1 1]\n",
      " [1 1 1 1 1 1 1 1 1 1]]\n",
      "\n",
      "Matrix size:  50\n",
      "\n",
      "Matrix shape:  (5, 10)\n",
      "\n",
      "Matrix data type:  int32\n"
     ]
    }
   ],
   "source": [
    "matrix = np.ones(shape=(5,10), dtype='int')\n",
    "print(matrix)\n",
    "print()\n",
    "print(\"Matrix size: \", matrix.size)\n",
    "print()\n",
    "print(\"Matrix shape: \", matrix.shape)\n",
    "print()\n",
    "print(\"Matrix data type: \", matrix.dtype)"
   ]
  },
  {
   "attachments": {},
   "cell_type": "markdown",
   "metadata": {},
   "source": [
    "11. Construct a 3x4x7 matrix with random integer values between 0 and 10 (a 3D matrix will be created).\n"
   ]
  },
  {
   "cell_type": "code",
   "execution_count": 72,
   "metadata": {},
   "outputs": [
    {
     "name": "stdout",
     "output_type": "stream",
     "text": [
      "[[[85 83 12 19 65 98 46]\n",
      "  [18 44 36 53  5 13  3]\n",
      "  [85 54 99 33 26  6  2]\n",
      "  [46 96  1 79 24 59 78]]\n",
      "\n",
      " [[23 14 94 13 53 77  5]\n",
      "  [77 80 17 19 61 80 79]\n",
      "  [39 38 51 31 72 26 51]\n",
      "  [96 62 73 62 16 48 99]]\n",
      "\n",
      " [[80 81 22 97 71 12 22]\n",
      "  [56 61 53 19 85 51 22]\n",
      "  [34 66 33 32 45 80 44]\n",
      "  [18 93 86 14 77 65 38]]]\n"
     ]
    }
   ],
   "source": [
    "matrix = np.random.randint(0, 100, (3, 4, 7))\n",
    "print(matrix)"
   ]
  },
  {
   "attachments": {},
   "cell_type": "markdown",
   "metadata": {},
   "source": [
    "12. Create an array of 20 random integers and reshape it into a 4x5 matrix."
   ]
  },
  {
   "cell_type": "code",
   "execution_count": 62,
   "metadata": {},
   "outputs": [
    {
     "name": "stdout",
     "output_type": "stream",
     "text": [
      "[[ 7 15 13 75 86]\n",
      " [14 91 97 65 31]\n",
      " [86 62 85 50 24]\n",
      " [57 62 61 21 57]]\n"
     ]
    }
   ],
   "source": [
    "matrix = np.random.randint(0, 100, size=20).reshape(4, 5)\n",
    "print(matrix)"
   ]
  },
  {
   "attachments": {},
   "cell_type": "markdown",
   "metadata": {},
   "source": [
    "13. Construct a one-dimensional array by concetanating 4 separate one-dimensional arrays."
   ]
  },
  {
   "cell_type": "code",
   "execution_count": 70,
   "metadata": {},
   "outputs": [
    {
     "name": "stdout",
     "output_type": "stream",
     "text": [
      "[6 8 2 8 0 0 3 8 5 2 0 3 8 2 8 6 3 2 9 4]\n"
     ]
    }
   ],
   "source": [
    "array1 = np.random.randint(0, 10, size=5)\n",
    "array2 = np.random.randint(0, 10, size=5)\n",
    "array3 = np.random.randint(0, 10, size=5)\n",
    "array4 = np.random.randint(0, 10, size=5)\n",
    "res_array = np.concatenate([array1, array2, array3, array4])\n",
    "print(res_array)"
   ]
  },
  {
   "attachments": {},
   "cell_type": "markdown",
   "metadata": {},
   "source": [
    "14. Create a vector of length 3 (3x1) and a matrix of size 3x3. Combine these two arrays on a\n",
    "    column-by-column basis using numpy methods.\n"
   ]
  },
  {
   "cell_type": "code",
   "execution_count": 83,
   "metadata": {},
   "outputs": [
    {
     "name": "stdout",
     "output_type": "stream",
     "text": [
      "[[1]\n",
      " [2]\n",
      " [3]]\n",
      "\n",
      "[[5 3 7]\n",
      " [7 4 5]\n",
      " [2 0 8]]\n",
      "\n",
      "[[5 3 7 1]\n",
      " [7 4 5 2]\n",
      " [2 0 8 3]]\n"
     ]
    }
   ],
   "source": [
    "matrix1 = np.array([1, 2, 3]).reshape(-1, 1)\n",
    "matrix2 = np.random.randint(0, 10, (3, 3))\n",
    "print(matrix1)\n",
    "print()\n",
    "print(matrix2)\n",
    "print()\n",
    "c = np.concatenate([matrix2, matrix1], axis=1)\n",
    "print(c)"
   ]
  },
  {
   "cell_type": "code",
   "execution_count": 90,
   "metadata": {},
   "outputs": [
    {
     "data": {
      "text/plain": [
       "8"
      ]
     },
     "execution_count": 90,
     "metadata": {},
     "output_type": "execute_result"
    }
   ],
   "source": [
    "np.argmax(matrix2)\n"
   ]
  },
  {
   "attachments": {},
   "cell_type": "markdown",
   "metadata": {},
   "source": [
    "15. What is the difference between \"axis=1\" and \"axis=0\" in Numpy functions? "
   ]
  },
  {
   "attachments": {},
   "cell_type": "markdown",
   "metadata": {},
   "source": [
    "\"axis=0\" means that the operation is preformed acroos the rows, and \"axis=1\" means the operation is performed accross the columns."
   ]
  },
  {
   "attachments": {},
   "cell_type": "markdown",
   "metadata": {},
   "source": [
    "16. Create a random 1D vector with 20 elements. Find the 3rd, 5th and 7th elements of this vector.\n"
   ]
  },
  {
   "cell_type": "code",
   "execution_count": 93,
   "metadata": {},
   "outputs": [
    {
     "name": "stdout",
     "output_type": "stream",
     "text": [
      "[3 8 8 1 4 0 3 1 7 3 4 3 4 4 4 2 6 2 1 2]\n",
      "\n",
      "[8 4 3]\n"
     ]
    }
   ],
   "source": [
    "array = np.random.randint(0, 10, size=20)\n",
    "print(array)\n",
    "print()\n",
    "print(array[[2, 4, 6]])"
   ]
  },
  {
   "attachments": {},
   "cell_type": "markdown",
   "metadata": {},
   "source": [
    "17. Create a random vector with 10 elements and replace the 4th element of this array with a different number."
   ]
  },
  {
   "cell_type": "code",
   "execution_count": 95,
   "metadata": {},
   "outputs": [
    {
     "name": "stdout",
     "output_type": "stream",
     "text": [
      "[7 4 3 6 0 5 7 6 1 6]\n",
      "\n",
      "[ 7  4  3 99  0  5  7  6  1  6]\n"
     ]
    }
   ],
   "source": [
    "array = np.random.randint(0, 10, size=10)\n",
    "print(array)\n",
    "print()\n",
    "array[3] = 99\n",
    "print(array)"
   ]
  },
  {
   "attachments": {},
   "cell_type": "markdown",
   "metadata": {},
   "source": [
    "18. Look up the concepts of *diagonal matrix* and *trace matrix* online and write a small explanation about what they are.\n"
   ]
  },
  {
   "attachments": {},
   "cell_type": "markdown",
   "metadata": {},
   "source": [
    "A diagonal matrix is a square matrix where all the elements outside the main diagonal have the value of 0.\n",
    "\n",
    "The trace of a square matrix is the sum of its diagonal values."
   ]
  },
  {
   "attachments": {},
   "cell_type": "markdown",
   "metadata": {},
   "source": [
    "19. Create a 5x5 diagonal matrix with elements of your choosing. What are the indexes of the diagonal?\n"
   ]
  },
  {
   "cell_type": "code",
   "execution_count": 103,
   "metadata": {},
   "outputs": [
    {
     "name": "stdout",
     "output_type": "stream",
     "text": [
      "[[1 0 0 0 0 0]\n",
      " [0 2 0 0 0 0]\n",
      " [0 0 3 0 0 0]\n",
      " [0 0 0 4 0 0]\n",
      " [0 0 0 0 5 0]\n",
      " [0 0 0 0 0 6]]\n",
      "\n",
      "(array([0, 1, 2, 3, 4, 5]), array([0, 1, 2, 3, 4, 5]))\n",
      "\n",
      "[(0, 0), (1, 1), (2, 2), (3, 3), (4, 4), (5, 5)]\n"
     ]
    }
   ],
   "source": [
    "matrix = np.diag([1, 2, 3, 4, 5, 6])\n",
    "print(matrix)\n",
    "print()\n",
    "diag_ind = np.diag_indices_from(matrix)\n",
    "print(diag_ind)\n",
    "print()\n",
    "print(list(zip(*diag_ind)))\n"
   ]
  },
  {
   "attachments": {},
   "cell_type": "markdown",
   "metadata": {},
   "source": [
    "20. Create a vector that ranges from 10 to 20. Print the values from the 3rd index to the last index.\n"
   ]
  },
  {
   "cell_type": "code",
   "execution_count": 33,
   "metadata": {},
   "outputs": [
    {
     "name": "stdout",
     "output_type": "stream",
     "text": [
      "[12 13 14 15 16 17 18 19]\n"
     ]
    }
   ],
   "source": [
    "vector = np.arange(10, 20)\n",
    "print(vector[2:])"
   ]
  },
  {
   "attachments": {},
   "cell_type": "markdown",
   "metadata": {},
   "source": [
    "21. Construct a 10x10 matrix with random elements and perform the following indexing tasks on it. Each task should be a single indexing operation.\n",
    " - Retrieve column 5 of row 3. Moreover;\n",
    " - Retrieve all elements of column 5.\n",
    " - Retrieve the 2nd row of all columns.\n",
    " - Retrieve row 2 through 7 of all columns.\n",
    " - Retrieve values with row index 2 to 5 and column index 3 to 7.\n",
    " - Retrieve the values from row index 5 to the end and column index from the top to 4.\n",
    " - Replace the value corresponding to the 5th row and the 5th column with your year of birth."
   ]
  },
  {
   "cell_type": "code",
   "execution_count": 44,
   "metadata": {},
   "outputs": [
    {
     "name": "stdout",
     "output_type": "stream",
     "text": [
      "[[33  7 39 82 41 40  5 51 25 63]\n",
      " [97 58 55 58 69 32 52 21 20 69]\n",
      " [69  3 93 74 61 61 93 94 23 54]\n",
      " [ 8  2 30 39 35 23 94  5 65 83]\n",
      " [91 74  3 78  5 93 50 61 56 65]\n",
      " [78 74  7 25 50 44 43  4 69 25]\n",
      " [67 18 83 96 19 11 46  0 89 13]\n",
      " [63 37 36 10 99 76  2 32  5 49]\n",
      " [ 9  4 22  9 43  1 12 39  1 83]\n",
      " [64 62 72 16  8 74 14 23 37 34]]\n",
      "\n",
      "23\n",
      "\n",
      "[40 32 61 23 93 44 11 76  1 74]\n",
      "\n",
      "[97 58 55 58 69 32 52 21 20 69]\n",
      "\n",
      "[[69  3 93 74 61 61 93 94 23 54]\n",
      " [ 8  2 30 39 35 23 94  5 65 83]\n",
      " [91 74  3 78  5 93 50 61 56 65]\n",
      " [78 74  7 25 50 44 43  4 69 25]\n",
      " [67 18 83 96 19 11 46  0 89 13]\n",
      " [63 37 36 10 99 76  2 32  5 49]]\n",
      "\n",
      "[[74 61 61 93 94]\n",
      " [39 35 23 94  5]\n",
      " [78  5 93 50 61]\n",
      " [25 50 44 43  4]]\n",
      "\n",
      "[[78 74  7 25 50]\n",
      " [67 18 83 96 19]\n",
      " [63 37 36 10 99]\n",
      " [ 9  4 22  9 43]\n",
      " [64 62 72 16  8]]\n",
      "\n",
      "[[  33    7   39   82   41   40    5   51   25   63]\n",
      " [  97   58   55   58   69   32   52   21   20   69]\n",
      " [  69    3   93   74   61   61   93   94   23   54]\n",
      " [   8    2   30   39   35   23   94    5   65   83]\n",
      " [  91   74    3   78 1991   93   50   61   56   65]\n",
      " [  78   74    7   25   50   44   43    4   69   25]\n",
      " [  67   18   83   96   19   11   46    0   89   13]\n",
      " [  63   37   36   10   99   76    2   32    5   49]\n",
      " [   9    4   22    9   43    1   12   39    1   83]\n",
      " [  64   62   72   16    8   74   14   23   37   34]]\n"
     ]
    }
   ],
   "source": [
    "matrix = np.random.randint(0, 100, (10, 10))\n",
    "print(matrix)\n",
    "print()\n",
    "print(matrix[3, 5])\n",
    "print()\n",
    "print(matrix[:, 5])\n",
    "print()\n",
    "print(matrix[1,:])\n",
    "print()\n",
    "print(matrix[2:8, :])\n",
    "print()\n",
    "print(matrix[2:6, 3:8])\n",
    "print()\n",
    "print(matrix[5:, 0:5])\n",
    "print()\n",
    "matrix[4,4] = 1991\n",
    "print(matrix)"
   ]
  },
  {
   "attachments": {},
   "cell_type": "markdown",
   "metadata": {},
   "source": [
    "22. Construct a one-dimensional array from 0 to 50 jumping with steps of 5 (`[5, 10, ...]`). Use the numpy methods to perform the following tasks;\n",
    "- Print all values greater than 20.\n",
    "- Print all values less than 30.\n",
    "- How many values are 33 in it?\n",
    "- Multiply all the elements of the created array by 5."
   ]
  },
  {
   "cell_type": "code",
   "execution_count": 50,
   "metadata": {},
   "outputs": [
    {
     "name": "stdout",
     "output_type": "stream",
     "text": [
      "[ 0  5 10 15 20 25 30 35 40 45]\n",
      "\n",
      "[25 30 35 40 45]\n",
      "\n",
      "[ 0  5 10 15 20 25]\n",
      "\n",
      "0\n",
      "\n",
      "[  0  25  50  75 100 125 150 175 200 225]\n"
     ]
    }
   ],
   "source": [
    "array = np.arange(0, 50, 5)\n",
    "print(array)\n",
    "print()\n",
    "print(array[array > 20])\n",
    "print()\n",
    "print(array[array < 30])\n",
    "print()\n",
    "print(array[array == 33].size)\n",
    "print()\n",
    "print(array * 5)"
   ]
  },
  {
   "attachments": {},
   "cell_type": "markdown",
   "metadata": {},
   "source": [
    "23. Construct an array of 50 random floats between 0 and 1 and take the average. Moreover;\n",
    "- Get the standard deviation.\n",
    "- Get the variance.\n",
    "- Take the median.\n",
    "- Find the smallest value.\n",
    "- Find the largest value."
   ]
  },
  {
   "cell_type": "code",
   "execution_count": 63,
   "metadata": {},
   "outputs": [
    {
     "name": "stdout",
     "output_type": "stream",
     "text": [
      "[0.45231828 0.6435777  0.52640266 0.73158952 0.08162998 0.06035208\n",
      " 0.24710323 0.15954468 0.87178357 0.21921399 0.97586526 0.33689579\n",
      " 0.18211792 0.78969851 0.65870778 0.49819572 0.55536355 0.71920178\n",
      " 0.22845474 0.99633392 0.97479316 0.65032569 0.19954245 0.68022824\n",
      " 0.07219841 0.0306525  0.25768289 0.46262296 0.86827251 0.72716907\n",
      " 0.74270652 0.42549333 0.34593499 0.37103876 0.98764956 0.04010919\n",
      " 0.8670315  0.57867541 0.43861542 0.72525766 0.48666894 0.87342324\n",
      " 0.90070186 0.42172093 0.2768278  0.59235033 0.91236335 0.21066219\n",
      " 0.62296658 0.63156022]\n",
      "\n",
      "Average:  0.5261919260812862\n",
      "Standard deviation:  0.28511014669533263\n",
      "Median:  0.5408831059368722\n",
      "Smallest value:  0.030652502205806065\n",
      "Largest value:  0.9963339160567419\n"
     ]
    }
   ],
   "source": [
    "array = np.random.rand(50)\n",
    "print(array)\n",
    "print()\n",
    "print(\"Average: \", array.mean())\n",
    "print(\"Standard deviation: \", array.std())\n",
    "print(\"Median: \", np.median(array))\n",
    "print(\"Smallest value: \", array.min())\n",
    "print(\"Largest value: \", array.max())"
   ]
  },
  {
   "attachments": {},
   "cell_type": "markdown",
   "metadata": {},
   "source": [
    "24. What are the differences between Pandas Series and NumPy arrays?"
   ]
  },
  {
   "attachments": {},
   "cell_type": "markdown",
   "metadata": {},
   "source": [
    "Numpy arrays have a fixed size, fixed datatype, and they are focused on numerical operations.\n",
    "\n",
    "Pandas series can hold different datatypes, can change dimensions, have named/labeled indecis."
   ]
  },
  {
   "attachments": {},
   "cell_type": "markdown",
   "metadata": {},
   "source": [
    "25. Create a 5-element series with different data types, with an index of capital letters."
   ]
  },
  {
   "cell_type": "code",
   "execution_count": 64,
   "metadata": {},
   "outputs": [
    {
     "name": "stdout",
     "output_type": "stream",
     "text": [
      "A    False\n",
      "B        1\n",
      "C      2.0\n",
      "D        3\n",
      "E      [4]\n",
      "dtype: object\n"
     ]
    }
   ],
   "source": [
    "series = pd.Series([False, 1, 2.0, \"3\", [4]], index=['A', 'B', 'C', 'D', 'E'])\n",
    "print(series)"
   ]
  },
  {
   "attachments": {},
   "cell_type": "markdown",
   "metadata": {},
   "source": [
    "26. Create a 5-element dictionary with keys as country names and values as capitals and turn it into a series. An example: ` \"france\" : \"paris\"`)."
   ]
  },
  {
   "cell_type": "code",
   "execution_count": 65,
   "metadata": {},
   "outputs": [
    {
     "name": "stdout",
     "output_type": "stream",
     "text": [
      "Netherlands    Amsterdam\n",
      "France             Paris\n",
      "Germany           Berlin\n",
      "Spain             Madrid\n",
      "UK                London\n",
      "dtype: object\n"
     ]
    }
   ],
   "source": [
    "d = {\n",
    "    'Netherlands': 'Amsterdam',\n",
    "    'France': 'Paris',\n",
    "    'Germany': 'Berlin',\n",
    "    'Spain': 'Madrid',\n",
    "    'UK': 'London'\n",
    "}\n",
    "series = pd.Series(d)\n",
    "print(series)"
   ]
  },
  {
   "attachments": {},
   "cell_type": "markdown",
   "metadata": {},
   "source": [
    "27. Create a random vector with 10 elements.\n",
    "- Convert the vector to series and with strings as indeces. For example, a,b,c,d,e,f,g..\n",
    "- Retrieve the 3rd element of the series using the index name (for example: c).\n",
    "- Retrieve the 1st element of the series using the index number.\n",
    "- Access the 2nd and 7th elements of the series at the same time, using the index name. (Example: values corresponding to index b and g)"
   ]
  },
  {
   "cell_type": "code",
   "execution_count": 69,
   "metadata": {},
   "outputs": [
    {
     "name": "stdout",
     "output_type": "stream",
     "text": [
      "[7 3 6 9 2 5 9 9 8 0]\n",
      "\n",
      "A    7\n",
      "B    3\n",
      "C    6\n",
      "D    9\n",
      "E    2\n",
      "F    5\n",
      "G    9\n",
      "H    9\n",
      "I    8\n",
      "J    0\n",
      "dtype: int32\n",
      "\n",
      "7\n",
      "\n",
      "B    3\n",
      "G    9\n",
      "dtype: int32\n"
     ]
    }
   ],
   "source": [
    "vector = np.random.randint(0, 10, size=10)\n",
    "print(vector)\n",
    "print()\n",
    "series = pd.Series(vector, index=['A', 'B', 'C', 'D', 'E', 'F', 'G', 'H', 'I', 'J'])\n",
    "print(series)\n",
    "print()\n",
    "print(series[0])\n",
    "print()\n",
    "print(series[['B', 'G']])"
   ]
  },
  {
   "attachments": {},
   "cell_type": "markdown",
   "metadata": {},
   "source": [
    "28. Create two 5-element series with elements of your choice with default index.\n",
    "- Combine the series you have created.\n",
    "- Arrange the index of the resulting concatenated 10-element series from 1 to 10."
   ]
  },
  {
   "cell_type": "code",
   "execution_count": 72,
   "metadata": {},
   "outputs": [
    {
     "name": "stdout",
     "output_type": "stream",
     "text": [
      "0     10\n",
      "1     20\n",
      "2     30\n",
      "3     40\n",
      "4     50\n",
      "0     60\n",
      "1     70\n",
      "2     80\n",
      "3     90\n",
      "4    100\n",
      "dtype: int64\n",
      "\n",
      "1      10\n",
      "2      20\n",
      "3      30\n",
      "4      40\n",
      "5      50\n",
      "6      60\n",
      "7      70\n",
      "8      80\n",
      "9      90\n",
      "10    100\n",
      "dtype: int64\n"
     ]
    }
   ],
   "source": [
    "series1 = pd.Series([10, 20, 30, 40, 50])\n",
    "series2 = pd.Series([60, 70, 80, 90, 100])\n",
    "res_series = pd.concat([series1, series2])\n",
    "print(res_series)\n",
    "print()\n",
    "res_series.index = range(1, 11)\n",
    "print(res_series)"
   ]
  },
  {
   "attachments": {},
   "cell_type": "markdown",
   "metadata": {},
   "source": [
    "**Bonus homework**:\n",
    "\n",
    "\n",
    "Generate two 20x20 matrices with values between 0 and 1 randomly in a loop and take the difference of these\n",
    "matrices. Repeat this process until all elements on the diagonal of the difference matrix\n",
    "is between -0.1 and 0.1. When the desired matrix is found, let the program stop\n",
    "and print the total number of cycles, how long it took, and the desired matrix\n",
    "with print.\n",
    "\n",
    "\n",
    "Tip: Finding the 20 x 20 matrix can take hours. Therefore, to test the accuracy\n",
    "of your algorithm, you can first try it on small matrices such as 4x4, 5x5. And\n",
    "you can try the latest 20x20 by increasing the number of matrix. (You can do\n",
    "the matrix generation with the np.random.random((a,b)) function. It generates\n",
    "an array of desired sizes between 0-1.)\n"
   ]
  },
  {
   "cell_type": "code",
   "execution_count": 32,
   "metadata": {},
   "outputs": [
    {
     "name": "stdout",
     "output_type": "stream",
     "text": [
      "FOUND!\n",
      "Number of iterations:  312021\n",
      "Time to find the result:  00:00:05.01\n",
      "The desired matrix: \n",
      "[[8.03126822e-02 1.73440505e-02 3.22440336e-01 1.65907265e-01\n",
      "  6.47902672e-01 2.29088736e-01 1.26382781e-02 5.40575805e-01\n",
      "  9.77875266e-02 3.60467467e-01]\n",
      " [5.56235930e-01 7.59914601e-02 2.77292879e-01 1.95061719e-01\n",
      "  2.33622796e-02 2.51494378e-01 2.98453525e-01 3.03852351e-01\n",
      "  1.60469570e-01 3.58741278e-02]\n",
      " [1.41430637e-01 4.10521627e-01 6.43315639e-03 4.93778250e-01\n",
      "  2.57457735e-01 8.89553261e-01 1.50780382e-01 2.43214901e-01\n",
      "  3.86926414e-01 1.99039192e-01]\n",
      " [3.72931356e-01 2.67318896e-01 2.39286885e-02 6.14089348e-02\n",
      "  1.70044576e-01 3.55815131e-01 8.45704920e-02 8.99426185e-02\n",
      "  8.22582813e-01 3.81904941e-01]\n",
      " [2.97665375e-04 1.25352349e-01 1.35564791e-01 4.60193987e-01\n",
      "  1.04129767e-02 2.85930449e-01 4.70912925e-01 4.91651968e-01\n",
      "  3.56135470e-03 5.53607541e-01]\n",
      " [1.00580557e-02 1.61632660e-02 7.24999219e-02 1.97565138e-01\n",
      "  3.93395816e-02 5.51391761e-02 5.82848931e-01 6.02714810e-01\n",
      "  5.48315436e-01 5.44034740e-01]\n",
      " [2.40251376e-01 1.46506493e-01 5.36975441e-01 5.12778244e-02\n",
      "  3.38647545e-02 1.89572806e-01 4.03440960e-02 6.96237718e-01\n",
      "  9.80814975e-02 5.22747133e-01]\n",
      " [2.67731743e-01 2.32499912e-01 1.68043587e-01 4.45801580e-01\n",
      "  6.98138552e-03 5.15324646e-02 3.82854941e-01 2.09726326e-02\n",
      "  1.63423236e-01 6.91787215e-01]\n",
      " [5.06701534e-02 2.69458953e-01 3.82587028e-01 1.75108086e-01\n",
      "  1.45380590e-01 2.86214100e-01 1.32086622e-01 1.40192625e-01\n",
      "  7.63290048e-02 5.96054972e-01]\n",
      " [9.33486972e-02 6.18854791e-01 2.61172172e-01 1.99517003e-01\n",
      "  1.82573534e-01 1.63130682e-01 5.50191260e-01 1.17915414e-01\n",
      "  9.63672435e-02 4.14894830e-02]]\n"
     ]
    }
   ],
   "source": [
    "import time\n",
    "import numpy as np\n",
    "\n",
    "np.random.seed(42)\n",
    "\n",
    "# the shape of the matrix, (5, 5) for faster testing\n",
    "shape = (10, 10)\n",
    "\n",
    "start_t = time.time()\n",
    "\n",
    "iterations = 0\n",
    "\n",
    "while True:\n",
    "    iterations += 1\n",
    "    \n",
    "    matrix1 = np.random.uniform(0,1,shape)\n",
    "    matrix2 = np.random.uniform(0,1,shape)\n",
    "    diff = np.absolute(matrix1 - matrix2)\n",
    "    \n",
    "    diag = np.diagonal(diff)\n",
    "    if np.all(diag <= 0.1):\n",
    "        print(\"FOUND!\")\n",
    "        break\n",
    "\n",
    "end_t = time.time()\n",
    "total_t = time.strftime(\"%H:%M:%S.%m\", time.gmtime(end_t - start_t))\n",
    "\n",
    "print('Number of iterations: ', iterations)\n",
    "print('Time to find the result: ', total_t)\n",
    "print('The desired matrix: ')\n",
    "print(diff)\n"
   ]
  }
 ],
 "metadata": {
  "kernelspec": {
   "display_name": "Python 3",
   "language": "python",
   "name": "python3"
  },
  "language_info": {
   "codemirror_mode": {
    "name": "ipython",
    "version": 3
   },
   "file_extension": ".py",
   "mimetype": "text/x-python",
   "name": "python",
   "nbconvert_exporter": "python",
   "pygments_lexer": "ipython3",
   "version": "3.11.3"
  },
  "orig_nbformat": 4,
  "vscode": {
   "interpreter": {
    "hash": "8a94588eda9d64d9e9a351ab8144e55b1fabf5113b54e67dd26a8c27df0381b3"
   }
  }
 },
 "nbformat": 4,
 "nbformat_minor": 2
}
