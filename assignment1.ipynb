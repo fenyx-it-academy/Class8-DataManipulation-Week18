{
 "cells": [
  {
   "attachments": {},
   "cell_type": "markdown",
   "metadata": {},
   "source": [
    "## Data Manipulation module\n",
    "### Homework assignment 1\n",
    "\n",
    "Welcome to the first homework assignment of the data manipulation module. In this assignment you will be working with NumPy and Pandas Series. The goal of this assignment is to get you familiar with these libraries and data types.\n",
    "\n",
    "### Instructions\n",
    "Read the exercises carefully and implement the requested functionality. Add your code in the cells provided with `YOUR CODE HERE` or `YOUR ANSWER HERE`. You can add cells if you need to. **Make sure to use NumPy methods** to find your answers. In some cases you might be able to read the answer, but we want to see you using the NumPy methods.\n",
    "\n",
    "### Hand-in\n",
    "To hand in your assignment, fork this notebook and commit your changes, then make a pull request to the original repository. The deadline for handing in the assignment is **Wednesday 10-05 23:59**."
   ]
  },
  {
   "cell_type": "code",
   "execution_count": 1,
   "metadata": {},
   "outputs": [],
   "source": [
    "# imports, no need to edit\n",
    "\n",
    "import numpy as np\n",
    "import pandas as pd\n",
    "\n",
    "np.random.seed(42)"
   ]
  },
  {
   "attachments": {},
   "cell_type": "markdown",
   "metadata": {},
   "source": [
    "1. Explain the difference between a vector and matrix in NumPy in one sentence."
   ]
  },
  {
   "cell_type": "markdown",
   "metadata": {},
   "source": []
  },
  {
   "attachments": {},
   "cell_type": "markdown",
   "metadata": {},
   "source": [
    "A vector in NumPy is a one-dimensional array like 1x5, while a matrix is a two-dimensional array like 5x5.YOUR ANSWER HERE"
   ]
  },
  {
   "attachments": {},
   "cell_type": "markdown",
   "metadata": {},
   "source": [
    "2. Construct a NumPy Array from a list of 10 elements."
   ]
  },
  {
   "cell_type": "code",
   "execution_count": 5,
   "metadata": {},
   "outputs": [
    {
     "data": {
      "text/plain": [
       "array([1, 2, 3])"
      ]
     },
     "execution_count": 5,
     "metadata": {},
     "output_type": "execute_result"
    }
   ],
   "source": [
    "# YOUR CODE HERE\n",
    "myList=[1,2,3]\n",
    "myArray=np.array(myList)\n",
    "myArray"
   ]
  },
  {
   "attachments": {},
   "cell_type": "markdown",
   "metadata": {},
   "source": [
    "3. Construct a 10x10 matrix filled with '0's of the integer data type."
   ]
  },
  {
   "cell_type": "code",
   "execution_count": 8,
   "metadata": {},
   "outputs": [
    {
     "data": {
      "text/plain": [
       "array([[0, 0, 0, 0, 0],\n",
       "       [0, 0, 0, 0, 0],\n",
       "       [0, 0, 0, 0, 0],\n",
       "       [0, 0, 0, 0, 0],\n",
       "       [0, 0, 0, 0, 0]])"
      ]
     },
     "execution_count": 8,
     "metadata": {},
     "output_type": "execute_result"
    }
   ],
   "source": [
    "# YOUR CODE HERE\n",
    "np.zeros((5,5), dtype=int)"
   ]
  },
  {
   "attachments": {},
   "cell_type": "markdown",
   "metadata": {},
   "source": [
    "4. Construct a 10x10 matrix filled with '1's, data type float."
   ]
  },
  {
   "cell_type": "code",
   "execution_count": 9,
   "metadata": {},
   "outputs": [
    {
     "data": {
      "text/plain": [
       "array([[1., 1., 1., 1., 1., 1., 1., 1., 1., 1.],\n",
       "       [1., 1., 1., 1., 1., 1., 1., 1., 1., 1.],\n",
       "       [1., 1., 1., 1., 1., 1., 1., 1., 1., 1.],\n",
       "       [1., 1., 1., 1., 1., 1., 1., 1., 1., 1.],\n",
       "       [1., 1., 1., 1., 1., 1., 1., 1., 1., 1.],\n",
       "       [1., 1., 1., 1., 1., 1., 1., 1., 1., 1.],\n",
       "       [1., 1., 1., 1., 1., 1., 1., 1., 1., 1.],\n",
       "       [1., 1., 1., 1., 1., 1., 1., 1., 1., 1.],\n",
       "       [1., 1., 1., 1., 1., 1., 1., 1., 1., 1.],\n",
       "       [1., 1., 1., 1., 1., 1., 1., 1., 1., 1.]])"
      ]
     },
     "execution_count": 9,
     "metadata": {},
     "output_type": "execute_result"
    }
   ],
   "source": [
    "# YOUR CODE HERE\n",
    "np.ones((10,10), dtype=float)"
   ]
  },
  {
   "attachments": {},
   "cell_type": "markdown",
   "metadata": {},
   "source": [
    "5. Construct a 10x10 matrix filled with '9's of the integer data type."
   ]
  },
  {
   "cell_type": "code",
   "execution_count": 11,
   "metadata": {},
   "outputs": [
    {
     "data": {
      "text/plain": [
       "array([[9, 9, 9, 9, 9, 9, 9, 9, 9, 9],\n",
       "       [9, 9, 9, 9, 9, 9, 9, 9, 9, 9],\n",
       "       [9, 9, 9, 9, 9, 9, 9, 9, 9, 9],\n",
       "       [9, 9, 9, 9, 9, 9, 9, 9, 9, 9],\n",
       "       [9, 9, 9, 9, 9, 9, 9, 9, 9, 9],\n",
       "       [9, 9, 9, 9, 9, 9, 9, 9, 9, 9],\n",
       "       [9, 9, 9, 9, 9, 9, 9, 9, 9, 9],\n",
       "       [9, 9, 9, 9, 9, 9, 9, 9, 9, 9],\n",
       "       [9, 9, 9, 9, 9, 9, 9, 9, 9, 9],\n",
       "       [9, 9, 9, 9, 9, 9, 9, 9, 9, 9]])"
      ]
     },
     "execution_count": 11,
     "metadata": {},
     "output_type": "execute_result"
    }
   ],
   "source": [
    "# YOUR CODE HERE\n",
    "np.ones((10,10), dtype=float)*9\n",
    "np.full((10, 10), 9, dtype=int)"
   ]
  },
  {
   "attachments": {},
   "cell_type": "markdown",
   "metadata": {},
   "source": [
    "6. Construct a one-dimensional array with values between 5 and 25 that jumps with steps of 3 (`[5, 8, ...]`)"
   ]
  },
  {
   "cell_type": "code",
   "execution_count": 12,
   "metadata": {},
   "outputs": [
    {
     "data": {
      "text/plain": [
       "array([ 5,  8, 11, 14, 17, 20, 23])"
      ]
     },
     "execution_count": 12,
     "metadata": {},
     "output_type": "execute_result"
    }
   ],
   "source": [
    "# YOUR CODE HERE\n",
    "np.arange(5, 26, 3)"
   ]
  },
  {
   "attachments": {},
   "cell_type": "markdown",
   "metadata": {},
   "source": [
    "7. Create an array of size 30 with evenly spaced values between -1 and 1."
   ]
  },
  {
   "cell_type": "code",
   "execution_count": 13,
   "metadata": {},
   "outputs": [
    {
     "data": {
      "text/plain": [
       "array([-1.        , -0.93103448, -0.86206897, -0.79310345, -0.72413793,\n",
       "       -0.65517241, -0.5862069 , -0.51724138, -0.44827586, -0.37931034,\n",
       "       -0.31034483, -0.24137931, -0.17241379, -0.10344828, -0.03448276,\n",
       "        0.03448276,  0.10344828,  0.17241379,  0.24137931,  0.31034483,\n",
       "        0.37931034,  0.44827586,  0.51724138,  0.5862069 ,  0.65517241,\n",
       "        0.72413793,  0.79310345,  0.86206897,  0.93103448,  1.        ])"
      ]
     },
     "execution_count": 13,
     "metadata": {},
     "output_type": "execute_result"
    }
   ],
   "source": [
    "# YOUR CODE HERE\n",
    "np.linspace(-1,1,30)"
   ]
  },
  {
   "attachments": {},
   "cell_type": "markdown",
   "metadata": {},
   "source": [
    "8. Construct a 5x6 matrix with integers from 0 to 30."
   ]
  },
  {
   "cell_type": "code",
   "execution_count": 14,
   "metadata": {},
   "outputs": [
    {
     "data": {
      "text/plain": [
       "array([[ 0,  1,  2,  3,  4,  5],\n",
       "       [ 6,  7,  8,  9, 10, 11],\n",
       "       [12, 13, 14, 15, 16, 17],\n",
       "       [18, 19, 20, 21, 22, 23],\n",
       "       [24, 25, 26, 27, 28, 29]])"
      ]
     },
     "execution_count": 14,
     "metadata": {},
     "output_type": "execute_result"
    }
   ],
   "source": [
    "# YOUR CODE HERE\n",
    "np.arange(0, 30).reshape(5, 6)"
   ]
  },
  {
   "attachments": {},
   "cell_type": "markdown",
   "metadata": {},
   "source": [
    "9. Create an array of 30 random integers and sort it in ascending order."
   ]
  },
  {
   "cell_type": "code",
   "execution_count": 23,
   "metadata": {},
   "outputs": [
    {
     "data": {
      "text/plain": [
       "array([ 27,  85, 159, 189, 224, 230, 242, 330, 339, 347, 376, 384, 472,\n",
       "       505, 524, 555, 556, 573, 577, 619, 639, 645, 681, 698, 795, 795,\n",
       "       797, 838, 952, 957])"
      ]
     },
     "execution_count": 23,
     "metadata": {},
     "output_type": "execute_result"
    }
   ],
   "source": [
    "# YOUR CODE HERE\n",
    "np.sort(np.random.randint(0,1000,30))\n"
   ]
  },
  {
   "attachments": {},
   "cell_type": "markdown",
   "metadata": {},
   "source": [
    "10. Construct a 5x10 matrix filled with the value 1 at each location. Print the following details about this matrix:\n",
    "- number of elements\n",
    "- shape of the matrix\n",
    "- the data type (using numpy methods)\n"
   ]
  },
  {
   "cell_type": "code",
   "execution_count": 26,
   "metadata": {},
   "outputs": [
    {
     "name": "stdout",
     "output_type": "stream",
     "text": [
      "50\n",
      "(5, 10)\n",
      "float64\n"
     ]
    }
   ],
   "source": [
    "# YOUR CODE HERE\n",
    "array=np.ones((5,10))\n",
    "print(array.size)\n",
    "print(array.shape)\n",
    "print(array.dtype)"
   ]
  },
  {
   "attachments": {},
   "cell_type": "markdown",
   "metadata": {},
   "source": [
    "11. Construct a 3x4x7 matrix with random integer values between 0 and 10 (a 3D matrix will be created).\n"
   ]
  },
  {
   "cell_type": "code",
   "execution_count": 28,
   "metadata": {},
   "outputs": [
    {
     "data": {
      "text/plain": [
       "array([[[9, 9, 2, 7, 3, 7, 9],\n",
       "        [4, 1, 2, 1, 5, 5, 7],\n",
       "        [9, 9, 3, 3, 3, 4, 8],\n",
       "        [6, 8, 1, 8, 4, 1, 8]],\n",
       "\n",
       "       [[4, 6, 8, 4, 3, 9, 3],\n",
       "        [9, 2, 2, 2, 6, 3, 9],\n",
       "        [4, 1, 4, 1, 5, 4, 8],\n",
       "        [8, 7, 3, 1, 1, 3, 6]],\n",
       "\n",
       "       [[7, 6, 6, 6, 3, 6, 8],\n",
       "        [2, 5, 1, 1, 5, 3, 4],\n",
       "        [3, 1, 1, 5, 6, 3, 9],\n",
       "        [5, 8, 1, 5, 3, 1, 4]]])"
      ]
     },
     "execution_count": 28,
     "metadata": {},
     "output_type": "execute_result"
    }
   ],
   "source": [
    "# YOUR CODE HERE\n",
    "np.random.randint(1, 10, size=(3, 4, 7))"
   ]
  },
  {
   "attachments": {},
   "cell_type": "markdown",
   "metadata": {},
   "source": [
    "12. Create an array of 20 random integers and reshape it into a 4x5 matrix."
   ]
  },
  {
   "cell_type": "code",
   "execution_count": 31,
   "metadata": {},
   "outputs": [
    {
     "data": {
      "text/plain": [
       "array([[44, 19, 64,  7, 15],\n",
       "       [13, 75, 86, 14, 91],\n",
       "       [97, 65, 31, 86, 62],\n",
       "       [85, 50, 24, 57, 62]])"
      ]
     },
     "execution_count": 31,
     "metadata": {},
     "output_type": "execute_result"
    }
   ],
   "source": [
    "# YOUR CODE HERE\n",
    "np.random.randint(0,100,20).reshape(4,5)"
   ]
  },
  {
   "attachments": {},
   "cell_type": "markdown",
   "metadata": {},
   "source": [
    "13. Construct a one-dimensional array by concetanating 4 separate one-dimensional arrays."
   ]
  },
  {
   "cell_type": "code",
   "execution_count": 33,
   "metadata": {},
   "outputs": [
    {
     "data": {
      "text/plain": [
       "array([ 1,  2,  3,  4,  5,  6,  7,  8,  9, 10])"
      ]
     },
     "execution_count": 33,
     "metadata": {},
     "output_type": "execute_result"
    }
   ],
   "source": [
    "# YOUR CODE HERE\n",
    "array1 = np.array([1, 2, 3])\n",
    "array2 = np.array([4, 5])\n",
    "array3 = np.array([6, 7, 8, 9])\n",
    "array4 = np.array([10])\n",
    "\n",
    "array = np.concatenate((array1, array2, array3, array4))\n",
    "array"
   ]
  },
  {
   "attachments": {},
   "cell_type": "markdown",
   "metadata": {},
   "source": [
    "14. Create a vector of length 3 (3x1) and a matrix of size 3x3. Combine these two arrays on a\n",
    "    column-by-column basis using numpy methods.\n"
   ]
  },
  {
   "cell_type": "code",
   "execution_count": 42,
   "metadata": {},
   "outputs": [
    {
     "data": {
      "text/plain": [
       "array([[1, 4, 5, 8],\n",
       "       [2, 4, 0, 3],\n",
       "       [3, 4, 9, 9]])"
      ]
     },
     "execution_count": 42,
     "metadata": {},
     "output_type": "execute_result"
    }
   ],
   "source": [
    "a = np.array([1, 2, 3]).reshape(-1, 1)\n",
    "b = np.random.randint(0, 10, (3, 3))\n",
    "c= np.concatenate((a,b),axis=  1)\n",
    "c"
   ]
  },
  {
   "cell_type": "code",
   "execution_count": 40,
   "metadata": {},
   "outputs": [
    {
     "data": {
      "text/plain": [
       "2"
      ]
     },
     "execution_count": 40,
     "metadata": {},
     "output_type": "execute_result"
    }
   ],
   "source": [
    "np.argmax(b)"
   ]
  },
  {
   "attachments": {},
   "cell_type": "markdown",
   "metadata": {},
   "source": [
    "15. What is the difference between \"axis=1\" and \"axis=0\" in Numpy functions? "
   ]
  },
  {
   "attachments": {},
   "cell_type": "markdown",
   "metadata": {},
   "source": [
    "YOUR ANSWER HERE\n",
    "axis 1 is coulumn base concantration and axis 0 means row wise concantration"
   ]
  },
  {
   "attachments": {},
   "cell_type": "markdown",
   "metadata": {},
   "source": [
    "16. Create a random 1D vector with 20 elements. Find the 3rd, 5th and 7th elements of this vector.\n"
   ]
  },
  {
   "cell_type": "code",
   "execution_count": 46,
   "metadata": {},
   "outputs": [
    {
     "name": "stdout",
     "output_type": "stream",
     "text": [
      "3\n",
      "5\n",
      "7\n"
     ]
    }
   ],
   "source": [
    "# YOUR CODE HERE\n",
    "a=np.arange(1,21,1)\n",
    "print(a[2])\n",
    "print(a[4])\n",
    "print(a[6])"
   ]
  },
  {
   "attachments": {},
   "cell_type": "markdown",
   "metadata": {},
   "source": [
    "17. Create a random vector with 10 elements and replace the 4th element of this array with a different number."
   ]
  },
  {
   "cell_type": "code",
   "execution_count": 51,
   "metadata": {},
   "outputs": [
    {
     "name": "stdout",
     "output_type": "stream",
     "text": [
      "[4 8 2 3 1 1 3 5 3 1]\n"
     ]
    },
    {
     "data": {
      "text/plain": [
       "array([ 4,  8,  2, 88,  1,  1,  3,  5,  3,  1])"
      ]
     },
     "execution_count": 51,
     "metadata": {},
     "output_type": "execute_result"
    }
   ],
   "source": [
    "# YOUR CODE HERE\n",
    "a=np.random.randint(1,10,10)\n",
    "print(a)\n",
    "a[3]=88\n",
    "a"
   ]
  },
  {
   "attachments": {},
   "cell_type": "markdown",
   "metadata": {},
   "source": [
    "18. Look up the concepts of *diagonal matrix* and *trace matrix* online and write a small explanation about what they are.\n"
   ]
  },
  {
   "attachments": {},
   "cell_type": "markdown",
   "metadata": {},
   "source": [
    "YOUR ANSWER HERE\n",
    "A diagonal matrix is a square matrix with non-diagonal entries that are all zero and diagonal elements that are non-zero. The sum of a matrix's diagonal components yields a scalar number called the trace, which has features that are useful in different mathematical procedures."
   ]
  },
  {
   "attachments": {},
   "cell_type": "markdown",
   "metadata": {},
   "source": [
    "19. Create a 5x5 diagonal matrix with elements of your choosing. What are the indexes of the diagonal?\n"
   ]
  },
  {
   "cell_type": "code",
   "execution_count": 55,
   "metadata": {},
   "outputs": [
    {
     "data": {
      "text/plain": [
       "array([[1, 0, 0, 0, 0],\n",
       "       [0, 2, 0, 0, 0],\n",
       "       [0, 0, 3, 0, 0],\n",
       "       [0, 0, 0, 4, 0],\n",
       "       [0, 0, 0, 0, 5]])"
      ]
     },
     "execution_count": 55,
     "metadata": {},
     "output_type": "execute_result"
    }
   ],
   "source": [
    "# YOUR CODE HERE\n",
    "np.diag([1,2,3,4,5])\n",
    "#(1,1),(2,2),(3,3),(4,4),(5,5)"
   ]
  },
  {
   "attachments": {},
   "cell_type": "markdown",
   "metadata": {},
   "source": [
    "20. Create a vector that ranges from 10 to 20. Print the values from the 3rd index to the last index.\n"
   ]
  },
  {
   "cell_type": "code",
   "execution_count": 56,
   "metadata": {},
   "outputs": [
    {
     "name": "stdout",
     "output_type": "stream",
     "text": [
      "[12 13 14 15 16 17 18 19 20]\n"
     ]
    }
   ],
   "source": [
    "# YOUR CODE HERE\n",
    "a = np.arange(10, 21)  \n",
    "\n",
    "print(a[2:]) "
   ]
  },
  {
   "attachments": {},
   "cell_type": "markdown",
   "metadata": {},
   "source": [
    "21. Construct a 10x10 matrix with random elements and perform the following indexing tasks on it. Each task should be a single indexing operation.\n",
    " - Retrieve column 5 of row 3. Moreover;\n",
    " - Retrieve all elements of column 5.\n",
    " - Retrieve the 2nd row of all columns.\n",
    " - Retrieve row 2 through 7 of all columns.\n",
    " - Retrieve values with row index 2 to 5 and column index 3 to 7.\n",
    " - Retrieve the values from row index 5 to the end and column index from the top to 4.\n",
    " - Replace the value corresponding to the 5th row and the 5th column with your year of birth."
   ]
  },
  {
   "cell_type": "code",
   "execution_count": 63,
   "metadata": {},
   "outputs": [
    {
     "name": "stdout",
     "output_type": "stream",
     "text": [
      "[[ 7 51 72 42 64 15 29 33 94 27]\n",
      " [36 29 38 57 97 27 55 33 68 86]\n",
      " [66 10  5 74 97 38 13 31 47 88]\n",
      " [52 56 15 29  8  5 29 47 68 76]\n",
      " [45  2 27 95 36 36 26 43 27 69]\n",
      " [20 11 74 38  6 72 23 47 90 46]\n",
      " [12 90 13 62 82 89 97 60 43 76]\n",
      " [68  5 37 72 92 31  9 51 29 78]\n",
      " [40 41 86 11 23  1 46 21 90 36]\n",
      " [54 87 57  1 63 54 55 40 15 21]]\n",
      "97\n",
      "[64 97 97  8 36  6 82 92 23 63]\n",
      "[36 29 38 57 97 27 55 33 68 86]\n",
      "[[36 29 38 57 97 27 55 33 68 86]\n",
      " [66 10  5 74 97 38 13 31 47 88]\n",
      " [52 56 15 29  8  5 29 47 68 76]\n",
      " [45  2 27 95 36 36 26 43 27 69]\n",
      " [20 11 74 38  6 72 23 47 90 46]\n",
      " [12 90 13 62 82 89 97 60 43 76]]\n",
      "[[74 97 38 13]\n",
      " [29  8  5 29]\n",
      " [95 36 36 26]]\n",
      "[[20 11 74 38]\n",
      " [12 90 13 62]\n",
      " [68  5 37 72]\n",
      " [40 41 86 11]\n",
      " [54 87 57  1]]\n"
     ]
    }
   ],
   "source": [
    "# YOUR CODE HERE\n",
    "a=np.random.randint(1,100, size=(10,10))\n",
    "print(a)\n",
    "print(a[2,4])\n",
    "print(a[:,4])\n",
    "print(a[1,:])\n",
    "print(a[1:7,:])\n",
    "print(a[2:5,3:7])\n",
    "print(a[5::,0:4])\n",
    "a[5,5]=1988"
   ]
  },
  {
   "attachments": {},
   "cell_type": "markdown",
   "metadata": {},
   "source": [
    "22. Construct a one-dimensional array from 0 to 50 jumping with steps of 5 (`[5, 10, ...]`). Use the numpy methods to perform the following tasks;\n",
    "- Print all values greater than 20.\n",
    "- Print all values less than 30.\n",
    "- How many values are 33 in it?\n",
    "- Multiply all the elements of the created array by 5."
   ]
  },
  {
   "cell_type": "code",
   "execution_count": 79,
   "metadata": {},
   "outputs": [
    {
     "name": "stdout",
     "output_type": "stream",
     "text": [
      "[25 30 35 40 45]\n",
      "[ 5 10 15 20 25]\n",
      "0\n"
     ]
    },
    {
     "data": {
      "text/plain": [
       "array([ 25,  50,  75, 100, 125, 150, 175, 200, 225])"
      ]
     },
     "execution_count": 79,
     "metadata": {},
     "output_type": "execute_result"
    }
   ],
   "source": [
    "# YOUR CODE HERE\n",
    "a=np.arange(5,50,5)\n",
    "print(a[a>20])\n",
    "print(a[a<30])\n",
    "print(a[a==33].size)\n",
    "b=a*5\n",
    "b\n"
   ]
  },
  {
   "attachments": {},
   "cell_type": "markdown",
   "metadata": {},
   "source": [
    "23. Construct an array of 50 random floats between 0 and 1 and take the average. Moreover;\n",
    "- Get the standard deviation.\n",
    "- Get the variance.\n",
    "- Take the median.\n",
    "- Find the smallest value.\n",
    "- Find the largest value."
   ]
  },
  {
   "cell_type": "code",
   "execution_count": 86,
   "metadata": {},
   "outputs": [
    {
     "name": "stdout",
     "output_type": "stream",
     "text": [
      "0.4417427005707003\n",
      "0.2678672504744887\n",
      "0.07175286387676248\n",
      "0.0002375235758845795\n",
      "0.9903413133417771\n"
     ]
    }
   ],
   "source": [
    "# YOUR CODE HERE\n",
    "a=np.random.random(50)\n",
    "print(np.average(a))\n",
    "print(np.std(a))\n",
    "print(np.var(a))\n",
    "print(np.min(a))\n",
    "print(np.max(a))"
   ]
  },
  {
   "attachments": {},
   "cell_type": "markdown",
   "metadata": {},
   "source": [
    "24. What are the differences between Pandas Series and NumPy arrays?"
   ]
  },
  {
   "attachments": {},
   "cell_type": "markdown",
   "metadata": {},
   "source": [
    "YOUR ANSWER HERE"
   ]
  },
  {
   "attachments": {},
   "cell_type": "markdown",
   "metadata": {},
   "source": [
    "25. Create a 5-element series with different data types, with an index of capital letters."
   ]
  },
  {
   "cell_type": "code",
   "execution_count": 87,
   "metadata": {},
   "outputs": [
    {
     "name": "stdout",
     "output_type": "stream",
     "text": [
      "A           10\n",
      "B        Hello\n",
      "C         3.14\n",
      "D         True\n",
      "E    [1, 2, 3]\n",
      "dtype: object\n"
     ]
    }
   ],
   "source": [
    "# YOUR CODE HERE\n",
    "data = [10, 'Hello', 3.14, True, [1, 2, 3]]\n",
    "index = ['A', 'B', 'C', 'D', 'E']\n",
    "\n",
    "series = pd.Series(data, index=index)\n",
    "print(series)"
   ]
  },
  {
   "attachments": {},
   "cell_type": "markdown",
   "metadata": {},
   "source": [
    "26. Create a 5-element dictionary with keys as country names and values as capitals and turn it into a series. An example: ` \"france\" : \"paris\"`)."
   ]
  },
  {
   "cell_type": "code",
   "execution_count": 89,
   "metadata": {},
   "outputs": [
    {
     "data": {
      "text/plain": [
       "France          Paris\n",
       "Germany        Berlin\n",
       "Japan           Tokyo\n",
       "Brazil       Brasília\n",
       "Australia    Canberra\n",
       "dtype: object"
      ]
     },
     "execution_count": 89,
     "metadata": {},
     "output_type": "execute_result"
    }
   ],
   "source": [
    "# YOUR CODE HERE\n",
    "dictionary = {\n",
    "    'France': 'Paris',\n",
    "    'Germany': 'Berlin',\n",
    "    'Japan': 'Tokyo',\n",
    "    'Brazil': 'Brasília',\n",
    "    'Australia': 'Canberra'\n",
    "}\n",
    "\n",
    "series = pd.Series(dictionary)\n",
    "series"
   ]
  },
  {
   "attachments": {},
   "cell_type": "markdown",
   "metadata": {},
   "source": [
    "27. Create a random vector with 10 elements.\n",
    "- Convert the vector to series and with strings as indeces. For example, a,b,c,d,e,f,g..\n",
    "- Retrieve the 3rd element of the series using the index name (for example: c).\n",
    "- Retrieve the 1st element of the series using the index number.\n",
    "- Access the 2nd and 7th elements of the series at the same time, using the index name. (Example: values corresponding to index b and g)"
   ]
  },
  {
   "cell_type": "code",
   "execution_count": 99,
   "metadata": {},
   "outputs": [
    {
     "name": "stdout",
     "output_type": "stream",
     "text": [
      "a    0.245286\n",
      "b    0.157341\n",
      "c    0.160400\n",
      "d    0.334009\n",
      "e    0.238690\n",
      "f    0.930090\n",
      "g    0.105834\n",
      "h    0.698991\n",
      "i    0.189222\n",
      "j    0.881637\n",
      "dtype: float64\n",
      "0.1604001053300721\n",
      "0.24528553225533456\n",
      "b    0.157341\n",
      "g    0.105834\n",
      "dtype: float64\n"
     ]
    }
   ],
   "source": [
    "# YOUR CODE HERE\n",
    "a=np.random.rand(10)\n",
    "i = ['a', 'b', 'c', 'd', 'e', 'f', 'g', 'h', 'i', 'j']\n",
    "series = pd.Series(a, index=i)\n",
    "print(series)\n",
    "print(series['c'])\n",
    "print(series[0])\n",
    "print(series[['b','g']])\n",
    "\n"
   ]
  },
  {
   "attachments": {},
   "cell_type": "markdown",
   "metadata": {},
   "source": [
    "28. Create two 5-element series with elements of your choice with default index.\n",
    "- Combine the series you have created.\n",
    "- Arrange the index of the resulting concatenated 10-element series from 1 to 10."
   ]
  },
  {
   "cell_type": "code",
   "execution_count": 100,
   "metadata": {},
   "outputs": [
    {
     "name": "stdout",
     "output_type": "stream",
     "text": [
      "1      10\n",
      "2      20\n",
      "3      30\n",
      "4      40\n",
      "5      50\n",
      "6      60\n",
      "7      70\n",
      "8      80\n",
      "9      90\n",
      "10    100\n",
      "dtype: int64\n"
     ]
    }
   ],
   "source": [
    "# YOUR CODE HERE\n",
    "series1 = pd.Series([10, 20, 30, 40, 50])  \n",
    "series2 = pd.Series([60, 70, 80, 90, 100]) \n",
    "\n",
    "combined_series = pd.concat([series1, series2]) \n",
    "\n",
    "combined_series.index = range(1, 11) \n",
    "\n",
    "print(combined_series)"
   ]
  },
  {
   "attachments": {},
   "cell_type": "markdown",
   "metadata": {},
   "source": [
    "**Bonus homework**:\n",
    "\n",
    "\n",
    "Generate two 20x20 matrices with values between 0 and 1 randomly in a loop and take the difference of these\n",
    "matrices. Repeat this process until all elements on the diagonal of the difference matrix\n",
    "is between -0.1 and 0.1. When the desired matrix is found, let the program stop\n",
    "and print the total number of cycles, how long it took, and the desired matrix\n",
    "with print.\n",
    "\n",
    "\n",
    "Tip: Finding the 20 x 20 matrix can take hours. Therefore, to test the accuracy\n",
    "of your algorithm, you can first try it on small matrices such as 4x4, 5x5. And\n",
    "you can try the latest 20x20 by increasing the number of matrix. (You can do\n",
    "the matrix generation with the np.random.random((a,b)) function. It generates\n",
    "an array of desired sizes between 0-1.)\n"
   ]
  },
  {
   "cell_type": "code",
   "execution_count": 8,
   "metadata": {},
   "outputs": [
    {
     "name": "stdout",
     "output_type": "stream",
     "text": [
      "[[0.80203982 0.30776679 0.96514057 0.22254882 0.96082357 0.88386248\n",
      "  0.70451455 0.81831221 0.14548417 0.8959089 ]\n",
      " [0.98036683 0.14353201 0.28529909 0.69382485 0.60194746 0.475862\n",
      "  0.31297111 0.97058358 0.17919567 0.15907398]\n",
      " [0.41137242 0.48203334 0.46616916 0.76720021 0.29136543 0.0795811\n",
      "  0.78117109 0.12738464 0.68651872 0.39496577]\n",
      " [0.54496983 0.37466624 0.0617913  0.53042882 0.40448796 0.76969605\n",
      "  0.20853571 0.51940513 0.91002657 0.00812047]\n",
      " [0.51407471 0.65924698 0.27077373 0.26043534 0.87028382 0.48404125\n",
      "  0.11449501 0.35794764 0.08981719 0.08823397]\n",
      " [0.38782498 0.68402206 0.11227034 0.50878429 0.48766131 0.12199372\n",
      "  0.95849971 0.98251215 0.55170378 0.59825786]\n",
      " [0.41522148 0.70202938 0.21248676 0.22896877 0.15433878 0.25010281\n",
      "  0.46566852 0.06914628 0.39681494 0.55999141]\n",
      " [0.41197287 0.69454831 0.32287117 0.96678505 0.83378521 0.7331555\n",
      "  0.70858667 0.12600876 0.34546425 0.00619238]\n",
      " [0.52984152 0.37588775 0.56028108 0.05727417 0.24793042 0.68294765\n",
      "  0.52578849 0.66889901 0.21294442 0.05397293]\n",
      " [0.82445666 0.76913988 0.62643065 0.48334431 0.65385235 0.49251463\n",
      "  0.76416145 0.69881082 0.13019246 0.31224236]]\n",
      "[[0.72172713 0.29042274 0.64270024 0.38845608 0.3129209  0.65477374\n",
      "  0.71715283 0.2777364  0.2432717  0.53544144]\n",
      " [0.4241309  0.21952347 0.56259197 0.88888657 0.57858518 0.72735638\n",
      "  0.61142464 0.66673123 0.33966524 0.19494811]\n",
      " [0.55280306 0.89255497 0.47260232 0.27342196 0.0339077  0.96913436\n",
      "  0.93195147 0.37059954 0.2995923  0.59400496]\n",
      " [0.17203848 0.64198514 0.03786261 0.59183775 0.57453254 0.41388092\n",
      "  0.29310621 0.60934775 0.08744375 0.39002541]\n",
      " [0.51377704 0.53389463 0.40633852 0.72062933 0.88069679 0.7699717\n",
      "  0.58540794 0.84959961 0.09337854 0.64184151]\n",
      " [0.37776693 0.66785879 0.03977042 0.70634943 0.44832173 0.06685455\n",
      "  0.37565078 0.37979734 0.00338834 0.05422313]\n",
      " [0.1749701  0.84853587 0.7494622  0.17769094 0.18820354 0.43967561\n",
      "  0.50601262 0.765384   0.29873345 0.03724428]\n",
      " [0.67970462 0.4620484  0.15482759 0.52098347 0.84076659 0.78468796\n",
      "  0.32573173 0.14698139 0.50888749 0.6979796 ]\n",
      " [0.47917136 0.1064288  0.9428681  0.23238226 0.10254983 0.96916175\n",
      "  0.65787511 0.52870638 0.13661541 0.6500279 ]\n",
      " [0.73110796 0.15028509 0.88760282 0.2838273  0.83642589 0.65564531\n",
      "  0.21397019 0.81672623 0.03382522 0.35373184]]\n",
      "<built-in method diagonal of numpy.ndarray object at 0x7ffab5e4cc90>\n",
      "Time taken:  3.69028902053833\n"
     ]
    }
   ],
   "source": [
    "# YOUR CODE HERE\n",
    "import numpy as np\n",
    "np.random.seed(42)\n",
    "import time\n",
    "\n",
    "size = 10\n",
    "\n",
    "# record how long the while loop takes\n",
    "start = time.time()\n",
    "\n",
    "while True:\n",
    "    # generate two random matrices of size 3x3\n",
    "    a = np.random.random((size, size))\n",
    "    b = np.random.random((size, size))\n",
    "\n",
    "    diff = np.abs(a - b)\n",
    "    # get diagonal of diff\n",
    "    if np.all(np.diag(diff) <= 0.1):\n",
    "        print(\"Found a match!\")\n",
    "        print(\"matrix 1:\")\n",
    "        print(a)\n",
    "        print(\"matrix 2:\")\n",
    "        print(b)\n",
    "        print(\"diagonal of diff:\")\n",
    "        print(np.diagonal(diff))\n",
    "        break\n",
    "\n",
    "# stop time\n",
    "end = time.time()\n",
    "print(\"Time taken: \", end - start)\n"
   ]
  }
 ],
 "metadata": {
  "kernelspec": {
   "display_name": "Python 3",
   "language": "python",
   "name": "python3"
  },
  "language_info": {
   "codemirror_mode": {
    "name": "ipython",
    "version": 3
   },
   "file_extension": ".py",
   "mimetype": "text/x-python",
   "name": "python",
   "nbconvert_exporter": "python",
   "pygments_lexer": "ipython3",
   "version": "3.9.13"
  },
  "orig_nbformat": 4,
  "vscode": {
   "interpreter": {
    "hash": "8a94588eda9d64d9e9a351ab8144e55b1fabf5113b54e67dd26a8c27df0381b3"
   }
  }
 },
 "nbformat": 4,
 "nbformat_minor": 2
}
