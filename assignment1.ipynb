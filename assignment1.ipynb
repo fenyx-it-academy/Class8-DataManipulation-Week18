{
 "cells": [
  {
   "attachments": {},
   "cell_type": "markdown",
   "metadata": {},
   "source": [
    "## Data Manipulation module\n",
    "### Homework assignment 1\n",
    "\n",
    "Welcome to the first homework assignment of the data manipulation module. In this assignment you will be working with NumPy and Pandas Series. The goal of this assignment is to get you familiar with these libraries and data types.\n",
    "\n",
    "### Instructions\n",
    "Read the exercises carefully and implement the requested functionality. Add your code in the cells provided with `YOUR CODE HERE` or `YOUR ANSWER HERE`. You can add cells if you need to. **Make sure to use NumPy methods** to find your answers. In some cases you might be able to read the answer, but we want to see you using the NumPy methods.\n",
    "\n",
    "### Hand-in\n",
    "To hand in your assignment, fork this notebook and commit your changes, then make a pull request to the original repository. The deadline for handing in the assignment is **Wednesday 10-05 23:59**."
   ]
  },
  {
   "cell_type": "code",
   "execution_count": 1,
   "metadata": {},
   "outputs": [],
   "source": [
    "# imports, no need to edit\n",
    "\n",
    "import numpy as np\n",
    "import pandas as pd\n",
    "\n",
    "np.random.seed(42)"
   ]
  },
  {
   "attachments": {},
   "cell_type": "markdown",
   "metadata": {},
   "source": [
    "1. Explain the difference between a vector and matrix in NumPy in one sentence."
   ]
  },
  {
   "attachments": {},
   "cell_type": "markdown",
   "metadata": {},
   "source": [
    "A matrix is more than one dimensional array but a vector is one dimensional array"
   ]
  },
  {
   "attachments": {},
   "cell_type": "markdown",
   "metadata": {},
   "source": [
    "2. Construct a NumPy Array from a list of 10 elements."
   ]
  },
  {
   "cell_type": "code",
   "execution_count": 4,
   "metadata": {},
   "outputs": [
    {
     "name": "stdout",
     "output_type": "stream",
     "text": [
      "[ 1  2  3  4  5  6  7  8  9 10]\n"
     ]
    }
   ],
   "source": [
    "# YOUR CODE HERE\n",
    "array = np.arange(1,11,1)\n",
    "print(array)"
   ]
  },
  {
   "attachments": {},
   "cell_type": "markdown",
   "metadata": {},
   "source": [
    "3. Construct a 10x10 matrix filled with '0's of the integer data type."
   ]
  },
  {
   "cell_type": "code",
   "execution_count": 6,
   "metadata": {},
   "outputs": [
    {
     "data": {
      "text/plain": [
       "array([[0, 0, 0, 0, 0, 0, 0, 0, 0, 0],\n",
       "       [0, 0, 0, 0, 0, 0, 0, 0, 0, 0],\n",
       "       [0, 0, 0, 0, 0, 0, 0, 0, 0, 0],\n",
       "       [0, 0, 0, 0, 0, 0, 0, 0, 0, 0],\n",
       "       [0, 0, 0, 0, 0, 0, 0, 0, 0, 0],\n",
       "       [0, 0, 0, 0, 0, 0, 0, 0, 0, 0],\n",
       "       [0, 0, 0, 0, 0, 0, 0, 0, 0, 0],\n",
       "       [0, 0, 0, 0, 0, 0, 0, 0, 0, 0],\n",
       "       [0, 0, 0, 0, 0, 0, 0, 0, 0, 0],\n",
       "       [0, 0, 0, 0, 0, 0, 0, 0, 0, 0]], dtype=int8)"
      ]
     },
     "execution_count": 6,
     "metadata": {},
     "output_type": "execute_result"
    }
   ],
   "source": [
    "# YOUR CODE HERE\n",
    "np.zeros((10,10),dtype=\"int8\")"
   ]
  },
  {
   "attachments": {},
   "cell_type": "markdown",
   "metadata": {},
   "source": [
    "4. Construct a 10x10 matrix filled with '1's, data type float."
   ]
  },
  {
   "cell_type": "code",
   "execution_count": 8,
   "metadata": {},
   "outputs": [
    {
     "data": {
      "text/plain": [
       "array([[1., 1., 1., 1., 1., 1., 1., 1., 1., 1.],\n",
       "       [1., 1., 1., 1., 1., 1., 1., 1., 1., 1.],\n",
       "       [1., 1., 1., 1., 1., 1., 1., 1., 1., 1.],\n",
       "       [1., 1., 1., 1., 1., 1., 1., 1., 1., 1.],\n",
       "       [1., 1., 1., 1., 1., 1., 1., 1., 1., 1.],\n",
       "       [1., 1., 1., 1., 1., 1., 1., 1., 1., 1.],\n",
       "       [1., 1., 1., 1., 1., 1., 1., 1., 1., 1.],\n",
       "       [1., 1., 1., 1., 1., 1., 1., 1., 1., 1.],\n",
       "       [1., 1., 1., 1., 1., 1., 1., 1., 1., 1.],\n",
       "       [1., 1., 1., 1., 1., 1., 1., 1., 1., 1.]], dtype=float32)"
      ]
     },
     "execution_count": 8,
     "metadata": {},
     "output_type": "execute_result"
    }
   ],
   "source": [
    "# YOUR CODE HERE\n",
    "np.ones((10,10),dtype=\"float32\")"
   ]
  },
  {
   "attachments": {},
   "cell_type": "markdown",
   "metadata": {},
   "source": [
    "5. Construct a 10x10 matrix filled with '9's of the integer data type."
   ]
  },
  {
   "cell_type": "code",
   "execution_count": 14,
   "metadata": {},
   "outputs": [
    {
     "name": "stdout",
     "output_type": "stream",
     "text": [
      "[[9 9 9 9 9 9 9 9 9 9]\n",
      " [9 9 9 9 9 9 9 9 9 9]\n",
      " [9 9 9 9 9 9 9 9 9 9]\n",
      " [9 9 9 9 9 9 9 9 9 9]\n",
      " [9 9 9 9 9 9 9 9 9 9]\n",
      " [9 9 9 9 9 9 9 9 9 9]\n",
      " [9 9 9 9 9 9 9 9 9 9]\n",
      " [9 9 9 9 9 9 9 9 9 9]\n",
      " [9 9 9 9 9 9 9 9 9 9]\n",
      " [9 9 9 9 9 9 9 9 9 9]]\n"
     ]
    },
    {
     "data": {
      "text/plain": [
       "array([[9, 9, 9, 9, 9, 9, 9, 9, 9, 9],\n",
       "       [9, 9, 9, 9, 9, 9, 9, 9, 9, 9],\n",
       "       [9, 9, 9, 9, 9, 9, 9, 9, 9, 9],\n",
       "       [9, 9, 9, 9, 9, 9, 9, 9, 9, 9],\n",
       "       [9, 9, 9, 9, 9, 9, 9, 9, 9, 9],\n",
       "       [9, 9, 9, 9, 9, 9, 9, 9, 9, 9],\n",
       "       [9, 9, 9, 9, 9, 9, 9, 9, 9, 9],\n",
       "       [9, 9, 9, 9, 9, 9, 9, 9, 9, 9],\n",
       "       [9, 9, 9, 9, 9, 9, 9, 9, 9, 9],\n",
       "       [9, 9, 9, 9, 9, 9, 9, 9, 9, 9]], dtype=int8)"
      ]
     },
     "execution_count": 14,
     "metadata": {},
     "output_type": "execute_result"
    }
   ],
   "source": [
    "# YOUR CODE HERE\n",
    "print(np.full((10,10),9))\n",
    "\n",
    "# another way\n",
    "\n",
    "np.ones((10,10),dtype=\"int8\")*9"
   ]
  },
  {
   "attachments": {},
   "cell_type": "markdown",
   "metadata": {},
   "source": [
    "6. Construct a one-dimensional array with values between 5 and 25 that jumps with steps of 3 (`[5, 8, ...]`)"
   ]
  },
  {
   "cell_type": "code",
   "execution_count": 18,
   "metadata": {},
   "outputs": [
    {
     "data": {
      "text/plain": [
       "array([ 5,  8, 11, 14, 17, 20, 23])"
      ]
     },
     "execution_count": 18,
     "metadata": {},
     "output_type": "execute_result"
    }
   ],
   "source": [
    "# YOUR CODE HERE\n",
    "arr = np.arange(5,25,3)\n",
    "arr"
   ]
  },
  {
   "attachments": {},
   "cell_type": "markdown",
   "metadata": {},
   "source": [
    "7. Create an array of size 30 with evenly spaced values between -1 and 1."
   ]
  },
  {
   "cell_type": "code",
   "execution_count": 25,
   "metadata": {},
   "outputs": [
    {
     "data": {
      "text/plain": [
       "array([-1.        , -0.93103448, -0.86206897, -0.79310345, -0.72413793,\n",
       "       -0.65517241, -0.5862069 , -0.51724138, -0.44827586, -0.37931034,\n",
       "       -0.31034483, -0.24137931, -0.17241379, -0.10344828, -0.03448276,\n",
       "        0.03448276,  0.10344828,  0.17241379,  0.24137931,  0.31034483,\n",
       "        0.37931034,  0.44827586,  0.51724138,  0.5862069 ,  0.65517241,\n",
       "        0.72413793,  0.79310345,  0.86206897,  0.93103448,  1.        ])"
      ]
     },
     "execution_count": 25,
     "metadata": {},
     "output_type": "execute_result"
    }
   ],
   "source": [
    "# YOUR CODE HERE\n",
    "data = np.linspace(-1,1,30)\n",
    "data"
   ]
  },
  {
   "attachments": {},
   "cell_type": "markdown",
   "metadata": {},
   "source": [
    "8. Construct a 5x6 matrix with integers from 0 to 30."
   ]
  },
  {
   "cell_type": "code",
   "execution_count": 27,
   "metadata": {},
   "outputs": [
    {
     "data": {
      "text/plain": [
       "array([[ 6, 19, 28, 14, 10,  7],\n",
       "       [28, 20,  6, 25, 18, 22],\n",
       "       [10, 10, 23, 20,  3,  7],\n",
       "       [23,  2, 21, 20,  1, 23],\n",
       "       [11, 29,  5,  1, 27, 20]])"
      ]
     },
     "execution_count": 27,
     "metadata": {},
     "output_type": "execute_result"
    }
   ],
   "source": [
    "# YOUR CODE HERE\n",
    "np.random.randint(0,30,size=(5,6))"
   ]
  },
  {
   "attachments": {},
   "cell_type": "markdown",
   "metadata": {},
   "source": [
    "9. Create an array of 30 random integers and sort it in ascending order."
   ]
  },
  {
   "cell_type": "code",
   "execution_count": 48,
   "metadata": {},
   "outputs": [
    {
     "data": {
      "text/plain": [
       "array([ 0,  0,  6,  7,  7,  8,  8, 10, 11, 12, 12, 12, 14, 14, 15, 16, 17,\n",
       "       18, 20, 20, 23, 23, 23, 24, 24, 25, 27, 27, 27, 28])"
      ]
     },
     "execution_count": 48,
     "metadata": {},
     "output_type": "execute_result"
    }
   ],
   "source": [
    "# YOUR CODE HERE\n",
    "a = np.random.randint(30,size=30)\n",
    "b=np.sort(a)\n",
    "b"
   ]
  },
  {
   "attachments": {},
   "cell_type": "markdown",
   "metadata": {},
   "source": [
    "10. Construct a 5x10 matrix filled with the value 1 at each location. Print the following details about this matrix:\n",
    "- number of elements\n",
    "- shape of the matrix\n",
    "- the data type (using numpy methods)\n"
   ]
  },
  {
   "cell_type": "code",
   "execution_count": 55,
   "metadata": {},
   "outputs": [
    {
     "name": "stdout",
     "output_type": "stream",
     "text": [
      " the number of elements is 50\n",
      " the shape of the matrix is (5, 10)\n",
      " the data type of elements is float64\n"
     ]
    }
   ],
   "source": [
    "# YOUR CODE HERE\n",
    "a = np.ones((5,10))\n",
    "print(f\" the number of elements is {a.size}\")\n",
    "print(f\" the shape of the matrix is {a.shape}\")\n",
    "print(f\" the data type of elements is {a.dtype}\")\n"
   ]
  },
  {
   "attachments": {},
   "cell_type": "markdown",
   "metadata": {},
   "source": [
    "11. Construct a 3x4x7 matrix with random integer values between 0 and 10 (a 3D matrix will be created).\n"
   ]
  },
  {
   "cell_type": "code",
   "execution_count": 56,
   "metadata": {},
   "outputs": [
    {
     "data": {
      "text/plain": [
       "array([[[2, 2, 0, 4, 9, 6, 9],\n",
       "        [8, 6, 8, 7, 1, 0, 6],\n",
       "        [6, 7, 4, 2, 7, 5, 2],\n",
       "        [0, 2, 4, 2, 0, 4, 9]],\n",
       "\n",
       "       [[6, 6, 8, 9, 9, 2, 6],\n",
       "        [0, 3, 3, 4, 6, 6, 3],\n",
       "        [6, 2, 5, 1, 9, 8, 4],\n",
       "        [5, 3, 9, 6, 8, 6, 0]],\n",
       "\n",
       "       [[0, 8, 8, 3, 8, 2, 6],\n",
       "        [5, 7, 8, 4, 0, 2, 9],\n",
       "        [7, 5, 7, 8, 3, 0, 0],\n",
       "        [9, 3, 6, 1, 2, 0, 4]]])"
      ]
     },
     "execution_count": 56,
     "metadata": {},
     "output_type": "execute_result"
    }
   ],
   "source": [
    "# YOUR CODE HERE\n",
    "np.random.randint(0,10,size=(3,4,7))"
   ]
  },
  {
   "attachments": {},
   "cell_type": "markdown",
   "metadata": {},
   "source": [
    "12. Create an array of 20 random integers and reshape it into a 4x5 matrix."
   ]
  },
  {
   "cell_type": "code",
   "execution_count": 62,
   "metadata": {},
   "outputs": [
    {
     "data": {
      "text/plain": [
       "array([[ 1,  0, 13, 11,  4],\n",
       "       [ 4, 10,  6,  8,  8],\n",
       "       [ 2,  2,  2,  3,  7],\n",
       "       [ 5,  7,  0,  7,  3]])"
      ]
     },
     "execution_count": 62,
     "metadata": {},
     "output_type": "execute_result"
    }
   ],
   "source": [
    "# YOUR CODE HERE\n",
    "arr = np.random.randint(15,size=20)\n",
    "np.reshape(arr,(4,5))"
   ]
  },
  {
   "attachments": {},
   "cell_type": "markdown",
   "metadata": {},
   "source": [
    "13. Construct a one-dimensional array by concetanating 4 separate one-dimensional arrays."
   ]
  },
  {
   "cell_type": "code",
   "execution_count": 73,
   "metadata": {},
   "outputs": [
    {
     "name": "stdout",
     "output_type": "stream",
     "text": [
      "\n",
      "[1 2 3 4 1 2 3 4 1 2 3 4 1 2 3 4]\n"
     ]
    }
   ],
   "source": [
    "# YOUR CODE HERE\n",
    "a=[1,2,3,4]\n",
    "b=[1,2,3,4]\n",
    "c=[1,2,3,4]\n",
    "d=[1,2,3,4]\n",
    "\n",
    "np.concatenate([a,b,c,d])\n",
    "print()\n",
    "print(np.concatenate([a,b,c,d], axis=0))"
   ]
  },
  {
   "attachments": {},
   "cell_type": "markdown",
   "metadata": {},
   "source": [
    "14. Create a vector of length 3 (3x1) and a matrix of size 3x3. Combine these two arrays on a\n",
    "    column-by-column basis using numpy methods.\n"
   ]
  },
  {
   "cell_type": "code",
   "execution_count": 96,
   "metadata": {},
   "outputs": [
    {
     "name": "stdout",
     "output_type": "stream",
     "text": [
      "[[1]\n",
      " [2]\n",
      " [3]]\n",
      "\n",
      "[[1 2 3]\n",
      " [1 2 3]\n",
      " [1 2 3]]\n",
      "\n",
      "[[1 2 3 1]\n",
      " [1 2 3 2]\n",
      " [1 2 3 3]]\n",
      "\n",
      "[[1 2 3]]\n",
      "\n",
      "[[1 2 3]\n",
      " [1 2 3]\n",
      " [1 2 3]\n",
      " [1 2 3]]\n"
     ]
    }
   ],
   "source": [
    "vec1 = np.array([1,2,3])\n",
    "vec2 = np.reshape(vec1,(3,1))\n",
    "print(vec2)\n",
    "\n",
    "print()\n",
    "mat = np.array([[1,2,3],[1,2,3],[1,2,3]])\n",
    "print(mat)\n",
    "\n",
    "print()\n",
    "\n",
    "# concatenate to an existing row\n",
    "\n",
    "com = np.concatenate((mat,vec2),axis=1)\n",
    "print(com)\n",
    "print()\n",
    "\n",
    "####another   when concatenating take in consideration the axis of matrix should be the same as the axis of vector\n",
    "# concat to an existing column\n",
    "vec1 = np.array([1, 2, 3])\n",
    "vec1 = np.reshape(vec1, (1, 3))\n",
    "print(vec1)\n",
    "print()\n",
    "mat1 = np.array([[1, 2, 3], [1, 2, 3], [1, 2, 3]])\n",
    "new = np.concatenate((mat,vec1),axis=0)\n",
    "print(new)\n"
   ]
  },
  {
   "cell_type": "code",
   "execution_count": 11,
   "metadata": {},
   "outputs": [
    {
     "data": {
      "text/plain": [
       "5"
      ]
     },
     "execution_count": 11,
     "metadata": {},
     "output_type": "execute_result"
    }
   ],
   "source": [
    "np.argmax(b)"
   ]
  },
  {
   "attachments": {},
   "cell_type": "markdown",
   "metadata": {},
   "source": [
    "15. What is the difference between \"axis=1\" and \"axis=0\" in Numpy functions? "
   ]
  },
  {
   "attachments": {},
   "cell_type": "markdown",
   "metadata": {},
   "source": [
    "axis=1 means accross columns and axis=0 means accross rows"
   ]
  },
  {
   "attachments": {},
   "cell_type": "markdown",
   "metadata": {},
   "source": [
    "16. Create a random 1D vector with 20 elements. Find the 3rd, 5th and 7th elements of this vector.\n"
   ]
  },
  {
   "cell_type": "code",
   "execution_count": 104,
   "metadata": {},
   "outputs": [
    {
     "data": {
      "text/plain": [
       "array([0.51832965, 0.74076862, 0.70248408])"
      ]
     },
     "execution_count": 104,
     "metadata": {},
     "output_type": "execute_result"
    }
   ],
   "source": [
    "vec = np.random.rand(20)\n",
    "vec[[2,4,6]]"
   ]
  },
  {
   "attachments": {},
   "cell_type": "markdown",
   "metadata": {},
   "source": [
    "17. Create a random vector with 10 elements and replace the 4th element of this array with a different number."
   ]
  },
  {
   "cell_type": "code",
   "execution_count": 108,
   "metadata": {},
   "outputs": [
    {
     "data": {
      "text/plain": [
       "array([0.07845638, 0.02535074, 0.96264841, 5.        , 0.69597421,\n",
       "       0.40895294, 0.17329432, 0.15643704, 0.2502429 , 0.54922666])"
      ]
     },
     "execution_count": 108,
     "metadata": {},
     "output_type": "execute_result"
    }
   ],
   "source": [
    "# YOUR CODE HERE\n",
    "\n",
    "vec = np.random.rand(10)\n",
    "vec[[3]]= 5\n",
    "vec\n"
   ]
  },
  {
   "attachments": {},
   "cell_type": "markdown",
   "metadata": {},
   "source": [
    "18. Look up the concepts of *diagonal matrix* and *trace matrix* online and write a small explanation about what they are.\n",
    "\n",
    "https://www.youtube.com/watch?v=ugPcTQl83lU&ab_channel=LadislauFernandes\n"
   ]
  },
  {
   "attachments": {},
   "cell_type": "markdown",
   "metadata": {},
   "source": [
    "YOUR ANSWER HERE"
   ]
  },
  {
   "attachments": {},
   "cell_type": "markdown",
   "metadata": {},
   "source": [
    "19. Create a 5x5 diagonal matrix with elements of your choosing. What are the indexes of the diagonal?\n"
   ]
  },
  {
   "cell_type": "code",
   "execution_count": 112,
   "metadata": {},
   "outputs": [
    {
     "data": {
      "text/plain": [
       "13"
      ]
     },
     "execution_count": 112,
     "metadata": {},
     "output_type": "execute_result"
    }
   ],
   "source": [
    "# YOUR CODE HERE\n",
    "mat1 = np.array([[1, 2, 3], [1, 5, 3], [1, 2, 7]])\n",
    "np.diagonal(mat1)   \n",
    "np.trace(mat1)"
   ]
  },
  {
   "attachments": {},
   "cell_type": "markdown",
   "metadata": {},
   "source": [
    "20. Create a vector that ranges from 10 to 20. Print the values from the 3rd index to the last index.\n"
   ]
  },
  {
   "cell_type": "code",
   "execution_count": 120,
   "metadata": {},
   "outputs": [
    {
     "data": {
      "text/plain": [
       "array([13, 14, 15, 16, 17, 18, 19, 20])"
      ]
     },
     "execution_count": 120,
     "metadata": {},
     "output_type": "execute_result"
    }
   ],
   "source": [
    "# YOUR CODE HERE\n",
    "vec = np.arange(10,21)\n",
    "vec[3:]"
   ]
  },
  {
   "attachments": {},
   "cell_type": "markdown",
   "metadata": {},
   "source": [
    "21. Construct a 10x10 matrix with random elements and perform the following indexing tasks on it. Each task should be a single indexing operation.\n",
    " - Retrieve column 5 of row 3. Moreover;\n",
    " - Retrieve all elements of column 5.\n",
    " - Retrieve the 2nd row of all columns.\n",
    " - Retrieve row 2 through 7 of all columns.\n",
    " - Retrieve values with row index 2 to 5 and column index 3 to 7.\n",
    " - Retrieve the values from row index 5 to the end and column index from the top to 4.\n",
    " - Replace the value corresponding to the 5th row and the 5th column with your year of birth."
   ]
  },
  {
   "cell_type": "code",
   "execution_count": 150,
   "metadata": {},
   "outputs": [
    {
     "name": "stdout",
     "output_type": "stream",
     "text": [
      "[[0.37454012 0.95071431 0.73199394 0.59865848 0.15601864 0.15599452\n",
      "  0.05808361 0.86617615 0.60111501 0.70807258]\n",
      " [0.02058449 0.96990985 0.83244264 0.21233911 0.18182497 0.18340451\n",
      "  0.30424224 0.52475643 0.43194502 0.29122914]\n",
      " [0.61185289 0.13949386 0.29214465 0.36636184 0.45606998 0.78517596\n",
      "  0.19967378 0.51423444 0.59241457 0.04645041]\n",
      " [0.60754485 0.17052412 0.06505159 0.94888554 0.96563203 0.80839735\n",
      "  0.30461377 0.09767211 0.68423303 0.44015249]\n",
      " [0.12203823 0.49517691 0.03438852 0.9093204  0.25877998 0.66252228\n",
      "  0.31171108 0.52006802 0.54671028 0.18485446]\n",
      " [0.96958463 0.77513282 0.93949894 0.89482735 0.59789998 0.92187424\n",
      "  0.0884925  0.19598286 0.04522729 0.32533033]\n",
      " [0.38867729 0.27134903 0.82873751 0.35675333 0.28093451 0.54269608\n",
      "  0.14092422 0.80219698 0.07455064 0.98688694]\n",
      " [0.77224477 0.19871568 0.00552212 0.81546143 0.70685734 0.72900717\n",
      "  0.77127035 0.07404465 0.35846573 0.11586906]\n",
      " [0.86310343 0.62329813 0.33089802 0.06355835 0.31098232 0.32518332\n",
      "  0.72960618 0.63755747 0.88721274 0.47221493]\n",
      " [0.11959425 0.71324479 0.76078505 0.5612772  0.77096718 0.4937956\n",
      "  0.52273283 0.42754102 0.02541913 0.10789143]]\n",
      "0.8083973481164611\n",
      "[0.15599452 0.18340451 0.78517596 0.80839735 0.66252228 0.92187424\n",
      " 0.54269608 0.72900717 0.32518332 0.4937956 ]\n",
      "[[0.61185289 0.13949386 0.29214465 0.36636184 0.45606998 0.78517596\n",
      "  0.19967378 0.51423444 0.59241457 0.04645041]\n",
      " [0.60754485 0.17052412 0.06505159 0.94888554 0.96563203 0.80839735\n",
      "  0.30461377 0.09767211 0.68423303 0.44015249]\n",
      " [0.12203823 0.49517691 0.03438852 0.9093204  0.25877998 0.66252228\n",
      "  0.31171108 0.52006802 0.54671028 0.18485446]\n",
      " [0.96958463 0.77513282 0.93949894 0.89482735 0.59789998 0.92187424\n",
      "  0.0884925  0.19598286 0.04522729 0.32533033]\n",
      " [0.38867729 0.27134903 0.82873751 0.35675333 0.28093451 0.54269608\n",
      "  0.14092422 0.80219698 0.07455064 0.98688694]\n",
      " [0.77224477 0.19871568 0.00552212 0.81546143 0.70685734 0.72900717\n",
      "  0.77127035 0.07404465 0.35846573 0.11586906]]\n",
      "[[0.61185289 0.13949386 0.29214465 0.36636184 0.45606998 0.78517596\n",
      "  0.19967378 0.51423444 0.59241457 0.04645041]\n",
      " [0.60754485 0.17052412 0.06505159 0.94888554 0.96563203 0.80839735\n",
      "  0.30461377 0.09767211 0.68423303 0.44015249]\n",
      " [0.12203823 0.49517691 0.03438852 0.9093204  0.25877998 0.66252228\n",
      "  0.31171108 0.52006802 0.54671028 0.18485446]\n",
      " [0.96958463 0.77513282 0.93949894 0.89482735 0.59789998 0.92187424\n",
      "  0.0884925  0.19598286 0.04522729 0.32533033]\n",
      " [0.38867729 0.27134903 0.82873751 0.35675333 0.28093451 0.54269608\n",
      "  0.14092422 0.80219698 0.07455064 0.98688694]\n",
      " [0.77224477 0.19871568 0.00552212 0.81546143 0.70685734 0.72900717\n",
      "  0.77127035 0.07404465 0.35846573 0.11586906]]\n",
      "[[0.36636184 0.45606998 0.78517596 0.19967378 0.51423444]\n",
      " [0.94888554 0.96563203 0.80839735 0.30461377 0.09767211]\n",
      " [0.9093204  0.25877998 0.66252228 0.31171108 0.52006802]\n",
      " [0.89482735 0.59789998 0.92187424 0.0884925  0.19598286]]\n",
      "[]\n",
      "[[3.74540119e-01 9.50714306e-01 7.31993942e-01 5.98658484e-01\n",
      "  1.56018640e-01 1.55994520e-01 5.80836122e-02 8.66176146e-01\n",
      "  6.01115012e-01 7.08072578e-01]\n",
      " [2.05844943e-02 9.69909852e-01 8.32442641e-01 2.12339111e-01\n",
      "  1.81824967e-01 1.83404510e-01 3.04242243e-01 5.24756432e-01\n",
      "  4.31945019e-01 2.91229140e-01]\n",
      " [6.11852895e-01 1.39493861e-01 2.92144649e-01 3.66361843e-01\n",
      "  4.56069984e-01 7.85175961e-01 1.99673782e-01 5.14234438e-01\n",
      "  5.92414569e-01 4.64504127e-02]\n",
      " [6.07544852e-01 1.70524124e-01 6.50515930e-02 9.48885537e-01\n",
      "  9.65632033e-01 8.08397348e-01 3.04613769e-01 9.76721140e-02\n",
      "  6.84233027e-01 4.40152494e-01]\n",
      " [1.22038235e-01 4.95176910e-01 3.43885211e-02 9.09320402e-01\n",
      "  2.58779982e-01 6.62522284e-01 3.11711076e-01 5.20068021e-01\n",
      "  5.46710279e-01 1.84854456e-01]\n",
      " [9.69584628e-01 7.75132823e-01 9.39498942e-01 8.94827350e-01\n",
      "  5.97899979e-01 1.99800000e+03 8.84925021e-02 1.95982862e-01\n",
      "  4.52272889e-02 3.25330331e-01]\n",
      " [3.88677290e-01 2.71349032e-01 8.28737509e-01 3.56753327e-01\n",
      "  2.80934510e-01 5.42696083e-01 1.40924225e-01 8.02196981e-01\n",
      "  7.45506437e-02 9.86886937e-01]\n",
      " [7.72244769e-01 1.98715682e-01 5.52211712e-03 8.15461428e-01\n",
      "  7.06857344e-01 7.29007168e-01 7.71270347e-01 7.40446517e-02\n",
      "  3.58465729e-01 1.15869060e-01]\n",
      " [8.63103426e-01 6.23298127e-01 3.30898025e-01 6.35583503e-02\n",
      "  3.10982322e-01 3.25183322e-01 7.29606178e-01 6.37557471e-01\n",
      "  8.87212743e-01 4.72214925e-01]\n",
      " [1.19594246e-01 7.13244787e-01 7.60785049e-01 5.61277198e-01\n",
      "  7.70967180e-01 4.93795596e-01 5.22732829e-01 4.27541018e-01\n",
      "  2.54191267e-02 1.07891427e-01]]\n"
     ]
    }
   ],
   "source": [
    "# YOUR CODE HERE\n",
    "np.random.seed(42)\n",
    "mat = np.random.rand(10,10)\n",
    "print(mat)\n",
    "print(mat[3,5])\n",
    "print(mat[:,5])\n",
    "print(mat[2:8, :])\n",
    "print(mat[2:8, :])\n",
    "print(mat[2:6, 3:8])\n",
    "print(mat[5:, -1:5])\n",
    "mat[5,5] = 1998\n",
    "print(mat)\n"
   ]
  },
  {
   "attachments": {},
   "cell_type": "markdown",
   "metadata": {},
   "source": [
    "22. Construct a one-dimensional array from 0 to 50 jumping with steps of 5 (`[5, 10, ...]`). Use the numpy methods to perform the following tasks;\n",
    "- Print all values greater than 20.\n",
    "- Print all values less than 30.\n",
    "- How many values are 33 in it?\n",
    "- Multiply all the elements of the created array by 5."
   ]
  },
  {
   "cell_type": "code",
   "execution_count": 158,
   "metadata": {},
   "outputs": [
    {
     "name": "stdout",
     "output_type": "stream",
     "text": [
      "[30 40 50]\n",
      "[ 0 10 20]\n",
      "2\n",
      "[  0  50 100 150 200 250]\n"
     ]
    }
   ],
   "source": [
    "# YOUR CODE HERE\n",
    "arr = np.arange(0,51,10)\n",
    "arr\n",
    "\n",
    "print(arr[arr > 20])\n",
    "print(arr[arr < 30])\n",
    "print(np.size(arr[arr >= 33]))\n",
    "print(arr*5)"
   ]
  },
  {
   "attachments": {},
   "cell_type": "markdown",
   "metadata": {},
   "source": [
    "23. Construct an array of 50 random floats between 0 and 1 and take the average. Moreover;\n",
    "- Get the standard deviation.\n",
    "- Get the variance.\n",
    "- Take the median.\n",
    "- Find the smallest value.\n",
    "- Find the largest value."
   ]
  },
  {
   "cell_type": "code",
   "execution_count": 163,
   "metadata": {},
   "outputs": [
    {
     "name": "stdout",
     "output_type": "stream",
     "text": [
      "0.45708518883345484\n",
      "0.27306715205443444\n",
      "0.07456566953111961\n",
      "0.014393488629755868\n",
      "0.9758520794625346\n"
     ]
    }
   ],
   "source": [
    "# YOUR CODE HERE\n",
    "\n",
    "vec = np.random.rand(50)\n",
    "vec\n",
    "print(np.mean(vec))\n",
    "print(np.std(vec))\n",
    "print(np.var(vec))\n",
    "print(np.min(vec))\n",
    "print(np.max(vec))\n"
   ]
  },
  {
   "attachments": {},
   "cell_type": "markdown",
   "metadata": {},
   "source": [
    "24. What are the differences between Pandas Series and NumPy arrays?"
   ]
  },
  {
   "attachments": {},
   "cell_type": "markdown",
   "metadata": {},
   "source": [
    "series are dictionary based and includes an index"
   ]
  },
  {
   "attachments": {},
   "cell_type": "markdown",
   "metadata": {},
   "source": [
    "25. Create a 5-element series with different data types, with an index of capital letters."
   ]
  },
  {
   "cell_type": "code",
   "execution_count": 169,
   "metadata": {},
   "outputs": [
    {
     "name": "stdout",
     "output_type": "stream",
     "text": [
      "A       1\n",
      "B    Abdu\n",
      "C      15\n",
      "dtype: object\n",
      "\n",
      "   name  age\n",
      "A   Abd   15\n",
      "B  john   16\n",
      "C  jack   17\n",
      "D  jane   18\n"
     ]
    }
   ],
   "source": [
    "# YOUR CODE HERE\n",
    "import pandas as pd\n",
    "print(pd.Series([1, \"Abdu\", 15],index=[\"A\",\"B\",\"C\"]))\n",
    "\n",
    "print()\n",
    "print(pd.DataFrame({\"name\":[\"Abd\",\"john\",\"jack\",\"jane\"], \"age\":[15,16,17,18]},index=[\"A\",\"B\",\"C\",\"D\"]))"
   ]
  },
  {
   "attachments": {},
   "cell_type": "markdown",
   "metadata": {},
   "source": [
    "26. Create a 5-element dictionary with keys as country names and values as capitals and turn it into a series. An example: ` \"france\" : \"paris\"`)."
   ]
  },
  {
   "cell_type": "code",
   "execution_count": 170,
   "metadata": {},
   "outputs": [
    {
     "data": {
      "text/plain": [
       "Yemen                      Sana'a\n",
       "Saudi Arabia                Ryadh\n",
       "Netherlands             Amsterdam\n",
       "United Arab Emirates    Abudhabi \n",
       "dtype: object"
      ]
     },
     "execution_count": 170,
     "metadata": {},
     "output_type": "execute_result"
    }
   ],
   "source": [
    "# YOUR CODE HERE\n",
    "pd.Series({\"Yemen\":\"Sana'a\",\"Saudi Arabia\":\"Ryadh\",\"Netherlands\":\"Amsterdam\",\"United Arab Emirates\":\"Abudhabi \"})"
   ]
  },
  {
   "attachments": {},
   "cell_type": "markdown",
   "metadata": {},
   "source": [
    "27. Create a random vector with 10 elements.\n",
    "- Convert the vector to series and with strings as indeces. For example, a,b,c,d,e,f,g..\n",
    "- Retrieve the 3rd element of the series using the index name (for example: c).\n",
    "- Retrieve the 1st element of the series using the index number.\n",
    "- Access the 2nd and 7th elements of the series at the same time, using the index name. (Example: values corresponding to index b and g)"
   ]
  },
  {
   "cell_type": "code",
   "execution_count": 176,
   "metadata": {},
   "outputs": [
    {
     "name": "stdout",
     "output_type": "stream",
     "text": [
      "A    0.103124\n",
      "B    0.902553\n",
      "C    0.505252\n",
      "D    0.826457\n",
      "E    0.320050\n",
      "F    0.895523\n",
      "G    0.389202\n",
      "H    0.010838\n",
      "I    0.905382\n",
      "J    0.091287\n",
      "dtype: float64\n",
      "0.10312386883593261\n",
      "0.10312386883593261\n",
      "B    0.902553\n",
      "G    0.389202\n",
      "dtype: float64\n"
     ]
    }
   ],
   "source": [
    "# YOUR CODE HERE\n",
    "ser = pd.Series(np.random.rand(10),index=[\"A\",\"B\",\"C\",\"D\",\"E\",\"F\",\"G\",\"H\",\"I\",\"J\"])\n",
    "print(ser)\n",
    "print(ser[0])\n",
    "print(ser[\"A\"])\n",
    "print(ser[[\"B\",\"G\"]])\n"
   ]
  },
  {
   "attachments": {},
   "cell_type": "markdown",
   "metadata": {},
   "source": [
    "28. Create two 5-element series with elements of your choice with default index.\n",
    "- Combine the series you have created.\n",
    "- Arrange the index of the resulting concatenated 10-element series from 1 to 10."
   ]
  },
  {
   "cell_type": "code",
   "execution_count": null,
   "metadata": {},
   "outputs": [],
   "source": [
    "# YOUR CODE HERE"
   ]
  },
  {
   "attachments": {},
   "cell_type": "markdown",
   "metadata": {},
   "source": [
    "**Bonus homework**:\n",
    "\n",
    "\n",
    "Generate two 20x20 matrices with values between 0 and 1 randomly in a loop and take the difference of these\n",
    "matrices. Repeat this process until all elements on the diagonal of the difference matrix\n",
    "is between -0.1 and 0.1. When the desired matrix is found, let the program stop\n",
    "and print the total number of cycles, how long it took, and the desired matrix\n",
    "with print.\n",
    "\n",
    "\n",
    "Tip: Finding the 20 x 20 matrix can take hours. Therefore, to test the accuracy\n",
    "of your algorithm, you can first try it on small matrices such as 4x4, 5x5. And\n",
    "you can try the latest 20x20 by increasing the number of matrix. (You can do\n",
    "the matrix generation with the np.random.random((a,b)) function. It generates\n",
    "an array of desired sizes between 0-1.)\n"
   ]
  },
  {
   "cell_type": "code",
   "execution_count": 8,
   "metadata": {},
   "outputs": [
    {
     "name": "stdout",
     "output_type": "stream",
     "text": [
      "[[0.80203982 0.30776679 0.96514057 0.22254882 0.96082357 0.88386248\n",
      "  0.70451455 0.81831221 0.14548417 0.8959089 ]\n",
      " [0.98036683 0.14353201 0.28529909 0.69382485 0.60194746 0.475862\n",
      "  0.31297111 0.97058358 0.17919567 0.15907398]\n",
      " [0.41137242 0.48203334 0.46616916 0.76720021 0.29136543 0.0795811\n",
      "  0.78117109 0.12738464 0.68651872 0.39496577]\n",
      " [0.54496983 0.37466624 0.0617913  0.53042882 0.40448796 0.76969605\n",
      "  0.20853571 0.51940513 0.91002657 0.00812047]\n",
      " [0.51407471 0.65924698 0.27077373 0.26043534 0.87028382 0.48404125\n",
      "  0.11449501 0.35794764 0.08981719 0.08823397]\n",
      " [0.38782498 0.68402206 0.11227034 0.50878429 0.48766131 0.12199372\n",
      "  0.95849971 0.98251215 0.55170378 0.59825786]\n",
      " [0.41522148 0.70202938 0.21248676 0.22896877 0.15433878 0.25010281\n",
      "  0.46566852 0.06914628 0.39681494 0.55999141]\n",
      " [0.41197287 0.69454831 0.32287117 0.96678505 0.83378521 0.7331555\n",
      "  0.70858667 0.12600876 0.34546425 0.00619238]\n",
      " [0.52984152 0.37588775 0.56028108 0.05727417 0.24793042 0.68294765\n",
      "  0.52578849 0.66889901 0.21294442 0.05397293]\n",
      " [0.82445666 0.76913988 0.62643065 0.48334431 0.65385235 0.49251463\n",
      "  0.76416145 0.69881082 0.13019246 0.31224236]]\n",
      "[[0.72172713 0.29042274 0.64270024 0.38845608 0.3129209  0.65477374\n",
      "  0.71715283 0.2777364  0.2432717  0.53544144]\n",
      " [0.4241309  0.21952347 0.56259197 0.88888657 0.57858518 0.72735638\n",
      "  0.61142464 0.66673123 0.33966524 0.19494811]\n",
      " [0.55280306 0.89255497 0.47260232 0.27342196 0.0339077  0.96913436\n",
      "  0.93195147 0.37059954 0.2995923  0.59400496]\n",
      " [0.17203848 0.64198514 0.03786261 0.59183775 0.57453254 0.41388092\n",
      "  0.29310621 0.60934775 0.08744375 0.39002541]\n",
      " [0.51377704 0.53389463 0.40633852 0.72062933 0.88069679 0.7699717\n",
      "  0.58540794 0.84959961 0.09337854 0.64184151]\n",
      " [0.37776693 0.66785879 0.03977042 0.70634943 0.44832173 0.06685455\n",
      "  0.37565078 0.37979734 0.00338834 0.05422313]\n",
      " [0.1749701  0.84853587 0.7494622  0.17769094 0.18820354 0.43967561\n",
      "  0.50601262 0.765384   0.29873345 0.03724428]\n",
      " [0.67970462 0.4620484  0.15482759 0.52098347 0.84076659 0.78468796\n",
      "  0.32573173 0.14698139 0.50888749 0.6979796 ]\n",
      " [0.47917136 0.1064288  0.9428681  0.23238226 0.10254983 0.96916175\n",
      "  0.65787511 0.52870638 0.13661541 0.6500279 ]\n",
      " [0.73110796 0.15028509 0.88760282 0.2838273  0.83642589 0.65564531\n",
      "  0.21397019 0.81672623 0.03382522 0.35373184]]\n",
      "<built-in method diagonal of numpy.ndarray object at 0x7ffab5e4cc90>\n",
      "Time taken:  3.69028902053833\n"
     ]
    }
   ],
   "source": [
    "# YOUR CODE HERE\n",
    "import numpy as np\n",
    "np.random.seed(42)\n",
    "import time\n",
    "\n",
    "size = 10\n",
    "\n",
    "# record how long the while loop takes\n",
    "start = time.time()\n",
    "\n",
    "while True:\n",
    "    # generate two random matrices of size 3x3\n",
    "    a = np.random.random((size, size))\n",
    "    b = np.random.random((size, size))\n",
    "\n",
    "    diff = np.abs(a - b)\n",
    "    # get diagonal of diff\n",
    "    if np.all(np.diag(diff) <= 0.1):\n",
    "        print(\"Found a match!\")\n",
    "        print(\"matrix 1:\")\n",
    "        print(a)\n",
    "        print(\"matrix 2:\")\n",
    "        print(b)\n",
    "        print(\"diagonal of diff:\")\n",
    "        print(np.diagonal(diff))\n",
    "        break\n",
    "\n",
    "# stop time\n",
    "end = time.time()\n",
    "print(\"Time taken: \", end - start)\n"
   ]
  }
 ],
 "metadata": {
  "kernelspec": {
   "display_name": "Python 3",
   "language": "python",
   "name": "python3"
  },
  "language_info": {
   "codemirror_mode": {
    "name": "ipython",
    "version": 3
   },
   "file_extension": ".py",
   "mimetype": "text/x-python",
   "name": "python",
   "nbconvert_exporter": "python",
   "pygments_lexer": "ipython3",
   "version": "3.11.1"
  },
  "orig_nbformat": 4,
  "vscode": {
   "interpreter": {
    "hash": "8a94588eda9d64d9e9a351ab8144e55b1fabf5113b54e67dd26a8c27df0381b3"
   }
  }
 },
 "nbformat": 4,
 "nbformat_minor": 2
}
