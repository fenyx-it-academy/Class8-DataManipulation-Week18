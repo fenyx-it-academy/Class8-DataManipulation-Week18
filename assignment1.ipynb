{
 "cells": [
  {
   "attachments": {},
   "cell_type": "markdown",
   "metadata": {},
   "source": [
    "## Data Manipulation module\n",
    "### Homework assignment 1\n",
    "\n",
    "Welcome to the first homework assignment of the data manipulation module. In this assignment you will be working with NumPy and Pandas Series. The goal of this assignment is to get you familiar with these libraries and data types.\n",
    "\n",
    "### Instructions\n",
    "Read the exercises carefully and implement the requested functionality. Add your code in the cells provided with `YOUR CODE HERE` or `YOUR ANSWER HERE`. You can add cells if you need to. **Make sure to use NumPy methods** to find your answers. In some cases you might be able to read the answer, but we want to see you using the NumPy methods.\n",
    "\n",
    "### Hand-in\n",
    "To hand in your assignment, fork this notebook and commit your changes, then make a pull request to the original repository. The deadline for handing in the assignment is **Wednesday 10-05 23:59**."
   ]
  },
  {
   "cell_type": "code",
   "execution_count": 1,
   "metadata": {},
   "outputs": [],
   "source": [
    "# imports, no need to edit\n",
    "\n",
    "import numpy as np\n",
    "import pandas as pd\n",
    "\n",
    "np.random.seed(42)"
   ]
  },
  {
   "attachments": {},
   "cell_type": "markdown",
   "metadata": {},
   "source": [
    "1. Explain the difference between a vector and matrix in NumPy in one sentence."
   ]
  },
  {
   "attachments": {},
   "cell_type": "markdown",
   "metadata": {},
   "source": [
    "A vector is a 1-dimensional array, but a matrix is a 2-dimensional array in NumPy"
   ]
  },
  {
   "attachments": {},
   "cell_type": "markdown",
   "metadata": {},
   "source": [
    "2. Construct a NumPy Array from a list of 10 elements."
   ]
  },
  {
   "cell_type": "code",
   "execution_count": 3,
   "metadata": {},
   "outputs": [
    {
     "data": {
      "text/plain": [
       "array([ 2,  7,  0,  3,  4,  2,  4,  5,  8, 10])"
      ]
     },
     "execution_count": 3,
     "metadata": {},
     "output_type": "execute_result"
    }
   ],
   "source": [
    "# YOUR CODE HERE\n",
    "lst = [2,7,0,3,4,2,4,5,8,10]\n",
    "arr = np.array(lst)\n",
    "arr"
   ]
  },
  {
   "attachments": {},
   "cell_type": "markdown",
   "metadata": {},
   "source": [
    "3. Construct a 10x10 matrix filled with '0's of the integer data type."
   ]
  },
  {
   "cell_type": "code",
   "execution_count": 5,
   "metadata": {},
   "outputs": [
    {
     "data": {
      "text/plain": [
       "array([[0, 0, 0, 0, 0, 0, 0, 0, 0, 0],\n",
       "       [0, 0, 0, 0, 0, 0, 0, 0, 0, 0],\n",
       "       [0, 0, 0, 0, 0, 0, 0, 0, 0, 0],\n",
       "       [0, 0, 0, 0, 0, 0, 0, 0, 0, 0],\n",
       "       [0, 0, 0, 0, 0, 0, 0, 0, 0, 0],\n",
       "       [0, 0, 0, 0, 0, 0, 0, 0, 0, 0],\n",
       "       [0, 0, 0, 0, 0, 0, 0, 0, 0, 0],\n",
       "       [0, 0, 0, 0, 0, 0, 0, 0, 0, 0],\n",
       "       [0, 0, 0, 0, 0, 0, 0, 0, 0, 0],\n",
       "       [0, 0, 0, 0, 0, 0, 0, 0, 0, 0]])"
      ]
     },
     "execution_count": 5,
     "metadata": {},
     "output_type": "execute_result"
    }
   ],
   "source": [
    "# YOUR CODE HERE\n",
    "arr = np.zeros((10,10), dtype=int )\n",
    "arr"
   ]
  },
  {
   "attachments": {},
   "cell_type": "markdown",
   "metadata": {},
   "source": [
    "4. Construct a 10x10 matrix filled with '1's, data type float."
   ]
  },
  {
   "cell_type": "code",
   "execution_count": 6,
   "metadata": {},
   "outputs": [
    {
     "data": {
      "text/plain": [
       "array([[1., 1., 1., 1., 1., 1., 1., 1., 1., 1.],\n",
       "       [1., 1., 1., 1., 1., 1., 1., 1., 1., 1.],\n",
       "       [1., 1., 1., 1., 1., 1., 1., 1., 1., 1.],\n",
       "       [1., 1., 1., 1., 1., 1., 1., 1., 1., 1.],\n",
       "       [1., 1., 1., 1., 1., 1., 1., 1., 1., 1.],\n",
       "       [1., 1., 1., 1., 1., 1., 1., 1., 1., 1.],\n",
       "       [1., 1., 1., 1., 1., 1., 1., 1., 1., 1.],\n",
       "       [1., 1., 1., 1., 1., 1., 1., 1., 1., 1.],\n",
       "       [1., 1., 1., 1., 1., 1., 1., 1., 1., 1.],\n",
       "       [1., 1., 1., 1., 1., 1., 1., 1., 1., 1.]])"
      ]
     },
     "execution_count": 6,
     "metadata": {},
     "output_type": "execute_result"
    }
   ],
   "source": [
    "# YOUR CODE HERE\n",
    "arr = np.ones((10,10), dtype=float )\n",
    "arr"
   ]
  },
  {
   "attachments": {},
   "cell_type": "markdown",
   "metadata": {},
   "source": [
    "5. Construct a 10x10 matrix filled with '9's of the integer data type."
   ]
  },
  {
   "cell_type": "code",
   "execution_count": 7,
   "metadata": {},
   "outputs": [
    {
     "data": {
      "text/plain": [
       "array([[9, 9, 9, 9, 9, 9, 9, 9, 9, 9],\n",
       "       [9, 9, 9, 9, 9, 9, 9, 9, 9, 9],\n",
       "       [9, 9, 9, 9, 9, 9, 9, 9, 9, 9],\n",
       "       [9, 9, 9, 9, 9, 9, 9, 9, 9, 9],\n",
       "       [9, 9, 9, 9, 9, 9, 9, 9, 9, 9],\n",
       "       [9, 9, 9, 9, 9, 9, 9, 9, 9, 9],\n",
       "       [9, 9, 9, 9, 9, 9, 9, 9, 9, 9],\n",
       "       [9, 9, 9, 9, 9, 9, 9, 9, 9, 9],\n",
       "       [9, 9, 9, 9, 9, 9, 9, 9, 9, 9],\n",
       "       [9, 9, 9, 9, 9, 9, 9, 9, 9, 9]])"
      ]
     },
     "execution_count": 7,
     "metadata": {},
     "output_type": "execute_result"
    }
   ],
   "source": [
    "# YOUR CODE HERE\n",
    "arr = np.full((10,10), 9, dtype=int)\n",
    "arr"
   ]
  },
  {
   "attachments": {},
   "cell_type": "markdown",
   "metadata": {},
   "source": [
    "6. Construct a one-dimensional array with values between 5 and 25 that jumps with steps of 3 (`[5, 8, ...]`)"
   ]
  },
  {
   "cell_type": "code",
   "execution_count": 8,
   "metadata": {},
   "outputs": [
    {
     "data": {
      "text/plain": [
       "array([ 5,  8, 11, 14, 17, 20, 23])"
      ]
     },
     "execution_count": 8,
     "metadata": {},
     "output_type": "execute_result"
    }
   ],
   "source": [
    "# YOUR CODE HERE\n",
    "arr = np.arange(5,25,3)\n",
    "arr"
   ]
  },
  {
   "attachments": {},
   "cell_type": "markdown",
   "metadata": {},
   "source": [
    "7. Create an array of size 30 with evenly spaced values between -1 and 1."
   ]
  },
  {
   "cell_type": "code",
   "execution_count": 13,
   "metadata": {},
   "outputs": [
    {
     "data": {
      "text/plain": [
       "array([-1.        , -0.93103448, -0.86206897, -0.79310345, -0.72413793,\n",
       "       -0.65517241, -0.5862069 , -0.51724138, -0.44827586, -0.37931034,\n",
       "       -0.31034483, -0.24137931, -0.17241379, -0.10344828, -0.03448276,\n",
       "        0.03448276,  0.10344828,  0.17241379,  0.24137931,  0.31034483,\n",
       "        0.37931034,  0.44827586,  0.51724138,  0.5862069 ,  0.65517241,\n",
       "        0.72413793,  0.79310345,  0.86206897,  0.93103448,  1.        ])"
      ]
     },
     "execution_count": 13,
     "metadata": {},
     "output_type": "execute_result"
    }
   ],
   "source": [
    "# YOUR CODE HERE\n",
    "arr = np.linspace(-1,1, num=30)\n",
    "arr"
   ]
  },
  {
   "attachments": {},
   "cell_type": "markdown",
   "metadata": {},
   "source": [
    "8. Construct a 5x6 matrix with integers from 0 to 30."
   ]
  },
  {
   "cell_type": "code",
   "execution_count": 16,
   "metadata": {},
   "outputs": [
    {
     "data": {
      "text/plain": [
       "array([[22, 20, 18, 15, 28, 18],\n",
       "       [ 3, 28, 27, 17,  1,  0],\n",
       "       [14,  4, 19, 10,  9,  1],\n",
       "       [ 2, 22, 22, 11, 19,  4],\n",
       "       [ 4,  5, 29,  8,  1, 20]])"
      ]
     },
     "execution_count": 16,
     "metadata": {},
     "output_type": "execute_result"
    }
   ],
   "source": [
    "# YOUR CODE HERE\n",
    "arr = np.random.randint(30, size=(5,6) )\n",
    "arr"
   ]
  },
  {
   "attachments": {},
   "cell_type": "markdown",
   "metadata": {},
   "source": [
    "9. Create an array of 30 random integers and sort it in ascending order."
   ]
  },
  {
   "cell_type": "code",
   "execution_count": 18,
   "metadata": {},
   "outputs": [
    {
     "data": {
      "text/plain": [
       "array([ 3,  8, 13, 17, 21, 23, 24, 25, 28, 29, 36, 39, 41, 57, 58, 65, 69,\n",
       "       72, 73, 74, 80, 80, 80, 84, 85, 86, 86, 95, 97, 98])"
      ]
     },
     "execution_count": 18,
     "metadata": {},
     "output_type": "execute_result"
    }
   ],
   "source": [
    "# YOUR CODE HERE\n",
    "arr = np.random.randint(100, size=30)\n",
    "np.sort(arr)"
   ]
  },
  {
   "attachments": {},
   "cell_type": "markdown",
   "metadata": {},
   "source": [
    "10. Construct a 5x10 matrix filled with the value 1 at each location. Print the following details about this matrix:\n",
    "- number of elements\n",
    "- shape of the matrix\n",
    "- the data type (using numpy methods)\n"
   ]
  },
  {
   "cell_type": "code",
   "execution_count": 27,
   "metadata": {},
   "outputs": [
    {
     "name": "stdout",
     "output_type": "stream",
     "text": [
      "[[1. 1. 1. 1. 1. 1. 1. 1. 1. 1.]\n",
      " [1. 1. 1. 1. 1. 1. 1. 1. 1. 1.]\n",
      " [1. 1. 1. 1. 1. 1. 1. 1. 1. 1.]\n",
      " [1. 1. 1. 1. 1. 1. 1. 1. 1. 1.]\n",
      " [1. 1. 1. 1. 1. 1. 1. 1. 1. 1.]]\n",
      "The size of the matrix is: 50\n",
      "The shape of the matrix is: (5, 10)\n",
      "The size of the type is: float64\n"
     ]
    }
   ],
   "source": [
    "# YOUR CODE HERE\n",
    "arr = np.ones((5,10))\n",
    "print(arr)\n",
    "print(f\"The size of the matrix is: {arr.size}\")\n",
    "print(f\"The shape of the matrix is: {arr.shape}\")\n",
    "print(f\"The size of the type is: {arr.dtype}\")"
   ]
  },
  {
   "attachments": {},
   "cell_type": "markdown",
   "metadata": {},
   "source": [
    "11. Construct a 3x4x7 matrix with random integer values between 0 and 10 (a 3D matrix will be created).\n"
   ]
  },
  {
   "cell_type": "code",
   "execution_count": 28,
   "metadata": {},
   "outputs": [
    {
     "data": {
      "text/plain": [
       "array([[[3, 8, 5, 1, 0, 4, 8],\n",
       "        [5, 9, 6, 4, 9, 5, 4],\n",
       "        [8, 5, 7, 1, 8, 4, 6],\n",
       "        [9, 0, 9, 4, 9, 1, 5]],\n",
       "\n",
       "       [[0, 2, 4, 3, 2, 9, 4],\n",
       "        [7, 3, 0, 6, 7, 2, 5],\n",
       "        [1, 6, 7, 5, 5, 4, 7],\n",
       "        [0, 9, 3, 3, 2, 2, 3]],\n",
       "\n",
       "       [[0, 1, 8, 9, 1, 4, 8],\n",
       "        [8, 7, 0, 0, 8, 7, 9],\n",
       "        [8, 6, 2, 2, 1, 4, 2],\n",
       "        [5, 1, 2, 4, 0, 0, 9]]])"
      ]
     },
     "execution_count": 28,
     "metadata": {},
     "output_type": "execute_result"
    }
   ],
   "source": [
    "# YOUR CODE HERE\n",
    "arr = np.random.randint(10, size=(3,4,7) )\n",
    "arr"
   ]
  },
  {
   "attachments": {},
   "cell_type": "markdown",
   "metadata": {},
   "source": [
    "12. Create an array of 20 random integers and reshape it into a 4x5 matrix."
   ]
  },
  {
   "cell_type": "code",
   "execution_count": 31,
   "metadata": {},
   "outputs": [
    {
     "name": "stdout",
     "output_type": "stream",
     "text": [
      "[71 58 86 92 81 94 93 38 98 17 58 16 13 30 23 98 59 44 97  2]\n",
      "the new matrix is :\n"
     ]
    },
    {
     "data": {
      "text/plain": [
       "array([[71, 58, 86, 92, 81],\n",
       "       [94, 93, 38, 98, 17],\n",
       "       [58, 16, 13, 30, 23],\n",
       "       [98, 59, 44, 97,  2]])"
      ]
     },
     "execution_count": 31,
     "metadata": {},
     "output_type": "execute_result"
    }
   ],
   "source": [
    "# YOUR CODE HERE\n",
    "arr = np.random.randint(100, size=20 )\n",
    "print (arr)\n",
    "print(\"the new matrix is :\")\n",
    "arr.reshape(4,5)"
   ]
  },
  {
   "attachments": {},
   "cell_type": "markdown",
   "metadata": {},
   "source": [
    "13. Construct a one-dimensional array by concetanating 4 separate one-dimensional arrays."
   ]
  },
  {
   "cell_type": "code",
   "execution_count": 41,
   "metadata": {},
   "outputs": [
    {
     "name": "stdout",
     "output_type": "stream",
     "text": [
      "array 1 is [28  8 66 24 97]\n",
      "array 2 is [75 41  8 78 39]\n",
      "array 3 is [24  4 10 58 97]\n",
      "array 4 is [87 78 37 71  4]\n",
      " all arrays in one: [28  8 66 24 97 75 41  8 78 39 24  4 10 58 97 87 78 37 71  4]\n"
     ]
    }
   ],
   "source": [
    "# YOUR CODE HERE\n",
    "arry_1= np.random.randint(100, size=(5) )\n",
    "arry_2= np.random.randint(100, size=(5) )\n",
    "arry_3= np.random.randint(100, size=(5) )\n",
    "arry_4= np.random.randint(100, size=(5) )\n",
    "arr= np.concatenate([arry_1,arry_2,arry_3,arry_4])\n",
    "print(f\"array 1 is {arry_1}\")\n",
    "print(f\"array 2 is {arry_2}\")\n",
    "print(f\"array 3 is {arry_3}\")\n",
    "print(f\"array 4 is {arry_4}\")\n",
    "print(f\" all arrays in one: {arr}\")"
   ]
  },
  {
   "attachments": {},
   "cell_type": "markdown",
   "metadata": {},
   "source": [
    "14. Create a vector of length 3 (3x1) and a matrix of size 3x3. Combine these two arrays on a\n",
    "    column-by-column basis using numpy methods.\n"
   ]
  },
  {
   "cell_type": "code",
   "execution_count": 54,
   "metadata": {},
   "outputs": [
    {
     "name": "stdout",
     "output_type": "stream",
     "text": [
      "First matrix :\n",
      " [[1]\n",
      " [2]\n",
      " [3]]\n",
      "Second matrix :\n",
      " [[5 0 9]\n",
      " [5 0 5]\n",
      " [9 7 1]]\n",
      "combined matrix :\n",
      " [[1 5 0 9]\n",
      " [2 5 0 5]\n",
      " [3 9 7 1]]\n"
     ]
    },
    {
     "data": {
      "text/plain": [
       "3"
      ]
     },
     "execution_count": 54,
     "metadata": {},
     "output_type": "execute_result"
    }
   ],
   "source": [
    "a = np.array([1, 2, 3]).reshape(-1, 1)\n",
    "b = np.random.randint(0, 10, (3, 3))\n",
    "print (f\"First matrix :\\n {a}\")\n",
    "print(f\"Second matrix :\\n {b}\")\n",
    "combined_arr = np.concatenate((a,b), axis=1)\n",
    "print(f\"combined matrix :\\n {combined_arr}\")\n",
    "np.argmax(combined_arr)\n"
   ]
  },
  {
   "cell_type": "code",
   "execution_count": 52,
   "metadata": {},
   "outputs": [
    {
     "data": {
      "text/plain": [
       "7"
      ]
     },
     "execution_count": 52,
     "metadata": {},
     "output_type": "execute_result"
    }
   ],
   "source": [
    "np.argmax(b)"
   ]
  },
  {
   "attachments": {},
   "cell_type": "markdown",
   "metadata": {},
   "source": [
    "15. What is the difference between \"axis=1\" and \"axis=0\" in Numpy functions? "
   ]
  },
  {
   "attachments": {},
   "cell_type": "markdown",
   "metadata": {},
   "source": [
    "\"axis =0\" specifies that the operation should be performed along the rows.\n",
    "\"axis =1\" specifies that the operation should be performed along the columns.\n"
   ]
  },
  {
   "attachments": {},
   "cell_type": "markdown",
   "metadata": {},
   "source": [
    "16. Create a random 1D vector with 20 elements. Find the 3rd, 5th and 7th elements of this vector.\n"
   ]
  },
  {
   "cell_type": "code",
   "execution_count": 55,
   "metadata": {},
   "outputs": [
    {
     "name": "stdout",
     "output_type": "stream",
     "text": [
      "[49 13 63 46 28 75 35 98 51 75  6 28 10 32  5 78 31 50 74 57]\n",
      "63 28 35\n"
     ]
    }
   ],
   "source": [
    "# YOUR CODE HERE\n",
    "arr = np.random.randint(100, size=20)\n",
    "print(arr)\n",
    "print(arr[2], arr[4],arr[6])"
   ]
  },
  {
   "attachments": {},
   "cell_type": "markdown",
   "metadata": {},
   "source": [
    "17. Create a random vector with 10 elements and replace the 4th element of this array with a different number."
   ]
  },
  {
   "cell_type": "code",
   "execution_count": 56,
   "metadata": {},
   "outputs": [
    {
     "name": "stdout",
     "output_type": "stream",
     "text": [
      "[86 25 97 45 97 28  3 80 98 12]\n",
      "[86 25 97 24 97 28  3 80 98 12]\n"
     ]
    }
   ],
   "source": [
    "# YOUR CODE HERE\n",
    "arr = np.random.randint(100, size=10)\n",
    "print(arr)\n",
    "arr[3]=24\n",
    "print (arr)"
   ]
  },
  {
   "attachments": {},
   "cell_type": "markdown",
   "metadata": {},
   "source": [
    "18. Look up the concepts of *diagonal matrix* and *trace matrix* online and write a small explanation about what they are.\n"
   ]
  },
  {
   "attachments": {},
   "cell_type": "markdown",
   "metadata": {},
   "source": [
    "A diagonal matrix is a special type of matrix where all the non-diagonal elements are zero.It has non-zero elements only on its main diagonal.\n",
    "example: a 3x3 matrix,\n",
    "\n",
    "2    0    0\n",
    "\n",
    "0    1    0\n",
    "\n",
    "0    0    8\n",
    "\n",
    "A trace of a matrix is the sum of the elements on the main diagonal of the matrix. it is a useful quantity in the linear algebra.it is also equal to the sum of the eigenvalues of a matrix, which is another important concept in linear algebra.\n",
    "example: the trace of the above matrix is : 2+1+8 = 11 \n"
   ]
  },
  {
   "attachments": {},
   "cell_type": "markdown",
   "metadata": {},
   "source": [
    "19. Create a 5x5 diagonal matrix with elements of your choosing. What are the indexes of the diagonal?\n"
   ]
  },
  {
   "cell_type": "code",
   "execution_count": 58,
   "metadata": {},
   "outputs": [
    {
     "name": "stdout",
     "output_type": "stream",
     "text": [
      "[[ 3  0  0  0  0]\n",
      " [ 0  8  0  0  0]\n",
      " [ 0  0  9  0  0]\n",
      " [ 0  0  0 10  0]\n",
      " [ 0  0  0  0 -3]]\n"
     ]
    },
    {
     "data": {
      "text/plain": [
       "(array([0, 1, 2, 3, 4]), array([0, 1, 2, 3, 4]))"
      ]
     },
     "execution_count": 58,
     "metadata": {},
     "output_type": "execute_result"
    }
   ],
   "source": [
    "# YOUR CODE HERE\n",
    "matrixs = np.diag([3,8,9,10,-3])\n",
    "print (matrixs)\n",
    "np.diag_indices_from(matrixs)"
   ]
  },
  {
   "attachments": {},
   "cell_type": "markdown",
   "metadata": {},
   "source": [
    "20. Create a vector that ranges from 10 to 20. Print the values from the 3rd index to the last index.\n"
   ]
  },
  {
   "cell_type": "code",
   "execution_count": 60,
   "metadata": {},
   "outputs": [
    {
     "data": {
      "text/plain": [
       "array([13, 14, 15, 16, 17, 18, 19])"
      ]
     },
     "execution_count": 60,
     "metadata": {},
     "output_type": "execute_result"
    }
   ],
   "source": [
    "# YOUR CODE HERE\n",
    "arr = np.arange(10,20)\n",
    "arr[3:]"
   ]
  },
  {
   "attachments": {},
   "cell_type": "markdown",
   "metadata": {},
   "source": [
    "21. Construct a 10x10 matrix with random elements and perform the following indexing tasks on it. Each task should be a single indexing operation.\n",
    " - Retrieve column 5 of row 3. Moreover;\n",
    " - Retrieve all elements of column 5.\n",
    " - Retrieve the 2nd row of all columns.\n",
    " - Retrieve row 2 through 7 of all columns.\n",
    " - Retrieve values with row index 2 to 5 and column index 3 to 7.\n",
    " - Retrieve the values from row index 5 to the end and column index from the top to 4.\n",
    " - Replace the value corresponding to the 5th row and the 5th column with your year of birth."
   ]
  },
  {
   "cell_type": "code",
   "execution_count": 72,
   "metadata": {},
   "outputs": [
    {
     "name": "stdout",
     "output_type": "stream",
     "text": [
      "[[51 92 14 71 60 20 82 86 74 74]\n",
      " [87 99 23  2 21 52  1 87 29 37]\n",
      " [ 1 63 59 20 32 75 57 21 88 48]\n",
      " [90 58 41 91 59 79 14 61 61 46]\n",
      " [61 50 54 63  2 50  6 20 72 38]\n",
      " [17  3 88 59 13  8 89 52  1 83]\n",
      " [91 59 70 43  7 46 34 77 80 35]\n",
      " [49  3  1  5 53  3 53 92 62 17]\n",
      " [89 43 33 73 61 99 13 94 47 14]\n",
      " [71 77 86 61 39 84 79 81 52 23]]\n",
      "column 5 of row 3:\n",
      " 32\n",
      "all elements of column 5:\n",
      "  [60 21 32 59  2 13  7 53 61 39]\n",
      "2nd row of all columns: \n",
      " [87 99 23  2 21 52  1 87 29 37]\n",
      "row 2 through 7 of all columns: \n",
      " [[87 99 23  2 21 52  1 87 29 37]\n",
      " [ 1 63 59 20 32 75 57 21 88 48]\n",
      " [90 58 41 91 59 79 14 61 61 46]\n",
      " [61 50 54 63  2 50  6 20 72 38]\n",
      " [17  3 88 59 13  8 89 52  1 83]\n",
      " [91 59 70 43  7 46 34 77 80 35]]\n",
      "values with row index 2 to 5 and column index 3 to 7: \n",
      " [[20 32 75 57]\n",
      " [91 59 79 14]\n",
      " [63  2 50  6]]\n",
      "values from row index 5 to end and column index from top to 4: \n",
      " [[17  3 88 59 13]\n",
      " [91 59 70 43  7]\n",
      " [49  3  1  5 53]\n",
      " [89 43 33 73 61]\n",
      " [71 77 86 61 39]]\n",
      "replaced 5th row and 5th column with year of birth: \n",
      " [[51 92 14 71 60 20 82 86 74 74]\n",
      " [87 99 23  2 21 52  1 87 29 37]\n",
      " [ 1 63 59 20 32 75 57 21 88 48]\n",
      " [90 58 41 91 59 79 14 61 61 46]\n",
      " [61 50 54 63 87 50  6 20 72 38]\n",
      " [17  3 88 59 13  8 89 52  1 83]\n",
      " [91 59 70 43  7 46 34 77 80 35]\n",
      " [49  3  1  5 53  3 53 92 62 17]\n",
      " [89 43 33 73 61 99 13 94 47 14]\n",
      " [71 77 86 61 39 84 79 81 52 23]]\n"
     ]
    }
   ],
   "source": [
    "# YOUR CODE HERE\n",
    "# note: the name for rows and columns is 1 to 10, but the indexes are 0 to 9\n",
    "np.random.seed(42)\n",
    "arr = np.random.randint(100, size=(10,10))\n",
    "print(arr)\n",
    "print(\"column 5 of row 3:\\n\",arr[2,4])\n",
    "print(\"all elements of column 5:\\n \",arr[:,4])\n",
    "print(\"2nd row of all columns: \\n\",arr[1,:])\n",
    "print(\"row 2 through 7 of all columns: \\n\",arr[1:7,:])\n",
    "print(\"values with row index 2 to 5 and column index 3 to 7: \\n\", arr[2:5,3:7])\n",
    "#assuming index 4 is inclusive.\n",
    "print(\"values from row index 5 to end and column index from top to 4: \\n\", arr[5:,:5]) \n",
    "arr[4,4] = 87\n",
    "print(\"replaced 5th row and 5th column with year of birth: \\n\", arr)\n"
   ]
  },
  {
   "attachments": {},
   "cell_type": "markdown",
   "metadata": {},
   "source": [
    "22. Construct a one-dimensional array from 0 to 50 jumping with steps of 5 (`[5, 10, ...]`). Use the numpy methods to perform the following tasks;\n",
    "- Print all values greater than 20.\n",
    "- Print all values less than 30.\n",
    "- How many values are 33 in it?\n",
    "- Multiply all the elements of the created array by 5."
   ]
  },
  {
   "cell_type": "code",
   "execution_count": 81,
   "metadata": {},
   "outputs": [
    {
     "name": "stdout",
     "output_type": "stream",
     "text": [
      "[ 0  5 10 15 20 25 30 35 40 45 50]\n",
      "all values greater than 20 \n",
      " [25 30 35 40 45 50]\n",
      "all values less than 30 \n",
      " [ 0  5 10 15 20 25]\n",
      "there are 0  33's in the array\n",
      "the whole array mul by 5: \n",
      " [  0  25  50  75 100 125 150 175 200 225 250]\n"
     ]
    }
   ],
   "source": [
    "# YOUR CODE HERE\n",
    "# assuming 50 is included\n",
    "arr = np.arange(0,51,5)\n",
    "print(arr)\n",
    "index = arr > 20\n",
    "print(\"all values greater than 20 \\n\",arr[index])\n",
    "index = arr < 30\n",
    "print(\"all values less than 30 \\n\",arr[index])\n",
    "count = np.count_nonzero(arr == 33)\n",
    "print (f\"there are {count}  33's in the array\")\n",
    "print (\"the whole array mul by 5: \\n\",np.multiply(arr,5))"
   ]
  },
  {
   "attachments": {},
   "cell_type": "markdown",
   "metadata": {},
   "source": [
    "23. Construct an array of 50 random floats between 0 and 1 and take the average. Moreover;\n",
    "- Get the standard deviation.\n",
    "- Get the variance.\n",
    "- Take the median.\n",
    "- Find the smallest value.\n",
    "- Find the largest value."
   ]
  },
  {
   "cell_type": "code",
   "execution_count": 84,
   "metadata": {},
   "outputs": [
    {
     "name": "stdout",
     "output_type": "stream",
     "text": [
      "[0.37454012 0.95071431 0.73199394 0.59865848 0.15601864 0.15599452\n",
      " 0.05808361 0.86617615 0.60111501 0.70807258 0.02058449 0.96990985\n",
      " 0.83244264 0.21233911 0.18182497 0.18340451 0.30424224 0.52475643\n",
      " 0.43194502 0.29122914 0.61185289 0.13949386 0.29214465 0.36636184\n",
      " 0.45606998 0.78517596 0.19967378 0.51423444 0.59241457 0.04645041\n",
      " 0.60754485 0.17052412 0.06505159 0.94888554 0.96563203 0.80839735\n",
      " 0.30461377 0.09767211 0.68423303 0.44015249 0.12203823 0.49517691\n",
      " 0.03438852 0.9093204  0.25877998 0.66252228 0.31171108 0.52006802\n",
      " 0.54671028 0.18485446]\n",
      "the Average of the array is:\n",
      " 0.44592390439226115\n",
      "the Standard deviation of the array is:\n",
      " 0.2859797785370301\n",
      "the Variance of the array is:\n",
      " 0.08178443373208878\n",
      "the Median of the array is:\n",
      " 0.43604875619085853\n",
      "the smallest value of the array is:\n",
      " 0.020584494295802447\n",
      "the largest of the array is:\n",
      " 0.9699098521619943\n"
     ]
    }
   ],
   "source": [
    "# YOUR CODE HERE\n",
    "np.random.seed(42)\n",
    "arr = np.random.rand(50)\n",
    "print(arr)\n",
    "print(\"the Average of the array is:\\n\",np.average(arr))\n",
    "print(\"the Standard deviation of the array is:\\n\",np.std(arr))\n",
    "print(\"the Variance of the array is:\\n\",np.var(arr))\n",
    "print(\"the Median of the array is:\\n\",np.median(arr))\n",
    "print(\"the smallest value of the array is:\\n\",np.min(arr))\n",
    "print(\"the largest of the array is:\\n\",np.max(arr))"
   ]
  },
  {
   "attachments": {},
   "cell_type": "markdown",
   "metadata": {},
   "source": [
    "24. What are the differences between Pandas Series and NumPy arrays?"
   ]
  },
  {
   "attachments": {},
   "cell_type": "markdown",
   "metadata": {},
   "source": [
    "- Indexing: NumPy arrays are indexed by integers, while Pandas Series can be indexed by either integers or labels.\n",
    "- Data Types: NumPy arrays can only contain a single data type (e.g., all elements in the array must be integers or floats), while Pandas Series can contain a variety of data types (e.g., integers, floats, strings, etc.).\n",
    "- Missing Data: NumPy arrays do not have built-in support for missing or null values, while Pandas Series do. Pandas Series can represent missing values using the special value 'NaN' (Not a Number), which can be helpful when working with real-world data that may have missing or incomplete information.\n",
    "- Operations: NumPy arrays are optimized for mathematical operations, while Pandas Series are optimized for data manipulation and analysis. "
   ]
  },
  {
   "attachments": {},
   "cell_type": "markdown",
   "metadata": {},
   "source": [
    "25. Create a 5-element series with different data types, with an index of capital letters."
   ]
  },
  {
   "cell_type": "code",
   "execution_count": 85,
   "metadata": {},
   "outputs": [
    {
     "data": {
      "text/plain": [
       "I        4\n",
       "F      5.6\n",
       "S    hello\n",
       "B     True\n",
       "N     None\n",
       "dtype: object"
      ]
     },
     "execution_count": 85,
     "metadata": {},
     "output_type": "execute_result"
    }
   ],
   "source": [
    "# YOUR CODE HERE\n",
    "a = [4,5.6,'hello',True,None]\n",
    "sr = pd.Series(a,index=[\"I\",\"F\",\"S\",\"B\",\"N\"])\n",
    "sr"
   ]
  },
  {
   "attachments": {},
   "cell_type": "markdown",
   "metadata": {},
   "source": [
    "26. Create a 5-element dictionary with keys as country names and values as capitals and turn it into a series. An example: ` \"france\" : \"paris\"`)."
   ]
  },
  {
   "cell_type": "code",
   "execution_count": 89,
   "metadata": {},
   "outputs": [
    {
     "name": "stdout",
     "output_type": "stream",
     "text": [
      "Amsterdam    Netherlands\n",
      "Brussels         Belgium\n",
      "Paris             France\n",
      "Oslo              Norway\n",
      "Mekelle           Tigray\n",
      "dtype: object\n"
     ]
    }
   ],
   "source": [
    "# YOUR CODE HERE\n",
    "country_cap = {\"Netherlands\":\"Amsterdam\",\n",
    "               \"Belgium\":\"Brussels\",\n",
    "               \"France\":\"Paris\",\n",
    "               \"Norway\":\"Oslo\",\n",
    "               \"Tigray\":\"Mekelle\"}\n",
    "sr=pd.Series(country_cap.keys(), index=country_cap.values())\n",
    "print(sr)"
   ]
  },
  {
   "attachments": {},
   "cell_type": "markdown",
   "metadata": {},
   "source": [
    "27. Create a random vector with 10 elements.\n",
    "- Convert the vector to series and with strings as indeces. For example, a,b,c,d,e,f,g..\n",
    "- Retrieve the 3rd element of the series using the index name (for example: c).\n",
    "- Retrieve the 1st element of the series using the index number.\n",
    "- Access the 2nd and 7th elements of the series at the same time, using the index name. (Example: values corresponding to index b and g)"
   ]
  },
  {
   "cell_type": "code",
   "execution_count": 100,
   "metadata": {},
   "outputs": [
    {
     "name": "stdout",
     "output_type": "stream",
     "text": [
      "[51 92 14 71 60 20 82 86 74 74]\n",
      "a    51\n",
      "b    92\n",
      "c    14\n",
      "d    71\n",
      "e    60\n",
      "f    20\n",
      "g    82\n",
      "h    86\n",
      "i    74\n",
      "j    74\n",
      "dtype: int32\n",
      "the 3rd element of the series:\n",
      " 14\n",
      "the 1st element of the series:\n",
      " 51\n",
      "access the 2nd and 7th element at the same time:\n",
      " b    92\n",
      "g    82\n",
      "dtype: int32\n"
     ]
    }
   ],
   "source": [
    "# YOUR CODE HERE\n",
    "np.random.seed(42)\n",
    "arr = np.random.randint(100, size=10)\n",
    "print(arr)\n",
    "sr=pd.Series(arr, index=[\"a\",\"b\",\"c\",\"d\",\"e\",\"f\",\"g\",\"h\",\"i\",\"j\"])\n",
    "print(sr)\n",
    "print(\"the 3rd element of the series:\\n\",sr[\"c\"])\n",
    "print(\"the 1st element of the series:\\n\",sr[0])\n",
    "print(\"access the 2nd and 7th element at the same time:\\n\",sr[[\"b\",\"g\"]])\n"
   ]
  },
  {
   "attachments": {},
   "cell_type": "markdown",
   "metadata": {},
   "source": [
    "28. Create two 5-element series with elements of your choice with default index.\n",
    "- Combine the series you have created.\n",
    "- Arrange the index of the resulting concatenated 10-element series from 1 to 10."
   ]
  },
  {
   "cell_type": "code",
   "execution_count": 111,
   "metadata": {},
   "outputs": [
    {
     "name": "stdout",
     "output_type": "stream",
     "text": [
      "combined series:\n",
      " A       3\n",
      "B      hi\n",
      "C       4\n",
      "D       9\n",
      "E       0\n",
      "F       1\n",
      "G    True\n",
      "H       8\n",
      "I       6\n",
      "J      10\n",
      "dtype: object\n",
      "arranged index series:\n",
      " 1        3\n",
      "2       hi\n",
      "3        4\n",
      "4        9\n",
      "5        0\n",
      "6        1\n",
      "7     True\n",
      "8        8\n",
      "9        6\n",
      "10      10\n",
      "dtype: object\n"
     ]
    }
   ],
   "source": [
    "# YOUR CODE HERE\n",
    "a =[3,\"hi\",4,9,0]\n",
    "b =[1,True,8,6,10]\n",
    "sr1 = pd.Series(a, index =[\"A\",\"B\",\"C\",\"D\",\"E\"])\n",
    "sr2 = pd.Series(b, index =[\"F\",\"G\",\"H\",\"I\",\"J\"])\n",
    "sr = pd.concat([sr1,sr2])\n",
    "print(\"combined series:\\n\", sr)\n",
    "sr.index = range(1,11)\n",
    "print(\"arranged index series:\\n\", sr)\n"
   ]
  },
  {
   "attachments": {},
   "cell_type": "markdown",
   "metadata": {},
   "source": [
    "**Bonus homework**:\n",
    "\n",
    "\n",
    "Generate two 20x20 matrices with values between 0 and 1 randomly in a loop and take the difference of these\n",
    "matrices. Repeat this process until all elements on the diagonal of the difference matrix\n",
    "is between -0.1 and 0.1. When the desired matrix is found, let the program stop\n",
    "and print the total number of cycles, how long it took, and the desired matrix\n",
    "with print.\n",
    "\n",
    "\n",
    "Tip: Finding the 20 x 20 matrix can take hours. Therefore, to test the accuracy\n",
    "of your algorithm, you can first try it on small matrices such as 4x4, 5x5. And\n",
    "you can try the latest 20x20 by increasing the number of matrix. (You can do\n",
    "the matrix generation with the np.random.random((a,b)) function. It generates\n",
    "an array of desired sizes between 0-1.)\n"
   ]
  },
  {
   "cell_type": "code",
   "execution_count": 122,
   "metadata": {},
   "outputs": [
    {
     "name": "stdout",
     "output_type": "stream",
     "text": [
      "Found a match!\n",
      "matrix 1:\n",
      "[[0.80203982 0.30776679 0.96514057 0.22254882 0.96082357 0.88386248\n",
      "  0.70451455 0.81831221 0.14548417 0.8959089 ]\n",
      " [0.98036683 0.14353201 0.28529909 0.69382485 0.60194746 0.475862\n",
      "  0.31297111 0.97058358 0.17919567 0.15907398]\n",
      " [0.41137242 0.48203334 0.46616916 0.76720021 0.29136543 0.0795811\n",
      "  0.78117109 0.12738464 0.68651872 0.39496577]\n",
      " [0.54496983 0.37466624 0.0617913  0.53042882 0.40448796 0.76969605\n",
      "  0.20853571 0.51940513 0.91002657 0.00812047]\n",
      " [0.51407471 0.65924698 0.27077373 0.26043534 0.87028382 0.48404125\n",
      "  0.11449501 0.35794764 0.08981719 0.08823397]\n",
      " [0.38782498 0.68402206 0.11227034 0.50878429 0.48766131 0.12199372\n",
      "  0.95849971 0.98251215 0.55170378 0.59825786]\n",
      " [0.41522148 0.70202938 0.21248676 0.22896877 0.15433878 0.25010281\n",
      "  0.46566852 0.06914628 0.39681494 0.55999141]\n",
      " [0.41197287 0.69454831 0.32287117 0.96678505 0.83378521 0.7331555\n",
      "  0.70858667 0.12600876 0.34546425 0.00619238]\n",
      " [0.52984152 0.37588775 0.56028108 0.05727417 0.24793042 0.68294765\n",
      "  0.52578849 0.66889901 0.21294442 0.05397293]\n",
      " [0.82445666 0.76913988 0.62643065 0.48334431 0.65385235 0.49251463\n",
      "  0.76416145 0.69881082 0.13019246 0.31224236]]\n",
      "matrix 2:\n",
      "[[0.72172713 0.29042274 0.64270024 0.38845608 0.3129209  0.65477374\n",
      "  0.71715283 0.2777364  0.2432717  0.53544144]\n",
      " [0.4241309  0.21952347 0.56259197 0.88888657 0.57858518 0.72735638\n",
      "  0.61142464 0.66673123 0.33966524 0.19494811]\n",
      " [0.55280306 0.89255497 0.47260232 0.27342196 0.0339077  0.96913436\n",
      "  0.93195147 0.37059954 0.2995923  0.59400496]\n",
      " [0.17203848 0.64198514 0.03786261 0.59183775 0.57453254 0.41388092\n",
      "  0.29310621 0.60934775 0.08744375 0.39002541]\n",
      " [0.51377704 0.53389463 0.40633852 0.72062933 0.88069679 0.7699717\n",
      "  0.58540794 0.84959961 0.09337854 0.64184151]\n",
      " [0.37776693 0.66785879 0.03977042 0.70634943 0.44832173 0.06685455\n",
      "  0.37565078 0.37979734 0.00338834 0.05422313]\n",
      " [0.1749701  0.84853587 0.7494622  0.17769094 0.18820354 0.43967561\n",
      "  0.50601262 0.765384   0.29873345 0.03724428]\n",
      " [0.67970462 0.4620484  0.15482759 0.52098347 0.84076659 0.78468796\n",
      "  0.32573173 0.14698139 0.50888749 0.6979796 ]\n",
      " [0.47917136 0.1064288  0.9428681  0.23238226 0.10254983 0.96916175\n",
      "  0.65787511 0.52870638 0.13661541 0.6500279 ]\n",
      " [0.73110796 0.15028509 0.88760282 0.2838273  0.83642589 0.65564531\n",
      "  0.21397019 0.81672623 0.03382522 0.35373184]]\n",
      "diagonal of diff:\n",
      "[0.08031268 0.07599146 0.00643316 0.06140893 0.01041298 0.05513918\n",
      " 0.0403441  0.02097263 0.076329   0.04148948]\n",
      "Time taken: 9.758139848709106 secs\n",
      "number of cycles:  312021\n"
     ]
    }
   ],
   "source": [
    "# YOUR CODE HERE\n",
    "import numpy as np\n",
    "np.random.seed(42)\n",
    "import time\n",
    "\n",
    "size = 10\n",
    "\n",
    "# record how long the while loop takes\n",
    "start = time.time()\n",
    "number_cycle = 0\n",
    "while True:\n",
    "    # generate two random matrices of size 3x3\n",
    "    a = np.random.random((size, size))\n",
    "    b = np.random.random((size, size))\n",
    "    number_cycle+=1\n",
    "    diff = np.abs(a - b)\n",
    "    # get diagonal of diff\n",
    "    if np.all(np.diag(diff) <= 0.1):\n",
    "        print(\"Found a match!\")\n",
    "        print(\"matrix 1:\")\n",
    "        print(a)\n",
    "        print(\"matrix 2:\")\n",
    "        print(b)\n",
    "        print(\"diagonal of diff:\")\n",
    "        print(np.diagonal(diff))\n",
    "        break\n",
    "\n",
    "# stop time\n",
    "end = time.time()\n",
    "print(f\"Time taken: {end - start} secs\")\n",
    "print(\"number of cycles: \", number_cycle)\n"
   ]
  }
 ],
 "metadata": {
  "kernelspec": {
   "display_name": "Python 3",
   "language": "python",
   "name": "python3"
  },
  "language_info": {
   "codemirror_mode": {
    "name": "ipython",
    "version": 3
   },
   "file_extension": ".py",
   "mimetype": "text/x-python",
   "name": "python",
   "nbconvert_exporter": "python",
   "pygments_lexer": "ipython3",
   "version": "3.10.8"
  },
  "orig_nbformat": 4,
  "vscode": {
   "interpreter": {
    "hash": "8a94588eda9d64d9e9a351ab8144e55b1fabf5113b54e67dd26a8c27df0381b3"
   }
  }
 },
 "nbformat": 4,
 "nbformat_minor": 2
}
