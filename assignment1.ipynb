{
 "cells": [
  {
   "attachments": {},
   "cell_type": "markdown",
   "metadata": {},
   "source": [
    "## Data Manipulation module\n",
    "### Homework assignment 1\n",
    "\n",
    "Welcome to the first homework assignment of the data manipulation module. In this assignment you will be working with NumPy and Pandas Series. The goal of this assignment is to get you familiar with these libraries and data types.\n",
    "\n",
    "### Instructions\n",
    "Read the exercises carefully and implement the requested functionality. Add your code in the cells provided with `YOUR CODE HERE` or `YOUR ANSWER HERE`. You can add cells if you need to. **Make sure to use NumPy methods** to find your answers. In some cases you might be able to read the answer, but we want to see you using the NumPy methods.\n",
    "\n",
    "### Hand-in\n",
    "To hand in your assignment, fork this notebook and commit your changes, then make a pull request to the original repository. The deadline for handing in the assignment is **Wednesday 10-05 23:59**."
   ]
  },
  {
   "cell_type": "code",
   "execution_count": 4,
   "metadata": {},
   "outputs": [],
   "source": [
    "# imports, no need to edit\n",
    "\n",
    "import numpy as np\n",
    "import pandas as pd\n",
    "\n",
    "np.random.seed(42)"
   ]
  },
  {
   "attachments": {},
   "cell_type": "markdown",
   "metadata": {},
   "source": [
    "1. Explain the difference between a vector and matrix in NumPy in one sentence."
   ]
  },
  {
   "attachments": {},
   "cell_type": "markdown",
   "metadata": {},
   "source": [
    "Vector always is one-dimentional, and matrix has more then 2 dimentions."
   ]
  },
  {
   "attachments": {},
   "cell_type": "markdown",
   "metadata": {},
   "source": [
    "2. Construct a NumPy Array from a list of 10 elements."
   ]
  },
  {
   "cell_type": "code",
   "execution_count": 39,
   "metadata": {},
   "outputs": [
    {
     "data": {
      "text/plain": [
       "array([ 5,  6,  7,  3,  4,  8,  7,  6,  1, 67])"
      ]
     },
     "execution_count": 39,
     "metadata": {},
     "output_type": "execute_result"
    }
   ],
   "source": [
    "np.array([5, 6, 7, 3, 4, 8, 7, 6, 1, 67])"
   ]
  },
  {
   "attachments": {},
   "cell_type": "markdown",
   "metadata": {},
   "source": [
    "3. Construct a 10x10 matrix filled with '0's of the integer data type."
   ]
  },
  {
   "cell_type": "code",
   "execution_count": 8,
   "metadata": {},
   "outputs": [
    {
     "data": {
      "text/plain": [
       "array([[0, 0, 0, 0, 0, 0, 0, 0, 0, 0],\n",
       "       [0, 0, 0, 0, 0, 0, 0, 0, 0, 0],\n",
       "       [0, 0, 0, 0, 0, 0, 0, 0, 0, 0],\n",
       "       [0, 0, 0, 0, 0, 0, 0, 0, 0, 0],\n",
       "       [0, 0, 0, 0, 0, 0, 0, 0, 0, 0],\n",
       "       [0, 0, 0, 0, 0, 0, 0, 0, 0, 0],\n",
       "       [0, 0, 0, 0, 0, 0, 0, 0, 0, 0],\n",
       "       [0, 0, 0, 0, 0, 0, 0, 0, 0, 0],\n",
       "       [0, 0, 0, 0, 0, 0, 0, 0, 0, 0],\n",
       "       [0, 0, 0, 0, 0, 0, 0, 0, 0, 0]], dtype=int32)"
      ]
     },
     "execution_count": 8,
     "metadata": {},
     "output_type": "execute_result"
    }
   ],
   "source": [
    "np.zeros((10,10)).astype('int32')"
   ]
  },
  {
   "attachments": {},
   "cell_type": "markdown",
   "metadata": {},
   "source": [
    "4. Construct a 10x10 matrix filled with '1's, data type float."
   ]
  },
  {
   "cell_type": "code",
   "execution_count": 9,
   "metadata": {},
   "outputs": [
    {
     "data": {
      "text/plain": [
       "array([[1., 1., 1., 1., 1., 1., 1., 1., 1., 1.],\n",
       "       [1., 1., 1., 1., 1., 1., 1., 1., 1., 1.],\n",
       "       [1., 1., 1., 1., 1., 1., 1., 1., 1., 1.],\n",
       "       [1., 1., 1., 1., 1., 1., 1., 1., 1., 1.],\n",
       "       [1., 1., 1., 1., 1., 1., 1., 1., 1., 1.],\n",
       "       [1., 1., 1., 1., 1., 1., 1., 1., 1., 1.],\n",
       "       [1., 1., 1., 1., 1., 1., 1., 1., 1., 1.],\n",
       "       [1., 1., 1., 1., 1., 1., 1., 1., 1., 1.],\n",
       "       [1., 1., 1., 1., 1., 1., 1., 1., 1., 1.],\n",
       "       [1., 1., 1., 1., 1., 1., 1., 1., 1., 1.]])"
      ]
     },
     "execution_count": 9,
     "metadata": {},
     "output_type": "execute_result"
    }
   ],
   "source": [
    "np.ones((10,10), 'float')"
   ]
  },
  {
   "attachments": {},
   "cell_type": "markdown",
   "metadata": {},
   "source": [
    "5. Construct a 10x10 matrix filled with '9's of the integer data type."
   ]
  },
  {
   "cell_type": "code",
   "execution_count": 13,
   "metadata": {},
   "outputs": [
    {
     "data": {
      "text/plain": [
       "array([[9, 9, 9, 9, 9, 9, 9, 9, 9, 9],\n",
       "       [9, 9, 9, 9, 9, 9, 9, 9, 9, 9],\n",
       "       [9, 9, 9, 9, 9, 9, 9, 9, 9, 9],\n",
       "       [9, 9, 9, 9, 9, 9, 9, 9, 9, 9],\n",
       "       [9, 9, 9, 9, 9, 9, 9, 9, 9, 9],\n",
       "       [9, 9, 9, 9, 9, 9, 9, 9, 9, 9],\n",
       "       [9, 9, 9, 9, 9, 9, 9, 9, 9, 9],\n",
       "       [9, 9, 9, 9, 9, 9, 9, 9, 9, 9],\n",
       "       [9, 9, 9, 9, 9, 9, 9, 9, 9, 9],\n",
       "       [9, 9, 9, 9, 9, 9, 9, 9, 9, 9]])"
      ]
     },
     "execution_count": 13,
     "metadata": {},
     "output_type": "execute_result"
    }
   ],
   "source": [
    "np.full((10,10), 9, 'int')"
   ]
  },
  {
   "attachments": {},
   "cell_type": "markdown",
   "metadata": {},
   "source": [
    "6. Construct a one-dimensional array with values between 5 and 25 that jumps with steps of 3 (`[5, 8, ...]`)"
   ]
  },
  {
   "cell_type": "code",
   "execution_count": 22,
   "metadata": {},
   "outputs": [
    {
     "data": {
      "text/plain": [
       "array([ 5,  8, 11, 14, 17, 20, 23])"
      ]
     },
     "execution_count": 22,
     "metadata": {},
     "output_type": "execute_result"
    }
   ],
   "source": [
    "np.arange(5,25,3)"
   ]
  },
  {
   "attachments": {},
   "cell_type": "markdown",
   "metadata": {},
   "source": [
    "7. Create an array of size 30 with evenly spaced values between -1 and 1."
   ]
  },
  {
   "cell_type": "code",
   "execution_count": 23,
   "metadata": {},
   "outputs": [
    {
     "data": {
      "text/plain": [
       "array([-1.        , -0.93103448, -0.86206897, -0.79310345, -0.72413793,\n",
       "       -0.65517241, -0.5862069 , -0.51724138, -0.44827586, -0.37931034,\n",
       "       -0.31034483, -0.24137931, -0.17241379, -0.10344828, -0.03448276,\n",
       "        0.03448276,  0.10344828,  0.17241379,  0.24137931,  0.31034483,\n",
       "        0.37931034,  0.44827586,  0.51724138,  0.5862069 ,  0.65517241,\n",
       "        0.72413793,  0.79310345,  0.86206897,  0.93103448,  1.        ])"
      ]
     },
     "execution_count": 23,
     "metadata": {},
     "output_type": "execute_result"
    }
   ],
   "source": [
    "np.linspace(-1, 1, num=30)"
   ]
  },
  {
   "attachments": {},
   "cell_type": "markdown",
   "metadata": {},
   "source": [
    "8. Construct a 5x6 matrix with integers from 0 to 30."
   ]
  },
  {
   "cell_type": "code",
   "execution_count": 32,
   "metadata": {},
   "outputs": [
    {
     "data": {
      "text/plain": [
       "array([[ 0,  1,  2,  3,  4,  5],\n",
       "       [ 6,  7,  8,  9, 10, 11],\n",
       "       [12, 13, 14, 15, 16, 17],\n",
       "       [18, 19, 20, 21, 22, 23],\n",
       "       [24, 25, 26, 27, 28, 29]])"
      ]
     },
     "execution_count": 32,
     "metadata": {},
     "output_type": "execute_result"
    }
   ],
   "source": [
    "np.arange(30).reshape(5,6)"
   ]
  },
  {
   "attachments": {},
   "cell_type": "markdown",
   "metadata": {},
   "source": [
    "9. Create an array of 30 random integers and sort it in ascending order."
   ]
  },
  {
   "cell_type": "code",
   "execution_count": 9,
   "metadata": {},
   "outputs": [
    {
     "data": {
      "text/plain": [
       "array([ 1,  3,  3,  7,  7,  9,  9, 11, 12, 13, 13, 14, 14, 15, 15, 17, 17,\n",
       "       20, 20, 21, 21, 22, 23, 24, 25, 25, 27, 28, 29, 29])"
      ]
     },
     "execution_count": 9,
     "metadata": {},
     "output_type": "execute_result"
    }
   ],
   "source": [
    "matrix = np.sort(np.random.randint(30, size=(30)))\n",
    "matrix"
   ]
  },
  {
   "attachments": {},
   "cell_type": "markdown",
   "metadata": {},
   "source": [
    "10. Construct a 5x10 matrix filled with the value 1 at each location. Print the following details about this matrix:\n",
    "- number of elements\n",
    "- shape of the matrix\n",
    "- the data type (using numpy methods)\n"
   ]
  },
  {
   "cell_type": "code",
   "execution_count": 17,
   "metadata": {},
   "outputs": [
    {
     "name": "stdout",
     "output_type": "stream",
     "text": [
      "Size is:  50\n",
      "Shape is:  (5, 10)\n",
      "Data type is:  float64\n"
     ]
    }
   ],
   "source": [
    "matrix = np.ones((5,10))\n",
    "print(\"Size is: \", matrix.size)\n",
    "print(\"Shape is: \", matrix.shape)\n",
    "print(\"Data type is: \", matrix.dtype)"
   ]
  },
  {
   "attachments": {},
   "cell_type": "markdown",
   "metadata": {},
   "source": [
    "11. Construct a 3x4x7 matrix with random integer values between 0 and 10 (a 3D matrix will be created).\n"
   ]
  },
  {
   "cell_type": "code",
   "execution_count": 19,
   "metadata": {},
   "outputs": [
    {
     "data": {
      "text/plain": [
       "array([[[5, 7, 8, 3, 0, 0, 9],\n",
       "        [3, 6, 1, 2, 0, 4, 0],\n",
       "        [7, 0, 0, 1, 1, 5, 6],\n",
       "        [4, 0, 0, 2, 1, 4, 9]],\n",
       "\n",
       "       [[5, 6, 3, 6, 7, 0, 5],\n",
       "        [7, 4, 3, 1, 5, 5, 0],\n",
       "        [8, 5, 2, 3, 3, 2, 9],\n",
       "        [2, 2, 3, 6, 3, 8, 0]],\n",
       "\n",
       "       [[7, 6, 1, 7, 0, 8, 8],\n",
       "        [1, 6, 9, 2, 6, 9, 8],\n",
       "        [3, 0, 1, 0, 4, 4, 6],\n",
       "        [8, 8, 2, 2, 2, 3, 7]]])"
      ]
     },
     "execution_count": 19,
     "metadata": {},
     "output_type": "execute_result"
    }
   ],
   "source": [
    "matrix = np.random.randint(0,10, size=(3,4,7))\n",
    "matrix"
   ]
  },
  {
   "attachments": {},
   "cell_type": "markdown",
   "metadata": {},
   "source": [
    "12. Create an array of 20 random integers and reshape it into a 4x5 matrix."
   ]
  },
  {
   "cell_type": "code",
   "execution_count": 26,
   "metadata": {},
   "outputs": [
    {
     "data": {
      "text/plain": [
       "array([[32, 67, 32, 13, 20],\n",
       "       [47, 19,  7,  6, 66],\n",
       "       [16, 32, 47, 75, 58],\n",
       "       [85, 21, 29, 37, 50]])"
      ]
     },
     "execution_count": 26,
     "metadata": {},
     "output_type": "execute_result"
    }
   ],
   "source": [
    "np.random.randint(100, size=(20)).reshape(4,5)"
   ]
  },
  {
   "attachments": {},
   "cell_type": "markdown",
   "metadata": {},
   "source": [
    "13. Construct a one-dimensional array by concetanating 4 separate one-dimensional arrays."
   ]
  },
  {
   "cell_type": "code",
   "execution_count": 36,
   "metadata": {},
   "outputs": [
    {
     "data": {
      "text/plain": [
       "array([[81, 95, 23, 22, 61, 95, 36, 11, 54, 12],\n",
       "       [22, 88, 98, 29, 16, 61, 83, 88, 85, 12],\n",
       "       [58, 18, 48, 99, 11, 60, 18, 75,  8, 70],\n",
       "       [27, 77, 94, 51, 82, 15, 68, 98, 11, 24]])"
      ]
     },
     "execution_count": 36,
     "metadata": {},
     "output_type": "execute_result"
    }
   ],
   "source": [
    "arr1 = np.random.randint(100, size=(10))\n",
    "arr2 = np.random.randint(100, size=(10))\n",
    "arr3 = np.random.randint(100, size=(10))\n",
    "arr4 = np.random.randint(100, size=(10))\n",
    "np.vstack((arr1, arr2, arr3, arr4))"
   ]
  },
  {
   "attachments": {},
   "cell_type": "markdown",
   "metadata": {},
   "source": [
    "14. Create a vector of length 3 (3x1) and a matrix of size 3x3. Combine these two arrays on a\n",
    "    column-by-column basis using numpy methods.\n"
   ]
  },
  {
   "cell_type": "code",
   "execution_count": 41,
   "metadata": {},
   "outputs": [
    {
     "data": {
      "text/plain": [
       "array([[1, 9, 6, 9],\n",
       "       [2, 4, 2, 6],\n",
       "       [3, 1, 8, 9]])"
      ]
     },
     "execution_count": 41,
     "metadata": {},
     "output_type": "execute_result"
    }
   ],
   "source": [
    "a = np.array([1, 2, 3]).reshape(-1, 1)\n",
    "b = np.random.randint(0, 10, (3, 3))\n",
    "np.hstack((a, b))"
   ]
  },
  {
   "attachments": {},
   "cell_type": "markdown",
   "metadata": {},
   "source": [
    "15. What is the difference between \"axis=1\" and \"axis=0\" in Numpy functions? "
   ]
  },
  {
   "attachments": {},
   "cell_type": "markdown",
   "metadata": {},
   "source": [
    "axis = 0 - rows\n",
    "axis = 1 - columns"
   ]
  },
  {
   "attachments": {},
   "cell_type": "markdown",
   "metadata": {},
   "source": [
    "16. Create a random 1D vector with 20 elements. Find the 3rd, 5th and 7th elements of this vector.\n"
   ]
  },
  {
   "cell_type": "code",
   "execution_count": 48,
   "metadata": {},
   "outputs": [
    {
     "data": {
      "text/plain": [
       "array([91, 60,  0])"
      ]
     },
     "execution_count": 48,
     "metadata": {},
     "output_type": "execute_result"
    }
   ],
   "source": [
    "arr = np.random.randint(100, size=20)\n",
    "arr[[2,4,6]]"
   ]
  },
  {
   "attachments": {},
   "cell_type": "markdown",
   "metadata": {},
   "source": [
    "17. Create a random vector with 10 elements and replace the 4th element of this array with a different number."
   ]
  },
  {
   "cell_type": "code",
   "execution_count": 50,
   "metadata": {},
   "outputs": [
    {
     "name": "stdout",
     "output_type": "stream",
     "text": [
      "Vector before:  [18 19 56 17 46 48 13 14 30  0]\n",
      "Vector after:  [  18   19   56 1000   46   48   13   14   30    0]\n"
     ]
    }
   ],
   "source": [
    "arr = np.random.randint(100, size=10)\n",
    "print('Vector before: ', arr)\n",
    "arr[3] = 1000\n",
    "print('Vector after: ', arr)"
   ]
  },
  {
   "attachments": {},
   "cell_type": "markdown",
   "metadata": {},
   "source": [
    "18. Look up the concepts of *diagonal matrix* and *trace matrix* online and write a small explanation about what they are.\n"
   ]
  },
  {
   "attachments": {},
   "cell_type": "markdown",
   "metadata": {},
   "source": [
    "Diagonal matrix is a matrix in which the entries outside the main diagonal are all zero.\n",
    "Trace matrix is the sum of elements on the main diadonal af square matrix. "
   ]
  },
  {
   "attachments": {},
   "cell_type": "markdown",
   "metadata": {},
   "source": [
    "19. Create a 5x5 diagonal matrix with elements of your choosing. What are the indexes of the diagonal?\n"
   ]
  },
  {
   "cell_type": "code",
   "execution_count": 62,
   "metadata": {},
   "outputs": [
    {
     "data": {
      "text/plain": [
       "array([[ 3,  0,  0,  0,  0],\n",
       "       [ 0,  9,  0,  0,  0],\n",
       "       [ 0,  0, 15,  0,  0],\n",
       "       [ 0,  0,  0, 21,  0],\n",
       "       [ 0,  0,  0,  0, 27]])"
      ]
     },
     "execution_count": 62,
     "metadata": {},
     "output_type": "execute_result"
    }
   ],
   "source": [
    "matrix = np.arange(3, 28).reshape(5 ,5)\n",
    "diag = np.diag(matrix)\n",
    "np.diag(diag)\n",
    "# indexes of main diagoanl are: [0,0], [1,1], [2,2], [3,3] ...[n,n]"
   ]
  },
  {
   "attachments": {},
   "cell_type": "markdown",
   "metadata": {},
   "source": [
    "20. Create a vector that ranges from 10 to 20. Print the values from the 3rd index to the last index.\n"
   ]
  },
  {
   "cell_type": "code",
   "execution_count": 63,
   "metadata": {},
   "outputs": [
    {
     "data": {
      "text/plain": [
       "array([12, 13, 14, 15, 16, 17, 18, 19])"
      ]
     },
     "execution_count": 63,
     "metadata": {},
     "output_type": "execute_result"
    }
   ],
   "source": [
    "vector = np.arange(10, 20)\n",
    "vector[2:]"
   ]
  },
  {
   "attachments": {},
   "cell_type": "markdown",
   "metadata": {},
   "source": [
    "21. Construct a 10x10 matrix with random elements and perform the following indexing tasks on it. Each task should be a single indexing operation.\n",
    " - Retrieve column 5 of row 3. Moreover;\n",
    " - Retrieve all elements of column 5.\n",
    " - Retrieve the 2nd row of all columns.\n",
    " - Retrieve row 2 through 7 of all columns.\n",
    " - Retrieve values with row index 2 to 5 and column index 3 to 7.\n",
    " - Retrieve the values from row index 5 to the end and column index from the top to 4.\n",
    " - Replace the value corresponding to the 5th row and the 5th column with your year of birth."
   ]
  },
  {
   "cell_type": "code",
   "execution_count": 70,
   "metadata": {},
   "outputs": [
    {
     "data": {
      "text/plain": [
       "array([[83, 91, 74,  3, 78,  5, 93, 50, 61, 56],\n",
       "       [65, 78, 74,  7, 25, 50, 44, 43,  4, 69],\n",
       "       [25, 67, 18, 83, 96, 19, 11, 46,  0, 89],\n",
       "       [13, 63, 37, 36, 10, 99, 76,  2, 32,  5],\n",
       "       [49,  9,  4, 22,  9, 43,  1, 12, 39,  1],\n",
       "       [83, 64, 62, 72, 16,  8, 74, 14, 23, 37],\n",
       "       [34, 93, 94, 48, 68, 61, 59, 49, 77, 74],\n",
       "       [ 8, 33, 75, 98, 34,  0, 39, 63, 21, 59],\n",
       "       [63, 92, 71, 10, 13, 59, 29, 34, 84, 36],\n",
       "       [ 4, 82, 77, 25, 61,  3, 88, 41, 88, 17]])"
      ]
     },
     "execution_count": 70,
     "metadata": {},
     "output_type": "execute_result"
    }
   ],
   "source": [
    "m = np.random.randint(100, size=(10,10))\n",
    "m"
   ]
  },
  {
   "cell_type": "code",
   "execution_count": 71,
   "metadata": {},
   "outputs": [
    {
     "data": {
      "text/plain": [
       "96"
      ]
     },
     "execution_count": 71,
     "metadata": {},
     "output_type": "execute_result"
    }
   ],
   "source": [
    "# Retrieve column 5 of row 3\n",
    "m[2,4]"
   ]
  },
  {
   "cell_type": "code",
   "execution_count": 72,
   "metadata": {},
   "outputs": [
    {
     "data": {
      "text/plain": [
       "array([78, 25, 96, 10,  9, 16, 68, 34, 13, 61])"
      ]
     },
     "execution_count": 72,
     "metadata": {},
     "output_type": "execute_result"
    }
   ],
   "source": [
    "# Retrieve all elements of column 5.\n",
    "m[:, 4]"
   ]
  },
  {
   "cell_type": "code",
   "execution_count": 73,
   "metadata": {},
   "outputs": [
    {
     "data": {
      "text/plain": [
       "array([65, 78, 74,  7, 25, 50, 44, 43,  4, 69])"
      ]
     },
     "execution_count": 73,
     "metadata": {},
     "output_type": "execute_result"
    }
   ],
   "source": [
    "# Retrieve the 2nd row of all columns.\n",
    "m[1, :]"
   ]
  },
  {
   "cell_type": "code",
   "execution_count": 75,
   "metadata": {},
   "outputs": [
    {
     "data": {
      "text/plain": [
       "array([[65, 78, 74,  7, 25, 50, 44, 43,  4, 69],\n",
       "       [25, 67, 18, 83, 96, 19, 11, 46,  0, 89],\n",
       "       [13, 63, 37, 36, 10, 99, 76,  2, 32,  5],\n",
       "       [49,  9,  4, 22,  9, 43,  1, 12, 39,  1],\n",
       "       [83, 64, 62, 72, 16,  8, 74, 14, 23, 37],\n",
       "       [34, 93, 94, 48, 68, 61, 59, 49, 77, 74]])"
      ]
     },
     "execution_count": 75,
     "metadata": {},
     "output_type": "execute_result"
    }
   ],
   "source": [
    "# Retrieve row 2 through 7 of all columns.\n",
    "m[1:7, :]\n"
   ]
  },
  {
   "cell_type": "code",
   "execution_count": 76,
   "metadata": {},
   "outputs": [
    {
     "data": {
      "text/plain": [
       "array([[83, 96, 19, 11],\n",
       "       [36, 10, 99, 76],\n",
       "       [22,  9, 43,  1]])"
      ]
     },
     "execution_count": 76,
     "metadata": {},
     "output_type": "execute_result"
    }
   ],
   "source": [
    "# Retrieve values with row index 2 to 5 and column index 3 to 7.\n",
    "m[2:5, 3:7]"
   ]
  },
  {
   "cell_type": "code",
   "execution_count": 77,
   "metadata": {},
   "outputs": [
    {
     "data": {
      "text/plain": [
       "array([[83, 64, 62, 72],\n",
       "       [34, 93, 94, 48],\n",
       "       [ 8, 33, 75, 98],\n",
       "       [63, 92, 71, 10],\n",
       "       [ 4, 82, 77, 25]])"
      ]
     },
     "execution_count": 77,
     "metadata": {},
     "output_type": "execute_result"
    }
   ],
   "source": [
    "# Retrieve the values from row index 5 to the end and column index from the top to 4.\n",
    "m[5:, :4]"
   ]
  },
  {
   "cell_type": "code",
   "execution_count": 82,
   "metadata": {},
   "outputs": [
    {
     "data": {
      "text/plain": [
       "array([[  83,   91,   74,    3,   78,    5,   93,   50,   61,   56],\n",
       "       [  65,   78,   74,    7,   25,   50,   44,   43,    4,   69],\n",
       "       [  25,   67,   18,   83,   96,   19,   11,   46,    0,   89],\n",
       "       [  13,   63,   37,   36,   10,   99,   76,    2,   32,    5],\n",
       "       [  49,    9,    4,   22, 1990,   43,    1,   12,   39,    1],\n",
       "       [  83,   64,   62,   72,   16,    8,   74,   14,   23,   37],\n",
       "       [  34,   93,   94,   48,   68,   61,   59,   49,   77,   74],\n",
       "       [   8,   33,   75,   98,   34,    0,   39,   63,   21,   59],\n",
       "       [  63,   92,   71,   10,   13,   59,   29,   34,   84,   36],\n",
       "       [   4,   82,   77,   25,   61,    3,   88,   41,   88,   17]])"
      ]
     },
     "execution_count": 82,
     "metadata": {},
     "output_type": "execute_result"
    }
   ],
   "source": [
    "# Replace the value corresponding to the 5th row and the 5th column with your year of birth.\n",
    "matrix = np.copy(m)\n",
    "matrix[4, 4] = 1990\n",
    "matrix"
   ]
  },
  {
   "attachments": {},
   "cell_type": "markdown",
   "metadata": {},
   "source": [
    "22. Construct a one-dimensional array from 0 to 50 jumping with steps of 5 (`[5, 10, ...]`). Use the numpy methods to perform the following tasks;\n",
    "- Print all values greater than 20.\n",
    "- Print all values less than 30.\n",
    "- How many values are 33 in it?\n",
    "- Multiply all the elements of the created array by 5."
   ]
  },
  {
   "cell_type": "code",
   "execution_count": 83,
   "metadata": {},
   "outputs": [
    {
     "data": {
      "text/plain": [
       "array([ 5, 10, 15, 20, 25, 30, 35, 40, 45, 50])"
      ]
     },
     "execution_count": 83,
     "metadata": {},
     "output_type": "execute_result"
    }
   ],
   "source": [
    "arr = np.arange(5, 51, 5)\n"
   ]
  },
  {
   "cell_type": "code",
   "execution_count": 84,
   "metadata": {},
   "outputs": [
    {
     "data": {
      "text/plain": [
       "array([25, 30, 35, 40, 45, 50])"
      ]
     },
     "execution_count": 84,
     "metadata": {},
     "output_type": "execute_result"
    }
   ],
   "source": [
    "#Print all values greater than 20.\n",
    "arr[arr > 20]"
   ]
  },
  {
   "cell_type": "code",
   "execution_count": 85,
   "metadata": {},
   "outputs": [
    {
     "data": {
      "text/plain": [
       "array([ 5, 10, 15, 20, 25])"
      ]
     },
     "execution_count": 85,
     "metadata": {},
     "output_type": "execute_result"
    }
   ],
   "source": [
    "# Print all values less than 30.\n",
    "arr[arr < 30]"
   ]
  },
  {
   "cell_type": "code",
   "execution_count": 88,
   "metadata": {},
   "outputs": [
    {
     "data": {
      "text/plain": [
       "0"
      ]
     },
     "execution_count": 88,
     "metadata": {},
     "output_type": "execute_result"
    }
   ],
   "source": [
    "# How many values are 33 in it?\n",
    "np.count_nonzero(arr == 33)"
   ]
  },
  {
   "cell_type": "code",
   "execution_count": 89,
   "metadata": {},
   "outputs": [
    {
     "data": {
      "text/plain": [
       "array([ 25,  50,  75, 100, 125, 150, 175, 200, 225, 250])"
      ]
     },
     "execution_count": 89,
     "metadata": {},
     "output_type": "execute_result"
    }
   ],
   "source": [
    "# Multiply all the elements of the created array by 5.\n",
    "arr * 5"
   ]
  },
  {
   "attachments": {},
   "cell_type": "markdown",
   "metadata": {},
   "source": [
    "23. Construct an array of 50 random floats between 0 and 1 and take the average. Moreover;\n",
    "- Get the standard deviation.\n",
    "- Get the variance.\n",
    "- Take the median.\n",
    "- Find the smallest value.\n",
    "- Find the largest value."
   ]
  },
  {
   "cell_type": "code",
   "execution_count": 90,
   "metadata": {},
   "outputs": [
    {
     "data": {
      "text/plain": [
       "array([0.81659944, 0.43913491, 0.37694443, 0.46267979, 0.30137787,\n",
       "       0.74760938, 0.50272039, 0.2322127 , 0.89957457, 0.38389122,\n",
       "       0.54355286, 0.90647211, 0.624238  , 0.11689804, 0.93983212,\n",
       "       0.62770805, 0.33490561, 0.13927207, 0.79402519, 0.62007276,\n",
       "       0.53346109, 0.89389258, 0.78859721, 0.15167488, 0.31172207,\n",
       "       0.24848914, 0.74394629, 0.03353243, 0.56988968, 0.76245869,\n",
       "       0.87676564, 0.34208175, 0.8212573 , 0.11063174, 0.84645229,\n",
       "       0.12748866, 0.39728729, 0.79729537, 0.14991743, 0.2292514 ,\n",
       "       0.72225257, 0.72003654, 0.64114763, 0.69394844, 0.54272444,\n",
       "       0.25179906, 0.34569599, 0.18159772, 0.90845056, 0.58339179])"
      ]
     },
     "execution_count": 90,
     "metadata": {},
     "output_type": "execute_result"
    }
   ],
   "source": [
    "arr = np.random.rand(50)\n",
    "arr"
   ]
  },
  {
   "cell_type": "code",
   "execution_count": 91,
   "metadata": {},
   "outputs": [
    {
     "data": {
      "text/plain": [
       "0.2661237833967229"
      ]
     },
     "execution_count": 91,
     "metadata": {},
     "output_type": "execute_result"
    }
   ],
   "source": [
    "#Get the standard deviation.\n",
    "np.std(arr)"
   ]
  },
  {
   "cell_type": "code",
   "execution_count": 94,
   "metadata": {},
   "outputs": [
    {
     "data": {
      "text/plain": [
       "0.5227371839565556"
      ]
     },
     "execution_count": 94,
     "metadata": {},
     "output_type": "execute_result"
    }
   ],
   "source": [
    "# Get the variance.\n",
    "np.mean(arr)"
   ]
  },
  {
   "cell_type": "code",
   "execution_count": 95,
   "metadata": {},
   "outputs": [
    {
     "data": {
      "text/plain": [
       "0.5431386522307924"
      ]
     },
     "execution_count": 95,
     "metadata": {},
     "output_type": "execute_result"
    }
   ],
   "source": [
    "# Take the median.\n",
    "np.median(arr)"
   ]
  },
  {
   "cell_type": "code",
   "execution_count": 92,
   "metadata": {},
   "outputs": [
    {
     "data": {
      "text/plain": [
       "0.03353243473577938"
      ]
     },
     "execution_count": 92,
     "metadata": {},
     "output_type": "execute_result"
    }
   ],
   "source": [
    "# Find the smallest value.\n",
    "np.min(arr)"
   ]
  },
  {
   "cell_type": "code",
   "execution_count": 93,
   "metadata": {},
   "outputs": [
    {
     "data": {
      "text/plain": [
       "0.9398321236134751"
      ]
     },
     "execution_count": 93,
     "metadata": {},
     "output_type": "execute_result"
    }
   ],
   "source": [
    "# Find the largest value.\n",
    "np.max(arr)"
   ]
  },
  {
   "attachments": {},
   "cell_type": "markdown",
   "metadata": {},
   "source": [
    "24. What are the differences between Pandas Series and NumPy arrays?"
   ]
  },
  {
   "attachments": {},
   "cell_type": "markdown",
   "metadata": {},
   "source": [
    "1. Pandas Series is a one-dimensional labeled array capable of holding any data type, while NumPy arrays are strictly multidimensional arrays of a single data type.\n",
    "\n",
    "2. NumPy arrays are faster and use less memory than Pandas Series, but Pandas Series offer more flexibility and additional functionalities.\n",
    "\n",
    "3. Pandas Series can contain heterogeneous data types, while NumPy arrays only contain homogeneous data.\n",
    "\n",
    "4. Pandas Series have an explicit index, while NumPy arrays have an implicit index.\n",
    "\n",
    "5. Pandas Series are built on top of NumPy arrays and provide additional functionalities such as automatic alignment, easy data manipulation, and handling of missing data."
   ]
  },
  {
   "attachments": {},
   "cell_type": "markdown",
   "metadata": {},
   "source": [
    "25. Create a 5-element series with different data types, with an index of capital letters."
   ]
  },
  {
   "cell_type": "code",
   "execution_count": 97,
   "metadata": {},
   "outputs": [
    {
     "data": {
      "text/plain": [
       "A      wer\n",
       "B       34\n",
       "C    34.56\n",
       "D        0\n",
       "E        3\n",
       "dtype: object"
      ]
     },
     "execution_count": 97,
     "metadata": {},
     "output_type": "execute_result"
    }
   ],
   "source": [
    "a = ['wer', 34, 34.56, 0, 3]\n",
    "indexes = 'A B C D E'.split()\n",
    "pd.Series(a, indexes)"
   ]
  },
  {
   "attachments": {},
   "cell_type": "markdown",
   "metadata": {},
   "source": [
    "26. Create a 5-element dictionary with keys as country names and values as capitals and turn it into a series. An example: ` \"france\" : \"paris\"`)."
   ]
  },
  {
   "cell_type": "code",
   "execution_count": 99,
   "metadata": {},
   "outputs": [
    {
     "data": {
      "text/plain": [
       "ukraine             kiyv\n",
       "russia            moscow\n",
       "netherlands    amsterdam\n",
       "germany           berlin\n",
       "france             paris\n",
       "dtype: object"
      ]
     },
     "execution_count": 99,
     "metadata": {},
     "output_type": "execute_result"
    }
   ],
   "source": [
    "countries = {\n",
    "    \"ukraine\": \"kiyv\",\n",
    "    \"russia\": \"moscow\",\n",
    "    'netherlands': 'amsterdam',\n",
    "    'germany': 'berlin',\n",
    "    'france': 'paris'\n",
    "}\n",
    "\n",
    "pd.Series(countries)"
   ]
  },
  {
   "attachments": {},
   "cell_type": "markdown",
   "metadata": {},
   "source": [
    "27. Create a random vector with 10 elements.\n",
    "- Convert the vector to series and with strings as indeces. For example, a,b,c,d,e,f,g..\n",
    "- Retrieve the 3rd element of the series using the index name (for example: c).\n",
    "- Retrieve the 1st element of the series using the index number.\n",
    "- Access the 2nd and 7th elements of the series at the same time, using the index name. (Example: values corresponding to index b and g)"
   ]
  },
  {
   "cell_type": "code",
   "execution_count": 100,
   "metadata": {},
   "outputs": [
    {
     "data": {
      "text/plain": [
       "array([0, 1, 2, 3, 4, 5, 6, 7, 8, 9])"
      ]
     },
     "execution_count": 100,
     "metadata": {},
     "output_type": "execute_result"
    }
   ],
   "source": [
    "vector = np.arange(10)\n",
    "vector"
   ]
  },
  {
   "cell_type": "code",
   "execution_count": 102,
   "metadata": {},
   "outputs": [
    {
     "data": {
      "text/plain": [
       "a    0\n",
       "b    1\n",
       "c    2\n",
       "d    3\n",
       "e    4\n",
       "f    5\n",
       "g    6\n",
       "j    7\n",
       "i    8\n",
       "k    9\n",
       "dtype: int64"
      ]
     },
     "execution_count": 102,
     "metadata": {},
     "output_type": "execute_result"
    }
   ],
   "source": [
    "# Convert the vector to series and with strings as indeces. For example, a,b,c,d,e,f,g..\n",
    "series = pd.Series(vector, [i for i in 'abcdefgjik'])\n",
    "series"
   ]
  },
  {
   "cell_type": "code",
   "execution_count": 104,
   "metadata": {},
   "outputs": [
    {
     "data": {
      "text/plain": [
       "2"
      ]
     },
     "execution_count": 104,
     "metadata": {},
     "output_type": "execute_result"
    }
   ],
   "source": [
    "# Retrieve the 3rd element of the series using the index name (for example: c).\n",
    "series['c']"
   ]
  },
  {
   "cell_type": "code",
   "execution_count": 105,
   "metadata": {},
   "outputs": [
    {
     "data": {
      "text/plain": [
       "0"
      ]
     },
     "execution_count": 105,
     "metadata": {},
     "output_type": "execute_result"
    }
   ],
   "source": [
    "# Retrieve the 1st element of the series using the index number.\n",
    "series['a']"
   ]
  },
  {
   "cell_type": "code",
   "execution_count": 107,
   "metadata": {},
   "outputs": [
    {
     "data": {
      "text/plain": [
       "b    1\n",
       "g    6\n",
       "dtype: int64"
      ]
     },
     "execution_count": 107,
     "metadata": {},
     "output_type": "execute_result"
    }
   ],
   "source": [
    "# Access the 2nd and 7th elements of the series at the same time, using the index name. (Example: values corresponding to index b and g)\n",
    "series[['b', 'g']]"
   ]
  },
  {
   "attachments": {},
   "cell_type": "markdown",
   "metadata": {},
   "source": [
    "28. Create two 5-element series with elements of your choice with default index.\n",
    "- Combine the series you have created.\n",
    "- Arrange the index of the resulting concatenated 10-element series from 1 to 10."
   ]
  },
  {
   "cell_type": "code",
   "execution_count": 118,
   "metadata": {},
   "outputs": [
    {
     "name": "stdout",
     "output_type": "stream",
     "text": [
      "First Series: \n",
      "0    A\n",
      "1    B\n",
      "2    C\n",
      "3    D\n",
      "4    E\n",
      "dtype: object\n",
      "\n",
      "Second Series: \n",
      "0    a\n",
      "1    b\n",
      "2    c\n",
      "3    d\n",
      "4    e\n",
      "dtype: object\n"
     ]
    }
   ],
   "source": [
    "ser1 = pd.Series([i for i in 'ABCDE'])\n",
    "ser2 = pd.Series([i for i in 'abcde'])\n",
    "print( 'First Series: ')\n",
    "print(ser1)\n",
    "print()\n",
    "print( 'Second Series: ')\n",
    "print(ser2)"
   ]
  },
  {
   "cell_type": "code",
   "execution_count": 128,
   "metadata": {},
   "outputs": [
    {
     "data": {
      "text/plain": [
       "0    A\n",
       "1    B\n",
       "2    C\n",
       "3    D\n",
       "4    E\n",
       "0    a\n",
       "1    b\n",
       "2    c\n",
       "3    d\n",
       "4    e\n",
       "dtype: object"
      ]
     },
     "execution_count": 128,
     "metadata": {},
     "output_type": "execute_result"
    }
   ],
   "source": [
    "# Combine the series you have created.\n",
    "concat = pd.concat([ser1, ser2])\n",
    "concat"
   ]
  },
  {
   "cell_type": "code",
   "execution_count": 127,
   "metadata": {},
   "outputs": [
    {
     "data": {
      "text/html": [
       "<div>\n",
       "<style scoped>\n",
       "    .dataframe tbody tr th:only-of-type {\n",
       "        vertical-align: middle;\n",
       "    }\n",
       "\n",
       "    .dataframe tbody tr th {\n",
       "        vertical-align: top;\n",
       "    }\n",
       "\n",
       "    .dataframe thead th {\n",
       "        text-align: right;\n",
       "    }\n",
       "</style>\n",
       "<table border=\"1\" class=\"dataframe\">\n",
       "  <thead>\n",
       "    <tr style=\"text-align: right;\">\n",
       "      <th></th>\n",
       "      <th>index</th>\n",
       "      <th>0</th>\n",
       "    </tr>\n",
       "  </thead>\n",
       "  <tbody>\n",
       "    <tr>\n",
       "      <th>0</th>\n",
       "      <td>0</td>\n",
       "      <td>A</td>\n",
       "    </tr>\n",
       "    <tr>\n",
       "      <th>1</th>\n",
       "      <td>1</td>\n",
       "      <td>B</td>\n",
       "    </tr>\n",
       "    <tr>\n",
       "      <th>2</th>\n",
       "      <td>2</td>\n",
       "      <td>C</td>\n",
       "    </tr>\n",
       "    <tr>\n",
       "      <th>3</th>\n",
       "      <td>3</td>\n",
       "      <td>D</td>\n",
       "    </tr>\n",
       "    <tr>\n",
       "      <th>4</th>\n",
       "      <td>4</td>\n",
       "      <td>E</td>\n",
       "    </tr>\n",
       "    <tr>\n",
       "      <th>5</th>\n",
       "      <td>0</td>\n",
       "      <td>a</td>\n",
       "    </tr>\n",
       "    <tr>\n",
       "      <th>6</th>\n",
       "      <td>1</td>\n",
       "      <td>b</td>\n",
       "    </tr>\n",
       "    <tr>\n",
       "      <th>7</th>\n",
       "      <td>2</td>\n",
       "      <td>c</td>\n",
       "    </tr>\n",
       "    <tr>\n",
       "      <th>8</th>\n",
       "      <td>3</td>\n",
       "      <td>d</td>\n",
       "    </tr>\n",
       "    <tr>\n",
       "      <th>9</th>\n",
       "      <td>4</td>\n",
       "      <td>e</td>\n",
       "    </tr>\n",
       "  </tbody>\n",
       "</table>\n",
       "</div>"
      ],
      "text/plain": [
       "   index  0\n",
       "0      0  A\n",
       "1      1  B\n",
       "2      2  C\n",
       "3      3  D\n",
       "4      4  E\n",
       "5      0  a\n",
       "6      1  b\n",
       "7      2  c\n",
       "8      3  d\n",
       "9      4  e"
      ]
     },
     "execution_count": 127,
     "metadata": {},
     "output_type": "execute_result"
    }
   ],
   "source": [
    "# Arrange the index of the resulting concatenated 10-element series from 1 to 10.\n",
    "# ser1.append(ser2, ignore_index = True)\n",
    "# In pd 2.0, append has been removed\n",
    "\n",
    "new = concat.reset_index()\n",
    "new\n"
   ]
  },
  {
   "attachments": {},
   "cell_type": "markdown",
   "metadata": {},
   "source": [
    "**Bonus homework**:\n",
    "\n",
    "\n",
    "Generate two 20x20 matrices with values between 0 and 1 randomly in a loop and take the difference of these\n",
    "matrices. Repeat this process until all elements on the diagonal of the difference matrix\n",
    "is between -0.1 and 0.1. When the desired matrix is found, let the program stop\n",
    "and print the total number of cycles, how long it took, and the desired matrix\n",
    "with print.\n",
    "\n",
    "\n",
    "Tip: Finding the 20 x 20 matrix can take hours. Therefore, to test the accuracy\n",
    "of your algorithm, you can first try it on small matrices such as 4x4, 5x5. And\n",
    "you can try the latest 20x20 by increasing the number of matrix. (You can do\n",
    "the matrix generation with the np.random.random((a,b)) function. It generates\n",
    "an array of desired sizes between 0-1.)\n"
   ]
  },
  {
   "cell_type": "code",
   "execution_count": 8,
   "metadata": {},
   "outputs": [
    {
     "name": "stdout",
     "output_type": "stream",
     "text": [
      "[[0.80203982 0.30776679 0.96514057 0.22254882 0.96082357 0.88386248\n",
      "  0.70451455 0.81831221 0.14548417 0.8959089 ]\n",
      " [0.98036683 0.14353201 0.28529909 0.69382485 0.60194746 0.475862\n",
      "  0.31297111 0.97058358 0.17919567 0.15907398]\n",
      " [0.41137242 0.48203334 0.46616916 0.76720021 0.29136543 0.0795811\n",
      "  0.78117109 0.12738464 0.68651872 0.39496577]\n",
      " [0.54496983 0.37466624 0.0617913  0.53042882 0.40448796 0.76969605\n",
      "  0.20853571 0.51940513 0.91002657 0.00812047]\n",
      " [0.51407471 0.65924698 0.27077373 0.26043534 0.87028382 0.48404125\n",
      "  0.11449501 0.35794764 0.08981719 0.08823397]\n",
      " [0.38782498 0.68402206 0.11227034 0.50878429 0.48766131 0.12199372\n",
      "  0.95849971 0.98251215 0.55170378 0.59825786]\n",
      " [0.41522148 0.70202938 0.21248676 0.22896877 0.15433878 0.25010281\n",
      "  0.46566852 0.06914628 0.39681494 0.55999141]\n",
      " [0.41197287 0.69454831 0.32287117 0.96678505 0.83378521 0.7331555\n",
      "  0.70858667 0.12600876 0.34546425 0.00619238]\n",
      " [0.52984152 0.37588775 0.56028108 0.05727417 0.24793042 0.68294765\n",
      "  0.52578849 0.66889901 0.21294442 0.05397293]\n",
      " [0.82445666 0.76913988 0.62643065 0.48334431 0.65385235 0.49251463\n",
      "  0.76416145 0.69881082 0.13019246 0.31224236]]\n",
      "[[0.72172713 0.29042274 0.64270024 0.38845608 0.3129209  0.65477374\n",
      "  0.71715283 0.2777364  0.2432717  0.53544144]\n",
      " [0.4241309  0.21952347 0.56259197 0.88888657 0.57858518 0.72735638\n",
      "  0.61142464 0.66673123 0.33966524 0.19494811]\n",
      " [0.55280306 0.89255497 0.47260232 0.27342196 0.0339077  0.96913436\n",
      "  0.93195147 0.37059954 0.2995923  0.59400496]\n",
      " [0.17203848 0.64198514 0.03786261 0.59183775 0.57453254 0.41388092\n",
      "  0.29310621 0.60934775 0.08744375 0.39002541]\n",
      " [0.51377704 0.53389463 0.40633852 0.72062933 0.88069679 0.7699717\n",
      "  0.58540794 0.84959961 0.09337854 0.64184151]\n",
      " [0.37776693 0.66785879 0.03977042 0.70634943 0.44832173 0.06685455\n",
      "  0.37565078 0.37979734 0.00338834 0.05422313]\n",
      " [0.1749701  0.84853587 0.7494622  0.17769094 0.18820354 0.43967561\n",
      "  0.50601262 0.765384   0.29873345 0.03724428]\n",
      " [0.67970462 0.4620484  0.15482759 0.52098347 0.84076659 0.78468796\n",
      "  0.32573173 0.14698139 0.50888749 0.6979796 ]\n",
      " [0.47917136 0.1064288  0.9428681  0.23238226 0.10254983 0.96916175\n",
      "  0.65787511 0.52870638 0.13661541 0.6500279 ]\n",
      " [0.73110796 0.15028509 0.88760282 0.2838273  0.83642589 0.65564531\n",
      "  0.21397019 0.81672623 0.03382522 0.35373184]]\n",
      "<built-in method diagonal of numpy.ndarray object at 0x7ffab5e4cc90>\n",
      "Time taken:  3.69028902053833\n"
     ]
    }
   ],
   "source": [
    "# YOUR CODE HERE\n",
    "import numpy as np\n",
    "np.random.seed(42)\n",
    "import time\n",
    "\n",
    "size = 10\n",
    "\n",
    "# record how long the while loop takes\n",
    "start = time.time()\n",
    "\n",
    "while True:\n",
    "    # generate two random matrices of size 3x3\n",
    "    a = np.random.random((size, size))\n",
    "    b = np.random.random((size, size))\n",
    "\n",
    "    diff = np.abs(a - b)\n",
    "    # get diagonal of diff\n",
    "    if np.all(np.diag(diff) <= 0.1):\n",
    "        print(\"Found a match!\")\n",
    "        print(\"matrix 1:\")\n",
    "        print(a)\n",
    "        print(\"matrix 2:\")\n",
    "        print(b)\n",
    "        print(\"diagonal of diff:\")\n",
    "        print(np.diagonal(diff))\n",
    "        break\n",
    "\n",
    "# stop time\n",
    "end = time.time()\n",
    "print(\"Time taken: \", end - start)\n"
   ]
  }
 ],
 "metadata": {
  "kernelspec": {
   "display_name": "Python 3",
   "language": "python",
   "name": "python3"
  },
  "language_info": {
   "codemirror_mode": {
    "name": "ipython",
    "version": 3
   },
   "file_extension": ".py",
   "mimetype": "text/x-python",
   "name": "python",
   "nbconvert_exporter": "python",
   "pygments_lexer": "ipython3",
   "version": "3.11.3"
  },
  "orig_nbformat": 4,
  "vscode": {
   "interpreter": {
    "hash": "8a94588eda9d64d9e9a351ab8144e55b1fabf5113b54e67dd26a8c27df0381b3"
   }
  }
 },
 "nbformat": 4,
 "nbformat_minor": 2
}
